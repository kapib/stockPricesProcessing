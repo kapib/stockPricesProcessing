{
 "cells": [
  {
   "cell_type": "code",
   "execution_count": 34,
   "metadata": {
    "collapsed": true
   },
   "outputs": [],
   "source": [
    "import matplotlib\n",
    "matplotlib.use('TkAgg')\n",
    "import numpy as np\n",
    "import pandas as pd\n",
    "from pandas import Series,DataFrame\n",
    "import matplotlib.pyplot as plt"
   ]
  },
  {
   "cell_type": "code",
   "execution_count": 1,
   "metadata": {
    "collapsed": true
   },
   "outputs": [],
   "source": [
    "%matplotlib inline"
   ]
  },
  {
   "cell_type": "code",
   "execution_count": 35,
   "metadata": {
    "collapsed": false
   },
   "outputs": [],
   "source": [
    "#株価データをdatagetのダウンロードファイルから読み込み、pandasのデータフレームにするクラスを作る\n",
    "#20160425追記 5分足の処理にバグあり。最後の時間のデータがNanだと全体がNanになっている。\n",
    "#5分足を作ってもよいかもしれないな。。\n",
    "#どうも5分足のルールは、始まりの瞬間はその時間つまり9時と12時半は5分集計でなく、瞬間集計?で、あとは5分集計になっているようだ。\n",
    "#しかしこれはちゃんと確認は必要\n",
    "#まあ一回やってみるか\n",
    "import matplotlib\n",
    "matplotlib.use('TkAgg')\n",
    "import numpy as np\n",
    "import pandas as pd\n",
    "from pandas import Series,DataFrame\n",
    "import matplotlib.pyplot as plt\n",
    "\n",
    "\n",
    "class GetPriceFrom1dayDatas():\n",
    "    '1日分の1分足の集合体データから任意の銘柄の株価を取得する'\n",
    "    def __init__(self, filename):\n",
    "        #後で使用するインスタンス変数を設定\n",
    "        self.index = None\n",
    "\n",
    "        with open(filename, 'r',encoding='EUC-JP') as a_file:\n",
    "            fr = a_file.readlines()\n",
    "        self.date = fr[0].split('\\t')[0] #日付の取得\n",
    "        #各銘柄のヘッダー情報と、株価情報にわける。さらに株価情報は時間と、4本値と出来高を分ける。\n",
    "        #ヘッダー情報はそこから銘柄コードとデータ数と小数点数に分ける\n",
    "        #一列のデータが7個と4本値のデータが1個になる。あとは日付か。\n",
    "        self.header = []\n",
    "        self.time_series = []\n",
    "        self.four_values_lis = []\n",
    "        self.volume_lis = []\n",
    "        self.time_lis = []\n",
    "        \n",
    "        n = np.nan\n",
    "        def f(x): #これしたの関数とかぶっているな。直そう\n",
    "            if x == '-':\n",
    "                return np.nan\n",
    "            else:\n",
    "                return int(x)\n",
    "\n",
    "        for i in fr[1:]: #日付のデータを除いてる\n",
    "            split = i.split('\\t')\n",
    "            self.header.append(split[:3]) #最初の3つのデータは、銘柄コード・データ本数・小数点\n",
    "            p = split[3:] #それ以降が、時間と4本値と出来高の6セットが9時から15時まで続くデータ\n",
    "            self.time_lis.append(p[::6][:-1])\n",
    "            ary = range(len(p))\n",
    "            four_values = [p[x] for x in ary if  (x % 6 != 0) and (x % 6 != 5)] #時間と出来高を除く\n",
    "            four_values =np.array(list(map(self.hyphen2npn,four_values))) #欠損値をnp.nanにして、価格をintにする\n",
    "            self.four_values_lis.append(four_values)\n",
    "        #     four_values_lis = np.append(four_values_lis, four_values)\n",
    "            volume = [p[x] for x in ary if x % 6 == 5]\n",
    "            volume =np.array(list(map(self.hyphen2npn,volume)))  #欠損値をnp.nanにして、volumeを数値にしているのかな？listなにしてるの・・・\n",
    "            self.volume_lis.append(volume) \n",
    "\n",
    "        #ヘッダーから銘柄コードと、データ数と、小数点を抽出\n",
    "        self.stock_code_lis = [x[0] for x in self.header]\n",
    "        self.stock_code_lis = [int(x) for x in self.stock_code_lis] #文字列から整数型にしておく\n",
    "        self.data_num_lis = [int(x[1]) for x in self.header]\n",
    "        self.decimal_lis = [int(x[2]) for x in self.header]\n",
    "\n",
    "        \n",
    "    def hyphen2npn(self, x):\n",
    "        if x == '-':\n",
    "            return np.nan\n",
    "        else:\n",
    "            return int(x)\n",
    "    #銘柄コードを入れると、indexを返す関数。indexとはdatagetが提供しているファイルの中でのデータ順番\n",
    "    def get_index(self, stock_code):\n",
    "        try:\n",
    "            self.index = self.stock_code_lis.index(stock_code)\n",
    "            return self.index\n",
    "        except:\n",
    "            #ここでもっと普遍的なエラーを発生させたほうがよいな。\n",
    "            print('Your code is not in the list.')\n",
    "            raise #これをいれると、エラーを呼び出した関数に渡すことができる\n",
    "    #銘柄コードを入れると、時刻データを取得\n",
    "    def get_time_series(self, stock_code):\n",
    "        try:\n",
    "            t = self.time_lis[self.get_index(stock_code)] #これだとエラーを吐き出せない？？get_indexにraiseをつければ大丈夫\n",
    "            t = [self.date + x for x in t] #日付を付け足しておく。dateは一番最初に取得してある日付。\n",
    "            dt = pd.to_datetime(t) #pandasのtimestampオブジェクトに変換する\n",
    "            return dt\n",
    "        except:\n",
    "            print('Error!')\n",
    "    #銘柄コードを入れると、出来高を取得\n",
    "    def get_volume(self, stock_code):\n",
    "        try:\n",
    "            volume = self.volume_lis[self.get_index(stock_code)]\n",
    "            #時系列の取得\n",
    "            time_stamps = self.get_time_series(stock_code)\n",
    "            #pandasデータフレームに変換する\n",
    "            df = pd.DataFrame(volume, index=time_stamps, columns=['volume'])\n",
    "            #出来高が積算になっているので差分をとっておく\n",
    "            v = df.values.flatten()\n",
    "            vd = np.append(v[0], v[1:] - v[:-1])\n",
    "            vdf = DataFrame(vd, index = df.index, columns=['volume'])\n",
    "            return vdf\n",
    "        except:\n",
    "            print('Error!')\n",
    "\n",
    "    def get_four_prices(self, stock_code):\n",
    "        try:\n",
    "            self.index = self.get_index(stock_code)\n",
    "            data_num = self.data_num_lis[self.index]\n",
    "            #小数点合わせる #厳密にやるならdecimalを使う必要があるが、、numpyでは扱えないのでやめる\n",
    "            #だから差分を比較するとかするときは注意が必要！地雷になりませんように。。\n",
    "            four_prices = self.four_values_lis[self.index] /10**self.decimal_lis[self.index]\n",
    "            #2次元配列に変える\n",
    "            four_prices.shape = (four_prices.size//4, 4)\n",
    "            #時系列の取得\n",
    "            time_stamps = self.get_time_series(stock_code)\n",
    "            #pandasデータフレームに変換する\n",
    "            df = pd.DataFrame(four_prices, index=time_stamps, columns=['open','high','low','close'])\n",
    "            if len(df) == data_num: #データの数が合っているかチェックする\n",
    "                return df\n",
    "            else:\n",
    "                return print('data_num error')\n",
    "        except:\n",
    "            print('Error')\n",
    "\n",
    "    def get_four_prices_volume(self, stock_code):\n",
    "        price_df = self.get_four_prices(stock_code)\n",
    "        volume_df = self.get_volume(stock_code)\n",
    "        df = pd.concat([price_df, volume_df], axis=1)\n",
    "        return df\n",
    "    \n",
    "    def get_four_prices_volume_5min(self,stock_code):\n",
    "        #1分足のデータフレームを取得する\n",
    "        min1_df = self.get_four_prices_volume(stock_code)\n",
    "        #午前の終わりの11:30を特定する\n",
    "        t1130 = pd.to_datetime(self.date + '1130')\n",
    "        time_series = min1_df.index\n",
    "        t1130_index, = time_series.indexer_at_time(t1130) #1130のindexを特定.カンマはarrayから取り出している\n",
    "        #午後の引けを特定する.こっちは最後のデータのindexを探す\n",
    "        tClosed_index, = time_series.indexer_at_time(time_series[-1])\n",
    "        #午前と午後にわける\n",
    "        min1_dfam = min1_df.iloc[:t1130_index+1]\n",
    "        min1_dfpm = min1_df.iloc[t1130_index+1:]\n",
    "        #始値と終値を出す処理用関数\n",
    "        def detect_openclose_price(price_list):\n",
    "            '''価格のリストのデータを入れて始値と終値を返す'''\n",
    "            for  i in price_list:\n",
    "                if np.isnan(i):\n",
    "                    price = np.nan\n",
    "                else:\n",
    "                    return i\n",
    "                    break\n",
    "                return price\n",
    "        #午前と午後の処理をする\n",
    "        def min5(df):\n",
    "            #始値,終値,高値,安値,出来高を取得する\n",
    "            op, cl, hi, lo, vo = df['open'], df['close'],df['high'], df['low'], df['volume'] # データ型がseriesになる\n",
    "            #まず時間を作る。午前と午後の引けだけ特別扱いする\n",
    "            time_index = op.index[::5] #これで特別扱いしていることなっている。0始まりだから。\n",
    "            #始値と終値を作る処理をする\n",
    "            #マルチターゲット代入というらしい\n",
    "            oplis = cllis = hilis = lolis = volis = np.array([])\n",
    "            \n",
    "            for i in np.arange(0,len(df)-1, 5): #引けのデータは別扱いにするために、-1をする\n",
    "                #もし15時3分だったらどうするのか？エラーになる。。それいかんな。tryを使おう。\n",
    "                #close priceはリストを逆順にしたらよい\n",
    "                #np.nanがあるときの扱いを変える必要がある\n",
    "                p = detect_openclose_price(op[i:i + 5])\n",
    "                oplis = np.append(oplis, p)\n",
    "                p = detect_openclose_price(cl[i:i + 5][::-1]) #リストを逆にして入れる\n",
    "                cllis = np.append(cllis, p)\n",
    "\n",
    "                p = np.nanmax(hi[i:i + 5].values) \n",
    "                hilis = np.append(hilis, p)\n",
    "                p = np.nanmin(lo[i:i + 5].values)\n",
    "                lolis= np.append(lolis, p)\n",
    "                \n",
    "                v = vo[i:i + 5].values.sum() \n",
    "                volis = np.append(volis, v)\n",
    "\n",
    "            #dataframeに直す\n",
    "            t = np.array([oplis, hilis, lolis, cllis,volis])\n",
    "            df1 = DataFrame(t.T, index = time_index[:-1],columns=['open','high','low','close','volume'])\n",
    "            df2 = df.tail(1)\n",
    "            df3 = pd.concat([df1, df2])\n",
    "            return df3\n",
    "        #午前と午後を処理して結合して返す\n",
    "        return pd.concat([min5(min1_dfam), min5(min1_dfpm)])\n",
    "    \n",
    "    def plot_5min(self,stock_code):\n",
    "        '''5分足のチャートをプロットする'''\n",
    "        import matplotlib.dates as md\n",
    "        import datetime\n",
    "        import matplotlib.pyplot as plt\n",
    "        from matplotlib.dates import DateFormatter\n",
    "        from matplotlib.finance import candlestick_ohlc\n",
    "        import matplotlib.ticker as mticker\n",
    "\n",
    "        df_name = self.get_four_prices_volume_5min(stock_code)\n",
    "\n",
    "        pytime = [x.to_datetime() for x in df_name.index]\n",
    "        mpltime = [md.date2num(x) for x in pytime]\n",
    "        #次にohlc形式のリストを作ろう\n",
    "        ohlc = [(t, v[0],v[1],v[2],v[3]) for t, v in zip(mpltime, df_name.values)]\n",
    "\n",
    "        # dayFormatter = DateFormatter('%d')      # e.g., 12\n",
    "\n",
    "        # fig, (ax1, ax2) = plt.subplots(nrows=2, figsize=(12,12), sharex=True)\n",
    "        fig = plt.figure(figsize=(10,8))\n",
    "        #サイズを調整できる 表示位置と比は(left, bottom, width, height)のように指定できます。\n",
    "        ax1 = fig.add_axes((0, 0.25, 1, 0.7))\n",
    "        ax2 = fig.add_axes((0, 0, 1, 0.2), sharex=ax1) #x軸をshareしている\n",
    "\n",
    "        # ax1 = fig.add_subplot(211)\n",
    "        # ax2 = fig.add_subplot(212, sharex = ax1)\n",
    "\n",
    "        # fig.subplots_adjust(bottom=0.2)\n",
    "\n",
    "        #昼休みをスキップするようなlocator必要かも。\n",
    "        # minute = md.MinuteLocator()\n",
    "        hour = md.HourLocator()\n",
    "        ax1.xaxis.set_major_locator(hour)\n",
    "        # ax.xaxis.set_major_locator(mticker.MaxNLocator(15))\n",
    "        #30分のラインも引きたいところだ.\n",
    "        #x軸の範囲はどうきめるのだろうか？\n",
    "        #引き渡してる値を使うのかも→その通り\n",
    "        #mpltimeを使って操作する\n",
    "        # ax.set_xlim( 736018.3819444445, 736018.625)\n",
    "\n",
    "        dayFormatter = md.DateFormatter('%H:%M')\n",
    "        ax1.xaxis.set_major_formatter(dayFormatter)\n",
    "\n",
    "        ax1.grid(True)\n",
    "\n",
    "        #ローソク足チャートを描画する\n",
    "        #太さを自動調整するように関数必要かもしれないな。\n",
    "        candlestick_ohlc(ax1, ohlc,width=0.0025,colorup='cornflowerblue', colordown='midnightblue')\n",
    "\n",
    "        ax1.xaxis.set_major_locator(hour)\n",
    "\n",
    "        dayFormatter = md.DateFormatter('%H:%M')\n",
    "        ax1.xaxis.set_major_formatter(dayFormatter)\n",
    "\n",
    "        ax1.grid(True)\n",
    "\n",
    "        ax2.bar(mpltime, df_name['volume'].values,width = 0.0025, color = 'darkslateblue', edgecolor='none')\n",
    "        ax2.xaxis.set_major_locator(hour)\n",
    "        ax2.xaxis.set_major_formatter(dayFormatter)\n",
    "        ax2.grid(True)\n",
    "\n",
    "\n",
    "        # ax.xaxis_date()\n",
    "        # ax.autoscale_view()\n",
    "        # plt.setp(plt.gca().get_xticklabels(), rotation=45, horizontalalignment='right')\n",
    "        # plt.xlabel('Hour')\n",
    "        # plt.ylabel('Price')\n",
    "        # plt.title('ohlc chart')\n",
    "\n",
    "        plt.show()        \n",
    "\n"
   ]
  },
  {
   "cell_type": "code",
   "execution_count": 49,
   "metadata": {
    "collapsed": false
   },
   "outputs": [],
   "source": [
    "#今ある株価データのpickleデータをつくる\n",
    "path = '/Users/prokapi/iPythonNotebook_file/株価データ/'\n",
    "fname = '2016*min*s.txt'\n",
    "import glob\n",
    "flist = glob.glob(path+fname)"
   ]
  },
  {
   "cell_type": "code",
   "execution_count": 56,
   "metadata": {
    "collapsed": false
   },
   "outputs": [],
   "source": [
    "fname_ls = []\n",
    "for f in flist:\n",
    "    date = f.split('/')[-1].split('_')[0]\n",
    "    fname = 'min_{}_s.pickle'.format(date)\n",
    "    fname_ls.append(fname)"
   ]
  },
  {
   "cell_type": "code",
   "execution_count": 57,
   "metadata": {
    "collapsed": false
   },
   "outputs": [
    {
     "data": {
      "text/plain": [
       "['min_20160223_s.pickle',\n",
       " 'min_20160224_s.pickle',\n",
       " 'min_20160225_s.pickle',\n",
       " 'min_20160226_s.pickle',\n",
       " 'min_20160229_s.pickle',\n",
       " 'min_20160301_s.pickle',\n",
       " 'min_20160302_s.pickle',\n",
       " 'min_20160303_s.pickle',\n",
       " 'min_20160304_s.pickle',\n",
       " 'min_20160307_s.pickle',\n",
       " 'min_20160308_s.pickle',\n",
       " 'min_20160309_s.pickle',\n",
       " 'min_20160310_s.pickle',\n",
       " 'min_20160311_s.pickle',\n",
       " 'min_20160314_s.pickle',\n",
       " 'min_20160315_s.pickle',\n",
       " 'min_20160316_s.pickle',\n",
       " 'min_20160317_s.pickle',\n",
       " 'min_20160318_s.pickle']"
      ]
     },
     "execution_count": 57,
     "metadata": {},
     "output_type": "execute_result"
    }
   ],
   "source": [
    "fname_ls"
   ]
  },
  {
   "cell_type": "code",
   "execution_count": 58,
   "metadata": {
    "collapsed": true
   },
   "outputs": [],
   "source": [
    "for pname, fname in zip(fname_ls,flist):\n",
    "    df = GetPriceFrom1dayDatas(fname)\n",
    "    with open(pname, 'wb') as f:\n",
    "        pickle.dump(df, f) "
   ]
  },
  {
   "cell_type": "code",
   "execution_count": 36,
   "metadata": {
    "collapsed": false
   },
   "outputs": [],
   "source": [
    "filename = '/Users/prokapi/iPythonNotebook_file/株価データ/20160224_min20160224s.txt'\n",
    "d20160224 = GetPriceFrom1dayDatas(filename)"
   ]
  },
  {
   "cell_type": "code",
   "execution_count": 14,
   "metadata": {
    "collapsed": false
   },
   "outputs": [
    {
     "data": {
      "text/plain": [
       "1989"
      ]
     },
     "execution_count": 14,
     "metadata": {},
     "output_type": "execute_result"
    }
   ],
   "source": [
    "d20160224.get_index(7203)"
   ]
  },
  {
   "cell_type": "code",
   "execution_count": 15,
   "metadata": {
    "collapsed": false
   },
   "outputs": [
    {
     "data": {
      "text/plain": [
       "DatetimeIndex(['2016-02-24 09:00:00', '2016-02-24 09:01:00',\n",
       "               '2016-02-24 09:02:00', '2016-02-24 09:03:00',\n",
       "               '2016-02-24 09:04:00', '2016-02-24 09:05:00',\n",
       "               '2016-02-24 09:06:00', '2016-02-24 09:07:00',\n",
       "               '2016-02-24 09:08:00', '2016-02-24 09:09:00',\n",
       "               ...\n",
       "               '2016-02-24 14:51:00', '2016-02-24 14:52:00',\n",
       "               '2016-02-24 14:53:00', '2016-02-24 14:54:00',\n",
       "               '2016-02-24 14:55:00', '2016-02-24 14:56:00',\n",
       "               '2016-02-24 14:57:00', '2016-02-24 14:58:00',\n",
       "               '2016-02-24 14:59:00', '2016-02-24 15:00:00'],\n",
       "              dtype='datetime64[ns]', length=302, freq=None)"
      ]
     },
     "execution_count": 15,
     "metadata": {},
     "output_type": "execute_result"
    }
   ],
   "source": [
    "d20160224.get_time_series(7203)"
   ]
  },
  {
   "cell_type": "code",
   "execution_count": 17,
   "metadata": {
    "collapsed": false,
    "scrolled": true
   },
   "outputs": [
    {
     "data": {
      "text/html": [
       "<div>\n",
       "<table border=\"1\" class=\"dataframe\">\n",
       "  <thead>\n",
       "    <tr style=\"text-align: right;\">\n",
       "      <th></th>\n",
       "      <th>volume</th>\n",
       "    </tr>\n",
       "  </thead>\n",
       "  <tbody>\n",
       "    <tr>\n",
       "      <th>2016-02-24 09:00:00</th>\n",
       "      <td>700300</td>\n",
       "    </tr>\n",
       "    <tr>\n",
       "      <th>2016-02-24 09:01:00</th>\n",
       "      <td>50300</td>\n",
       "    </tr>\n",
       "    <tr>\n",
       "      <th>2016-02-24 09:02:00</th>\n",
       "      <td>157000</td>\n",
       "    </tr>\n",
       "    <tr>\n",
       "      <th>2016-02-24 09:03:00</th>\n",
       "      <td>55400</td>\n",
       "    </tr>\n",
       "    <tr>\n",
       "      <th>2016-02-24 09:04:00</th>\n",
       "      <td>29400</td>\n",
       "    </tr>\n",
       "  </tbody>\n",
       "</table>\n",
       "</div>"
      ],
      "text/plain": [
       "                     volume\n",
       "2016-02-24 09:00:00  700300\n",
       "2016-02-24 09:01:00   50300\n",
       "2016-02-24 09:02:00  157000\n",
       "2016-02-24 09:03:00   55400\n",
       "2016-02-24 09:04:00   29400"
      ]
     },
     "execution_count": 17,
     "metadata": {},
     "output_type": "execute_result"
    }
   ],
   "source": [
    "d20160224.get_volume(7203).head()"
   ]
  },
  {
   "cell_type": "code",
   "execution_count": 30,
   "metadata": {
    "collapsed": false
   },
   "outputs": [
    {
     "data": {
      "text/plain": [
       "pandas.core.frame.DataFrame"
      ]
     },
     "execution_count": 30,
     "metadata": {},
     "output_type": "execute_result"
    }
   ],
   "source": [
    "df7203 = d20160224.get_four_prices_volume_5min(7203) #トヨタ\n",
    "df7751 = d20160224.get_four_prices_volume_5min(7751) #キヤノン\n",
    "df8411 = d20160224.get_four_prices_volume_5min(8411) #みずほ\n",
    "type(df7203)"
   ]
  },
  {
   "cell_type": "markdown",
   "metadata": {},
   "source": [
    "pickleを使って、オブジェクトをそのまま保存する。  \n",
    "株価のデータはpandasのdataframeで保存してある\n"
   ]
  },
  {
   "cell_type": "code",
   "execution_count": null,
   "metadata": {
    "collapsed": true
   },
   "outputs": [],
   "source": [
    "pickleで日付のデータを保存しておく"
   ]
  },
  {
   "cell_type": "code",
   "execution_count": 40,
   "metadata": {
    "collapsed": false
   },
   "outputs": [],
   "source": [
    "import pickle\n",
    "with open(' d20160224.pickle', 'wb') as f:\n",
    "    pickle.dump(d20160224, f) "
   ]
  },
  {
   "cell_type": "code",
   "execution_count": 41,
   "metadata": {
    "collapsed": false
   },
   "outputs": [],
   "source": [
    "import pickle\n",
    "with open('d20160224.pickle', 'rb') as f:\n",
    "    pictest = pickle.load(f)"
   ]
  },
  {
   "cell_type": "code",
   "execution_count": 44,
   "metadata": {
    "collapsed": false
   },
   "outputs": [],
   "source": [
    "pictest.plot_5min(7201)"
   ]
  },
  {
   "cell_type": "code",
   "execution_count": 33,
   "metadata": {
    "collapsed": true
   },
   "outputs": [],
   "source": [
    "import pickle\n",
    "\n",
    "with open('20160224_7203.pickle', 'wb') as f:\n",
    "    pickle.dump(df7203, f) "
   ]
  },
  {
   "cell_type": "code",
   "execution_count": 34,
   "metadata": {
    "collapsed": true
   },
   "outputs": [],
   "source": [
    "with open('20160224_7751.pickle', 'wb') as f:\n",
    "    pickle.dump(df7751, f) "
   ]
  },
  {
   "cell_type": "code",
   "execution_count": 35,
   "metadata": {
    "collapsed": true
   },
   "outputs": [],
   "source": [
    "with open('20160224_8411.pickle', 'wb') as f:\n",
    "    pickle.dump(df8411, f) "
   ]
  },
  {
   "cell_type": "code",
   "execution_count": 4,
   "metadata": {
    "collapsed": true
   },
   "outputs": [],
   "source": [
    "path = '/Users/prokapi/iPythonNotebook_file/app_summary_introduction/df7203.pickle'\n",
    "import pickle\n",
    "with open(path, 'rb') as f:\n",
    "    pictest = pickle.load(f)"
   ]
  },
  {
   "cell_type": "code",
   "execution_count": 24,
   "metadata": {
    "collapsed": false
   },
   "outputs": [],
   "source": [
    "#パスの中に条件に合うファイルがあるかどうかを確かめる\n",
    "import glob\n",
    "date = '20160224'\n",
    "path = '/Users/prokapi/iPythonNotebook_file/app_summary_introduction/{}_*.pickle'.format(date)\n",
    "ls = glob.glob(path)"
   ]
  },
  {
   "cell_type": "code",
   "execution_count": 25,
   "metadata": {
    "collapsed": false
   },
   "outputs": [
    {
     "data": {
      "text/plain": [
       "['/Users/prokapi/iPythonNotebook_file/app_summary_introduction/20160224_7203.pickle',\n",
       " '/Users/prokapi/iPythonNotebook_file/app_summary_introduction/20160224_7751.pickle',\n",
       " '/Users/prokapi/iPythonNotebook_file/app_summary_introduction/20160224_8411.pickle']"
      ]
     },
     "execution_count": 25,
     "metadata": {},
     "output_type": "execute_result"
    }
   ],
   "source": [
    "ls"
   ]
  },
  {
   "cell_type": "code",
   "execution_count": 26,
   "metadata": {
    "collapsed": true
   },
   "outputs": [],
   "source": [
    "f = ls[0]"
   ]
  },
  {
   "cell_type": "code",
   "execution_count": 29,
   "metadata": {
    "collapsed": false
   },
   "outputs": [],
   "source": [
    "g = f.split('/')[-1]"
   ]
  },
  {
   "cell_type": "code",
   "execution_count": 32,
   "metadata": {
    "collapsed": false
   },
   "outputs": [
    {
     "data": {
      "text/plain": [
       "'7203'"
      ]
     },
     "execution_count": 32,
     "metadata": {},
     "output_type": "execute_result"
    }
   ],
   "source": [
    "f.split('/')[-1].split('.')[0].split('_')[-1]"
   ]
  },
  {
   "cell_type": "code",
   "execution_count": 54,
   "metadata": {
    "collapsed": false
   },
   "outputs": [
    {
     "name": "stdout",
     "output_type": "stream",
     "text": [
      "t\n"
     ]
    }
   ],
   "source": [
    "if len(ls) !=0:\n",
    "    print('t')\n",
    "else:\n",
    "    print('n')"
   ]
  },
  {
   "cell_type": "code",
   "execution_count": 5,
   "metadata": {
    "collapsed": false
   },
   "outputs": [
    {
     "data": {
      "text/html": [
       "<div>\n",
       "<table border=\"1\" class=\"dataframe\">\n",
       "  <thead>\n",
       "    <tr style=\"text-align: right;\">\n",
       "      <th></th>\n",
       "      <th>open</th>\n",
       "      <th>high</th>\n",
       "      <th>low</th>\n",
       "      <th>close</th>\n",
       "      <th>volume</th>\n",
       "    </tr>\n",
       "  </thead>\n",
       "  <tbody>\n",
       "    <tr>\n",
       "      <th>2016-02-24 09:00:00</th>\n",
       "      <td>5900</td>\n",
       "      <td>5919</td>\n",
       "      <td>5873</td>\n",
       "      <td>5889</td>\n",
       "      <td>992400</td>\n",
       "    </tr>\n",
       "    <tr>\n",
       "      <th>2016-02-24 09:05:00</th>\n",
       "      <td>5889</td>\n",
       "      <td>5889</td>\n",
       "      <td>5835</td>\n",
       "      <td>5850</td>\n",
       "      <td>726600</td>\n",
       "    </tr>\n",
       "    <tr>\n",
       "      <th>2016-02-24 09:10:00</th>\n",
       "      <td>5848</td>\n",
       "      <td>5878</td>\n",
       "      <td>5841</td>\n",
       "      <td>5868</td>\n",
       "      <td>208400</td>\n",
       "    </tr>\n",
       "    <tr>\n",
       "      <th>2016-02-24 09:15:00</th>\n",
       "      <td>5869</td>\n",
       "      <td>5875</td>\n",
       "      <td>5855</td>\n",
       "      <td>5861</td>\n",
       "      <td>228900</td>\n",
       "    </tr>\n",
       "    <tr>\n",
       "      <th>2016-02-24 09:20:00</th>\n",
       "      <td>5862</td>\n",
       "      <td>5868</td>\n",
       "      <td>5852</td>\n",
       "      <td>5856</td>\n",
       "      <td>194700</td>\n",
       "    </tr>\n",
       "  </tbody>\n",
       "</table>\n",
       "</div>"
      ],
      "text/plain": [
       "                     open  high   low  close  volume\n",
       "2016-02-24 09:00:00  5900  5919  5873   5889  992400\n",
       "2016-02-24 09:05:00  5889  5889  5835   5850  726600\n",
       "2016-02-24 09:10:00  5848  5878  5841   5868  208400\n",
       "2016-02-24 09:15:00  5869  5875  5855   5861  228900\n",
       "2016-02-24 09:20:00  5862  5868  5852   5856  194700"
      ]
     },
     "execution_count": 5,
     "metadata": {},
     "output_type": "execute_result"
    }
   ],
   "source": [
    "pictest.head()"
   ]
  },
  {
   "cell_type": "code",
   "execution_count": 82,
   "metadata": {
    "collapsed": true
   },
   "outputs": [],
   "source": [
    "#これをグラフにする\n",
    "def ohlc_plot(df_name):\n",
    "    '''5分足のチャートをプロットする'''\n",
    "    import matplotlib.dates as md\n",
    "    import datetime\n",
    "    import matplotlib.pyplot as plt\n",
    "    from matplotlib.dates import DateFormatter\n",
    "    from matplotlib.finance import candlestick_ohlc\n",
    "    import matplotlib.ticker as mticker\n",
    "\n",
    "    pytime = [x.to_datetime() for x in df_name.index]\n",
    "    mpltime = [md.date2num(x) for x in pytime]\n",
    "    #次にohlc形式のリストを作ろう\n",
    "    ohlc = [(t, v[0],v[1],v[2],v[3]) for t, v in zip(mpltime, df_name.values)]\n",
    "\n",
    "    # dayFormatter = DateFormatter('%d')      # e.g., 12\n",
    "\n",
    "    # fig, (ax1, ax2) = plt.subplots(nrows=2, figsize=(12,12), sharex=True)\n",
    "    fig = plt.figure(figsize=(4,3))\n",
    "    #サイズを調整できる 表示位置と比は(left, bottom, width, height)のように指定できます。\n",
    "    ax1 = fig.add_axes((0, 0.3, 1, 0.62))\n",
    "    ax2 = fig.add_axes((0, 0, 1, 0.2), sharex=ax1) #x軸をshareしている\n",
    "\n",
    "    # ax1 = fig.add_subplot(211)\n",
    "    # ax2 = fig.add_subplot(212, sharex = ax1)\n",
    "\n",
    "    # fig.subplots_adjust(bottom=0.2)\n",
    "\n",
    "    #昼休みをスキップするようなlocator必要かも。\n",
    "    # minute = md.MinuteLocator()\n",
    "    hour = md.HourLocator()\n",
    "    ax1.xaxis.set_major_locator(hour)\n",
    "    # ax.xaxis.set_major_locator(mticker.MaxNLocator(15))\n",
    "    #30分のラインも引きたいところだ.\n",
    "    #x軸の範囲はどうきめるのだろうか？\n",
    "    #引き渡してる値を使うのかも→その通り\n",
    "    #mpltimeを使って操作する\n",
    "    # ax.set_xlim( 736018.3819444445, 736018.625)\n",
    "\n",
    "    dayFormatter = md.DateFormatter('%H:%M')\n",
    "    ax1.xaxis.set_major_formatter(dayFormatter)\n",
    "\n",
    "    ax1.grid(True)\n",
    "\n",
    "    #ローソク足チャートを描画する\n",
    "    #太さを自動調整するように関数必要かもしれないな。\n",
    "    candlestick_ohlc(ax1, ohlc,width=0.0025,colorup='cornflowerblue', colordown='midnightblue')\n",
    "\n",
    "    ax1.xaxis.set_major_locator(hour)\n",
    "\n",
    "    dayFormatter = md.DateFormatter('%H:%M')\n",
    "    ax1.xaxis.set_major_formatter(dayFormatter)\n",
    "\n",
    "    ax1.grid(True)\n",
    "    ax1.tick_params(labelsize='small' )\n",
    "\n",
    "    ax2.bar(mpltime, df_name['volume'].values,width = 0.0025, color = 'darkslateblue', edgecolor='none')\n",
    "    ax2.xaxis.set_major_locator(hour)\n",
    "    ax2.xaxis.set_major_formatter(dayFormatter)\n",
    "    ax2.tick_params(labelsize='small' )\n",
    "    ax2.grid(True)\n",
    "\n",
    "\n",
    "    # ax.xaxis_date()\n",
    "    # ax.autoscale_view()\n",
    "    # plt.setp(plt.gca().get_xticklabels(), rotation=45, horizontalalignment='right')\n",
    "    # plt.xlabel('Hour')\n",
    "    # plt.ylabel('Price')\n",
    "    # plt.title('ohlc chart')\n",
    "\n",
    "    plt.show()        "
   ]
  },
  {
   "cell_type": "code",
   "execution_count": 83,
   "metadata": {
    "collapsed": false
   },
   "outputs": [
    {
     "data": {
      "image/png": "[encoded data removed]",
      "text/plain": [
       "<matplotlib.figure.Figure at 0x11bc94b38>"
      ]
     },
     "metadata": {},
     "output_type": "display_data"
    }
   ],
   "source": [
    "ohlc_plot(pictest)"
   ]
  },
  {
   "cell_type": "code",
   "execution_count": 22,
   "metadata": {
    "collapsed": true
   },
   "outputs": [],
   "source": [
    "#tkFrameの中で表示させる\n",
    "def tk_ohlc_plot(df_name, tkFrame):\n",
    "    '''5分足のチャートをプロットする'''\n",
    "    import matplotlib\n",
    "    matplotlib.use('TkAgg')\n",
    "    import tkinter as tk\n",
    "    import numpy as np\n",
    "    from matplotlib.backends.backend_tkagg import FigureCanvasTkAgg\n",
    "    from matplotlib.figure import Figure\n",
    "\n",
    "    import matplotlib.dates as md\n",
    "    import datetime\n",
    "    import matplotlib.pyplot as plt\n",
    "    from matplotlib.dates import DateFormatter\n",
    "    from matplotlib.finance import candlestick_ohlc\n",
    "    import matplotlib.ticker as mticker\n",
    "    \n",
    "\n",
    "\n",
    "    pytime = [x.to_datetime() for x in df_name.index]\n",
    "    mpltime = [md.date2num(x) for x in pytime]\n",
    "    #次にohlc形式のリストを作ろう\n",
    "    ohlc = [(t, v[0],v[1],v[2],v[3]) for t, v in zip(mpltime, df_name.values)]\n",
    "\n",
    "    # dayFormatter = DateFormatter('%d')      # e.g., 12\n",
    "\n",
    "    # fig, (ax1, ax2) = plt.subplots(nrows=2, figsize=(12,12), sharex=True)\n",
    "    fig = Figure(figsize=(4, 3))\n",
    "    #サイズを調整できる 表示位置と比は(left, bottom, width, height)のように指定できます。\n",
    "    ax1 = fig.add_axes((0.13, 0.35, 0.77, 0.55))\n",
    "    ax2 = fig.add_axes((0.13, 0.1, 0.77, 0.17), sharex=ax1) #x軸をshareしている\n",
    "\n",
    "    # ax1 = fig.add_subplot(211)\n",
    "    # ax2 = fig.add_subplot(212, sharex = ax1)\n",
    "\n",
    "    # fig.subplots_adjust(bottom=0.2)\n",
    "\n",
    "    #昼休みをスキップするようなlocator必要かも。\n",
    "    # minute = md.MinuteLocator()\n",
    "    hour = md.HourLocator()\n",
    "    ax1.xaxis.set_major_locator(hour)\n",
    "    # ax.xaxis.set_major_locator(mticker.MaxNLocator(15))\n",
    "    #30分のラインも引きたいところだ.\n",
    "    #x軸の範囲はどうきめるのだろうか？\n",
    "    #引き渡してる値を使うのかも→その通り\n",
    "    #mpltimeを使って操作する\n",
    "    # ax.set_xlim( 736018.3819444445, 736018.625)\n",
    "\n",
    "    dayFormatter = md.DateFormatter('%H:%M')\n",
    "    ax1.xaxis.set_major_formatter(dayFormatter)\n",
    "\n",
    "    ax1.grid(True)\n",
    "\n",
    "    #ローソク足チャートを描画する\n",
    "    #太さを自動調整するように関数必要かもしれないな。\n",
    "    candlestick_ohlc(ax1, ohlc,width=0.0025,colorup='cornflowerblue', colordown='midnightblue')\n",
    "\n",
    "    ax1.xaxis.set_major_locator(hour)\n",
    "\n",
    "    dayFormatter = md.DateFormatter('%H:%M')\n",
    "    ax1.xaxis.set_major_formatter(dayFormatter)\n",
    "\n",
    "    ax1.grid(True)\n",
    "    ax1.tick_params(labelsize='small' )\n",
    "\n",
    "    ax2.bar(mpltime, df_name['volume'].values,width = 0.0025, color = 'darkslateblue', edgecolor='none')\n",
    "    ax2.xaxis.set_major_locator(hour)\n",
    "    ax2.xaxis.set_major_formatter(dayFormatter)\n",
    "    ax2.tick_params(labelsize='small' )\n",
    "    ax2.grid(True) \n",
    "    \n",
    "    canvas = FigureCanvasTkAgg(fig, tkFrame)\n",
    "    canvas.show()\n",
    "    canvas._tkcanvas.pack(side=tk.TOP, fill=tk.BOTH, expand=1)"
   ]
  },
  {
   "cell_type": "code",
   "execution_count": 23,
   "metadata": {
    "collapsed": false
   },
   "outputs": [],
   "source": [
    "import tkinter as tk\n",
    "root = tk.Tk()\n",
    "gf = tk.Frame(root)\n",
    "gf.pack(fill=tk.BOTH, expand=1)\n",
    "\n",
    "tk_ohlc_plot(pictest, gf)\n",
    "\n",
    "gf.mainloop()"
   ]
  },
  {
   "cell_type": "code",
   "execution_count": null,
   "metadata": {
    "collapsed": true
   },
   "outputs": [],
   "source": []
  },
  {
   "cell_type": "code",
   "execution_count": null,
   "metadata": {
    "collapsed": true
   },
   "outputs": [],
   "source": []
  },
  {
   "cell_type": "code",
   "execution_count": 84,
   "metadata": {
    "collapsed": false
   },
   "outputs": [
    {
     "name": "stderr",
     "output_type": "stream",
     "text": [
      "/Users/prokapi/anaconda3/lib/python3.5/site-packages/matplotlib/__init__.py:1350: UserWarning:  This call to matplotlib.use() has no effect\n",
      "because the backend has already been chosen;\n",
      "matplotlib.use() must be called *before* pylab, matplotlib.pyplot,\n",
      "or matplotlib.backends is imported for the first time.\n",
      "\n",
      "  warnings.warn(_use_error_msg)\n"
     ]
    }
   ],
   "source": [
    "import tkinter as tk\n",
    "import matplotlib\n",
    "matplotlib.use('TkAgg')\n",
    "import numpy as np\n",
    "from matplotlib.backends.backend_tkagg import FigureCanvasTkAgg\n",
    "from matplotlib.figure import Figure\n",
    "\n",
    "\n",
    "root = tk.Tk()\n",
    "gf = tk.Frame(root)\n",
    "gf.pack()\n",
    "\n",
    "f = Figure(figsize=(5, 3), dpi=100)\n",
    "a = f.add_subplot(111)\n",
    "#適当なデータをつくる    \n",
    "a.plot(np.random.randn(100))\n",
    "canvas = FigureCanvasTkAgg(f, gf)\n",
    "canvas.show()\n",
    "canvas._tkcanvas.pack(side=tk.TOP, fill=tk.BOTH, expand=1)\n",
    "#ボタンをつける.bindなら引数とれるのか？\n",
    "\n",
    "gf.mainloop()"
   ]
  },
  {
   "cell_type": "code",
   "execution_count": null,
   "metadata": {
    "collapsed": true
   },
   "outputs": [],
   "source": []
  },
  {
   "cell_type": "code",
   "execution_count": 42,
   "metadata": {
    "collapsed": false
   },
   "outputs": [
    {
     "data": {
      "text/plain": [
       "True"
      ]
     },
     "execution_count": 42,
     "metadata": {},
     "output_type": "execute_result"
    }
   ],
   "source": [
    "os.path.isfile('20160224_7203.pickle')"
   ]
  },
  {
   "cell_type": "code",
   "execution_count": 38,
   "metadata": {
    "collapsed": false
   },
   "outputs": [
    {
     "data": {
      "text/plain": [
       "'/Users/prokapi/iPythonNotebook_file/app_summary_introduction'"
      ]
     },
     "execution_count": 38,
     "metadata": {},
     "output_type": "execute_result"
    }
   ],
   "source": [
    "os.getcwd()"
   ]
  },
  {
   "cell_type": "code",
   "execution_count": 26,
   "metadata": {
    "collapsed": true
   },
   "outputs": [],
   "source": [
    "df8227_1min = d20160224.get_four_prices_volume(8227) #ワールド\n"
   ]
  },
  {
   "cell_type": "code",
   "execution_count": 27,
   "metadata": {
    "collapsed": false
   },
   "outputs": [
    {
     "data": {
      "text/html": [
       "<div>\n",
       "<table border=\"1\" class=\"dataframe\">\n",
       "  <thead>\n",
       "    <tr style=\"text-align: right;\">\n",
       "      <th></th>\n",
       "      <th>open</th>\n",
       "      <th>high</th>\n",
       "      <th>low</th>\n",
       "      <th>close</th>\n",
       "      <th>volume</th>\n",
       "    </tr>\n",
       "  </thead>\n",
       "  <tbody>\n",
       "    <tr>\n",
       "      <th>2016-02-24 09:00:00</th>\n",
       "      <td>12040</td>\n",
       "      <td>12080</td>\n",
       "      <td>12010</td>\n",
       "      <td>12050</td>\n",
       "      <td>10000</td>\n",
       "    </tr>\n",
       "    <tr>\n",
       "      <th>2016-02-24 09:01:00</th>\n",
       "      <td>12040</td>\n",
       "      <td>12040</td>\n",
       "      <td>12040</td>\n",
       "      <td>12040</td>\n",
       "      <td>200</td>\n",
       "    </tr>\n",
       "    <tr>\n",
       "      <th>2016-02-24 09:02:00</th>\n",
       "      <td>12050</td>\n",
       "      <td>12050</td>\n",
       "      <td>12030</td>\n",
       "      <td>12030</td>\n",
       "      <td>800</td>\n",
       "    </tr>\n",
       "    <tr>\n",
       "      <th>2016-02-24 09:03:00</th>\n",
       "      <td>12040</td>\n",
       "      <td>12060</td>\n",
       "      <td>12040</td>\n",
       "      <td>12060</td>\n",
       "      <td>300</td>\n",
       "    </tr>\n",
       "    <tr>\n",
       "      <th>2016-02-24 09:04:00</th>\n",
       "      <td>12070</td>\n",
       "      <td>12070</td>\n",
       "      <td>12070</td>\n",
       "      <td>12070</td>\n",
       "      <td>100</td>\n",
       "    </tr>\n",
       "    <tr>\n",
       "      <th>2016-02-24 09:05:00</th>\n",
       "      <td>12060</td>\n",
       "      <td>12060</td>\n",
       "      <td>11980</td>\n",
       "      <td>11990</td>\n",
       "      <td>4100</td>\n",
       "    </tr>\n",
       "    <tr>\n",
       "      <th>2016-02-24 09:06:00</th>\n",
       "      <td>12010</td>\n",
       "      <td>12070</td>\n",
       "      <td>12010</td>\n",
       "      <td>12070</td>\n",
       "      <td>5200</td>\n",
       "    </tr>\n",
       "    <tr>\n",
       "      <th>2016-02-24 09:07:00</th>\n",
       "      <td>12090</td>\n",
       "      <td>12120</td>\n",
       "      <td>12090</td>\n",
       "      <td>12120</td>\n",
       "      <td>1900</td>\n",
       "    </tr>\n",
       "    <tr>\n",
       "      <th>2016-02-24 09:08:00</th>\n",
       "      <td>12130</td>\n",
       "      <td>12140</td>\n",
       "      <td>12130</td>\n",
       "      <td>12140</td>\n",
       "      <td>1000</td>\n",
       "    </tr>\n",
       "    <tr>\n",
       "      <th>2016-02-24 09:09:00</th>\n",
       "      <td>12130</td>\n",
       "      <td>12130</td>\n",
       "      <td>12080</td>\n",
       "      <td>12090</td>\n",
       "      <td>2300</td>\n",
       "    </tr>\n",
       "    <tr>\n",
       "      <th>2016-02-24 09:10:00</th>\n",
       "      <td>NaN</td>\n",
       "      <td>NaN</td>\n",
       "      <td>NaN</td>\n",
       "      <td>NaN</td>\n",
       "      <td>NaN</td>\n",
       "    </tr>\n",
       "    <tr>\n",
       "      <th>2016-02-24 09:11:00</th>\n",
       "      <td>12110</td>\n",
       "      <td>12120</td>\n",
       "      <td>12110</td>\n",
       "      <td>12120</td>\n",
       "      <td>NaN</td>\n",
       "    </tr>\n",
       "    <tr>\n",
       "      <th>2016-02-24 09:12:00</th>\n",
       "      <td>12110</td>\n",
       "      <td>12120</td>\n",
       "      <td>12110</td>\n",
       "      <td>12120</td>\n",
       "      <td>400</td>\n",
       "    </tr>\n",
       "    <tr>\n",
       "      <th>2016-02-24 09:13:00</th>\n",
       "      <td>12110</td>\n",
       "      <td>12120</td>\n",
       "      <td>12110</td>\n",
       "      <td>12120</td>\n",
       "      <td>900</td>\n",
       "    </tr>\n",
       "    <tr>\n",
       "      <th>2016-02-24 09:14:00</th>\n",
       "      <td>12100</td>\n",
       "      <td>12100</td>\n",
       "      <td>12090</td>\n",
       "      <td>12090</td>\n",
       "      <td>400</td>\n",
       "    </tr>\n",
       "    <tr>\n",
       "      <th>2016-02-24 09:15:00</th>\n",
       "      <td>NaN</td>\n",
       "      <td>NaN</td>\n",
       "      <td>NaN</td>\n",
       "      <td>NaN</td>\n",
       "      <td>NaN</td>\n",
       "    </tr>\n",
       "    <tr>\n",
       "      <th>2016-02-24 09:16:00</th>\n",
       "      <td>12090</td>\n",
       "      <td>12100</td>\n",
       "      <td>12080</td>\n",
       "      <td>12100</td>\n",
       "      <td>NaN</td>\n",
       "    </tr>\n",
       "    <tr>\n",
       "      <th>2016-02-24 09:17:00</th>\n",
       "      <td>12110</td>\n",
       "      <td>12150</td>\n",
       "      <td>12110</td>\n",
       "      <td>12150</td>\n",
       "      <td>1600</td>\n",
       "    </tr>\n",
       "    <tr>\n",
       "      <th>2016-02-24 09:18:00</th>\n",
       "      <td>12170</td>\n",
       "      <td>12170</td>\n",
       "      <td>12160</td>\n",
       "      <td>12160</td>\n",
       "      <td>400</td>\n",
       "    </tr>\n",
       "    <tr>\n",
       "      <th>2016-02-24 09:19:00</th>\n",
       "      <td>NaN</td>\n",
       "      <td>NaN</td>\n",
       "      <td>NaN</td>\n",
       "      <td>NaN</td>\n",
       "      <td>NaN</td>\n",
       "    </tr>\n",
       "    <tr>\n",
       "      <th>2016-02-24 09:20:00</th>\n",
       "      <td>12170</td>\n",
       "      <td>12170</td>\n",
       "      <td>12160</td>\n",
       "      <td>12160</td>\n",
       "      <td>NaN</td>\n",
       "    </tr>\n",
       "    <tr>\n",
       "      <th>2016-02-24 09:21:00</th>\n",
       "      <td>12170</td>\n",
       "      <td>12180</td>\n",
       "      <td>12170</td>\n",
       "      <td>12170</td>\n",
       "      <td>800</td>\n",
       "    </tr>\n",
       "    <tr>\n",
       "      <th>2016-02-24 09:22:00</th>\n",
       "      <td>12190</td>\n",
       "      <td>12210</td>\n",
       "      <td>12190</td>\n",
       "      <td>12210</td>\n",
       "      <td>800</td>\n",
       "    </tr>\n",
       "    <tr>\n",
       "      <th>2016-02-24 09:23:00</th>\n",
       "      <td>12200</td>\n",
       "      <td>12200</td>\n",
       "      <td>12170</td>\n",
       "      <td>12180</td>\n",
       "      <td>1700</td>\n",
       "    </tr>\n",
       "    <tr>\n",
       "      <th>2016-02-24 09:24:00</th>\n",
       "      <td>12200</td>\n",
       "      <td>12220</td>\n",
       "      <td>12200</td>\n",
       "      <td>12220</td>\n",
       "      <td>1200</td>\n",
       "    </tr>\n",
       "    <tr>\n",
       "      <th>2016-02-24 09:25:00</th>\n",
       "      <td>12210</td>\n",
       "      <td>12210</td>\n",
       "      <td>12190</td>\n",
       "      <td>12200</td>\n",
       "      <td>500</td>\n",
       "    </tr>\n",
       "    <tr>\n",
       "      <th>2016-02-24 09:26:00</th>\n",
       "      <td>NaN</td>\n",
       "      <td>NaN</td>\n",
       "      <td>NaN</td>\n",
       "      <td>NaN</td>\n",
       "      <td>NaN</td>\n",
       "    </tr>\n",
       "    <tr>\n",
       "      <th>2016-02-24 09:27:00</th>\n",
       "      <td>12210</td>\n",
       "      <td>12260</td>\n",
       "      <td>12210</td>\n",
       "      <td>12240</td>\n",
       "      <td>NaN</td>\n",
       "    </tr>\n",
       "    <tr>\n",
       "      <th>2016-02-24 09:28:00</th>\n",
       "      <td>12240</td>\n",
       "      <td>12240</td>\n",
       "      <td>12240</td>\n",
       "      <td>12240</td>\n",
       "      <td>100</td>\n",
       "    </tr>\n",
       "    <tr>\n",
       "      <th>2016-02-24 09:29:00</th>\n",
       "      <td>12240</td>\n",
       "      <td>12240</td>\n",
       "      <td>12220</td>\n",
       "      <td>12220</td>\n",
       "      <td>600</td>\n",
       "    </tr>\n",
       "    <tr>\n",
       "      <th>...</th>\n",
       "      <td>...</td>\n",
       "      <td>...</td>\n",
       "      <td>...</td>\n",
       "      <td>...</td>\n",
       "      <td>...</td>\n",
       "    </tr>\n",
       "    <tr>\n",
       "      <th>2016-02-24 14:31:00</th>\n",
       "      <td>12350</td>\n",
       "      <td>12360</td>\n",
       "      <td>12350</td>\n",
       "      <td>12360</td>\n",
       "      <td>800</td>\n",
       "    </tr>\n",
       "    <tr>\n",
       "      <th>2016-02-24 14:32:00</th>\n",
       "      <td>12370</td>\n",
       "      <td>12370</td>\n",
       "      <td>12370</td>\n",
       "      <td>12370</td>\n",
       "      <td>100</td>\n",
       "    </tr>\n",
       "    <tr>\n",
       "      <th>2016-02-24 14:33:00</th>\n",
       "      <td>12370</td>\n",
       "      <td>12370</td>\n",
       "      <td>12370</td>\n",
       "      <td>12370</td>\n",
       "      <td>300</td>\n",
       "    </tr>\n",
       "    <tr>\n",
       "      <th>2016-02-24 14:34:00</th>\n",
       "      <td>12370</td>\n",
       "      <td>12380</td>\n",
       "      <td>12370</td>\n",
       "      <td>12380</td>\n",
       "      <td>1600</td>\n",
       "    </tr>\n",
       "    <tr>\n",
       "      <th>2016-02-24 14:35:00</th>\n",
       "      <td>12380</td>\n",
       "      <td>12380</td>\n",
       "      <td>12370</td>\n",
       "      <td>12370</td>\n",
       "      <td>700</td>\n",
       "    </tr>\n",
       "    <tr>\n",
       "      <th>2016-02-24 14:36:00</th>\n",
       "      <td>12380</td>\n",
       "      <td>12390</td>\n",
       "      <td>12380</td>\n",
       "      <td>12390</td>\n",
       "      <td>600</td>\n",
       "    </tr>\n",
       "    <tr>\n",
       "      <th>2016-02-24 14:37:00</th>\n",
       "      <td>12390</td>\n",
       "      <td>12390</td>\n",
       "      <td>12380</td>\n",
       "      <td>12380</td>\n",
       "      <td>1000</td>\n",
       "    </tr>\n",
       "    <tr>\n",
       "      <th>2016-02-24 14:38:00</th>\n",
       "      <td>12380</td>\n",
       "      <td>12380</td>\n",
       "      <td>12380</td>\n",
       "      <td>12380</td>\n",
       "      <td>200</td>\n",
       "    </tr>\n",
       "    <tr>\n",
       "      <th>2016-02-24 14:39:00</th>\n",
       "      <td>12380</td>\n",
       "      <td>12390</td>\n",
       "      <td>12380</td>\n",
       "      <td>12390</td>\n",
       "      <td>1000</td>\n",
       "    </tr>\n",
       "    <tr>\n",
       "      <th>2016-02-24 14:40:00</th>\n",
       "      <td>12400</td>\n",
       "      <td>12400</td>\n",
       "      <td>12400</td>\n",
       "      <td>12400</td>\n",
       "      <td>700</td>\n",
       "    </tr>\n",
       "    <tr>\n",
       "      <th>2016-02-24 14:41:00</th>\n",
       "      <td>12400</td>\n",
       "      <td>12400</td>\n",
       "      <td>12390</td>\n",
       "      <td>12390</td>\n",
       "      <td>1000</td>\n",
       "    </tr>\n",
       "    <tr>\n",
       "      <th>2016-02-24 14:42:00</th>\n",
       "      <td>12390</td>\n",
       "      <td>12390</td>\n",
       "      <td>12390</td>\n",
       "      <td>12390</td>\n",
       "      <td>400</td>\n",
       "    </tr>\n",
       "    <tr>\n",
       "      <th>2016-02-24 14:43:00</th>\n",
       "      <td>12400</td>\n",
       "      <td>12400</td>\n",
       "      <td>12390</td>\n",
       "      <td>12390</td>\n",
       "      <td>1400</td>\n",
       "    </tr>\n",
       "    <tr>\n",
       "      <th>2016-02-24 14:44:00</th>\n",
       "      <td>12400</td>\n",
       "      <td>12400</td>\n",
       "      <td>12390</td>\n",
       "      <td>12400</td>\n",
       "      <td>1100</td>\n",
       "    </tr>\n",
       "    <tr>\n",
       "      <th>2016-02-24 14:45:00</th>\n",
       "      <td>12400</td>\n",
       "      <td>12400</td>\n",
       "      <td>12380</td>\n",
       "      <td>12380</td>\n",
       "      <td>1900</td>\n",
       "    </tr>\n",
       "    <tr>\n",
       "      <th>2016-02-24 14:46:00</th>\n",
       "      <td>NaN</td>\n",
       "      <td>NaN</td>\n",
       "      <td>NaN</td>\n",
       "      <td>NaN</td>\n",
       "      <td>NaN</td>\n",
       "    </tr>\n",
       "    <tr>\n",
       "      <th>2016-02-24 14:47:00</th>\n",
       "      <td>12380</td>\n",
       "      <td>12380</td>\n",
       "      <td>12380</td>\n",
       "      <td>12380</td>\n",
       "      <td>NaN</td>\n",
       "    </tr>\n",
       "    <tr>\n",
       "      <th>2016-02-24 14:48:00</th>\n",
       "      <td>12380</td>\n",
       "      <td>12380</td>\n",
       "      <td>12380</td>\n",
       "      <td>12380</td>\n",
       "      <td>2400</td>\n",
       "    </tr>\n",
       "    <tr>\n",
       "      <th>2016-02-24 14:49:00</th>\n",
       "      <td>NaN</td>\n",
       "      <td>NaN</td>\n",
       "      <td>NaN</td>\n",
       "      <td>NaN</td>\n",
       "      <td>NaN</td>\n",
       "    </tr>\n",
       "    <tr>\n",
       "      <th>2016-02-24 14:50:00</th>\n",
       "      <td>12380</td>\n",
       "      <td>12390</td>\n",
       "      <td>12370</td>\n",
       "      <td>12370</td>\n",
       "      <td>NaN</td>\n",
       "    </tr>\n",
       "    <tr>\n",
       "      <th>2016-02-24 14:51:00</th>\n",
       "      <td>12370</td>\n",
       "      <td>12380</td>\n",
       "      <td>12370</td>\n",
       "      <td>12380</td>\n",
       "      <td>500</td>\n",
       "    </tr>\n",
       "    <tr>\n",
       "      <th>2016-02-24 14:52:00</th>\n",
       "      <td>12380</td>\n",
       "      <td>12380</td>\n",
       "      <td>12380</td>\n",
       "      <td>12380</td>\n",
       "      <td>1300</td>\n",
       "    </tr>\n",
       "    <tr>\n",
       "      <th>2016-02-24 14:53:00</th>\n",
       "      <td>12370</td>\n",
       "      <td>12370</td>\n",
       "      <td>12370</td>\n",
       "      <td>12370</td>\n",
       "      <td>400</td>\n",
       "    </tr>\n",
       "    <tr>\n",
       "      <th>2016-02-24 14:54:00</th>\n",
       "      <td>12380</td>\n",
       "      <td>12380</td>\n",
       "      <td>12380</td>\n",
       "      <td>12380</td>\n",
       "      <td>2300</td>\n",
       "    </tr>\n",
       "    <tr>\n",
       "      <th>2016-02-24 14:55:00</th>\n",
       "      <td>12380</td>\n",
       "      <td>12380</td>\n",
       "      <td>12380</td>\n",
       "      <td>12380</td>\n",
       "      <td>1200</td>\n",
       "    </tr>\n",
       "    <tr>\n",
       "      <th>2016-02-24 14:56:00</th>\n",
       "      <td>12390</td>\n",
       "      <td>12390</td>\n",
       "      <td>12390</td>\n",
       "      <td>12390</td>\n",
       "      <td>100</td>\n",
       "    </tr>\n",
       "    <tr>\n",
       "      <th>2016-02-24 14:57:00</th>\n",
       "      <td>12380</td>\n",
       "      <td>12380</td>\n",
       "      <td>12380</td>\n",
       "      <td>12380</td>\n",
       "      <td>900</td>\n",
       "    </tr>\n",
       "    <tr>\n",
       "      <th>2016-02-24 14:58:00</th>\n",
       "      <td>12390</td>\n",
       "      <td>12400</td>\n",
       "      <td>12390</td>\n",
       "      <td>12400</td>\n",
       "      <td>1800</td>\n",
       "    </tr>\n",
       "    <tr>\n",
       "      <th>2016-02-24 14:59:00</th>\n",
       "      <td>12390</td>\n",
       "      <td>12400</td>\n",
       "      <td>12390</td>\n",
       "      <td>12400</td>\n",
       "      <td>2300</td>\n",
       "    </tr>\n",
       "    <tr>\n",
       "      <th>2016-02-24 15:00:00</th>\n",
       "      <td>12410</td>\n",
       "      <td>12410</td>\n",
       "      <td>12410</td>\n",
       "      <td>12410</td>\n",
       "      <td>20500</td>\n",
       "    </tr>\n",
       "  </tbody>\n",
       "</table>\n",
       "<p>302 rows × 5 columns</p>\n",
       "</div>"
      ],
      "text/plain": [
       "                      open   high    low  close  volume\n",
       "2016-02-24 09:00:00  12040  12080  12010  12050   10000\n",
       "2016-02-24 09:01:00  12040  12040  12040  12040     200\n",
       "2016-02-24 09:02:00  12050  12050  12030  12030     800\n",
       "2016-02-24 09:03:00  12040  12060  12040  12060     300\n",
       "2016-02-24 09:04:00  12070  12070  12070  12070     100\n",
       "2016-02-24 09:05:00  12060  12060  11980  11990    4100\n",
       "2016-02-24 09:06:00  12010  12070  12010  12070    5200\n",
       "2016-02-24 09:07:00  12090  12120  12090  12120    1900\n",
       "2016-02-24 09:08:00  12130  12140  12130  12140    1000\n",
       "2016-02-24 09:09:00  12130  12130  12080  12090    2300\n",
       "2016-02-24 09:10:00    NaN    NaN    NaN    NaN     NaN\n",
       "2016-02-24 09:11:00  12110  12120  12110  12120     NaN\n",
       "2016-02-24 09:12:00  12110  12120  12110  12120     400\n",
       "2016-02-24 09:13:00  12110  12120  12110  12120     900\n",
       "2016-02-24 09:14:00  12100  12100  12090  12090     400\n",
       "2016-02-24 09:15:00    NaN    NaN    NaN    NaN     NaN\n",
       "2016-02-24 09:16:00  12090  12100  12080  12100     NaN\n",
       "2016-02-24 09:17:00  12110  12150  12110  12150    1600\n",
       "2016-02-24 09:18:00  12170  12170  12160  12160     400\n",
       "2016-02-24 09:19:00    NaN    NaN    NaN    NaN     NaN\n",
       "2016-02-24 09:20:00  12170  12170  12160  12160     NaN\n",
       "2016-02-24 09:21:00  12170  12180  12170  12170     800\n",
       "2016-02-24 09:22:00  12190  12210  12190  12210     800\n",
       "2016-02-24 09:23:00  12200  12200  12170  12180    1700\n",
       "2016-02-24 09:24:00  12200  12220  12200  12220    1200\n",
       "2016-02-24 09:25:00  12210  12210  12190  12200     500\n",
       "2016-02-24 09:26:00    NaN    NaN    NaN    NaN     NaN\n",
       "2016-02-24 09:27:00  12210  12260  12210  12240     NaN\n",
       "2016-02-24 09:28:00  12240  12240  12240  12240     100\n",
       "2016-02-24 09:29:00  12240  12240  12220  12220     600\n",
       "...                    ...    ...    ...    ...     ...\n",
       "2016-02-24 14:31:00  12350  12360  12350  12360     800\n",
       "2016-02-24 14:32:00  12370  12370  12370  12370     100\n",
       "2016-02-24 14:33:00  12370  12370  12370  12370     300\n",
       "2016-02-24 14:34:00  12370  12380  12370  12380    1600\n",
       "2016-02-24 14:35:00  12380  12380  12370  12370     700\n",
       "2016-02-24 14:36:00  12380  12390  12380  12390     600\n",
       "2016-02-24 14:37:00  12390  12390  12380  12380    1000\n",
       "2016-02-24 14:38:00  12380  12380  12380  12380     200\n",
       "2016-02-24 14:39:00  12380  12390  12380  12390    1000\n",
       "2016-02-24 14:40:00  12400  12400  12400  12400     700\n",
       "2016-02-24 14:41:00  12400  12400  12390  12390    1000\n",
       "2016-02-24 14:42:00  12390  12390  12390  12390     400\n",
       "2016-02-24 14:43:00  12400  12400  12390  12390    1400\n",
       "2016-02-24 14:44:00  12400  12400  12390  12400    1100\n",
       "2016-02-24 14:45:00  12400  12400  12380  12380    1900\n",
       "2016-02-24 14:46:00    NaN    NaN    NaN    NaN     NaN\n",
       "2016-02-24 14:47:00  12380  12380  12380  12380     NaN\n",
       "2016-02-24 14:48:00  12380  12380  12380  12380    2400\n",
       "2016-02-24 14:49:00    NaN    NaN    NaN    NaN     NaN\n",
       "2016-02-24 14:50:00  12380  12390  12370  12370     NaN\n",
       "2016-02-24 14:51:00  12370  12380  12370  12380     500\n",
       "2016-02-24 14:52:00  12380  12380  12380  12380    1300\n",
       "2016-02-24 14:53:00  12370  12370  12370  12370     400\n",
       "2016-02-24 14:54:00  12380  12380  12380  12380    2300\n",
       "2016-02-24 14:55:00  12380  12380  12380  12380    1200\n",
       "2016-02-24 14:56:00  12390  12390  12390  12390     100\n",
       "2016-02-24 14:57:00  12380  12380  12380  12380     900\n",
       "2016-02-24 14:58:00  12390  12400  12390  12400    1800\n",
       "2016-02-24 14:59:00  12390  12400  12390  12400    2300\n",
       "2016-02-24 15:00:00  12410  12410  12410  12410   20500\n",
       "\n",
       "[302 rows x 5 columns]"
      ]
     },
     "execution_count": 27,
     "metadata": {},
     "output_type": "execute_result"
    }
   ],
   "source": [
    "df8227_1min"
   ]
  },
  {
   "cell_type": "code",
   "execution_count": 31,
   "metadata": {
    "collapsed": false
   },
   "outputs": [
    {
     "data": {
      "text/html": [
       "<div>\n",
       "<table border=\"1\" class=\"dataframe\">\n",
       "  <thead>\n",
       "    <tr style=\"text-align: right;\">\n",
       "      <th></th>\n",
       "      <th>open</th>\n",
       "      <th>high</th>\n",
       "      <th>low</th>\n",
       "      <th>close</th>\n",
       "      <th>volume</th>\n",
       "    </tr>\n",
       "  </thead>\n",
       "  <tbody>\n",
       "    <tr>\n",
       "      <th>2016-02-24 09:00:00</th>\n",
       "      <td>164.6</td>\n",
       "      <td>164.6</td>\n",
       "      <td>163.3</td>\n",
       "      <td>163.9</td>\n",
       "      <td>15754200</td>\n",
       "    </tr>\n",
       "    <tr>\n",
       "      <th>2016-02-24 09:05:00</th>\n",
       "      <td>163.9</td>\n",
       "      <td>164.0</td>\n",
       "      <td>163.0</td>\n",
       "      <td>163.2</td>\n",
       "      <td>7061300</td>\n",
       "    </tr>\n",
       "    <tr>\n",
       "      <th>2016-02-24 09:10:00</th>\n",
       "      <td>163.2</td>\n",
       "      <td>163.6</td>\n",
       "      <td>162.8</td>\n",
       "      <td>163.1</td>\n",
       "      <td>3929200</td>\n",
       "    </tr>\n",
       "    <tr>\n",
       "      <th>2016-02-24 09:15:00</th>\n",
       "      <td>163.2</td>\n",
       "      <td>164.3</td>\n",
       "      <td>163.0</td>\n",
       "      <td>163.8</td>\n",
       "      <td>3336900</td>\n",
       "    </tr>\n",
       "    <tr>\n",
       "      <th>2016-02-24 09:20:00</th>\n",
       "      <td>163.8</td>\n",
       "      <td>164.1</td>\n",
       "      <td>163.3</td>\n",
       "      <td>163.8</td>\n",
       "      <td>2605700</td>\n",
       "    </tr>\n",
       "    <tr>\n",
       "      <th>2016-02-24 09:25:00</th>\n",
       "      <td>163.8</td>\n",
       "      <td>164.1</td>\n",
       "      <td>163.6</td>\n",
       "      <td>164.1</td>\n",
       "      <td>1214300</td>\n",
       "    </tr>\n",
       "    <tr>\n",
       "      <th>2016-02-24 09:30:00</th>\n",
       "      <td>164.0</td>\n",
       "      <td>164.5</td>\n",
       "      <td>163.9</td>\n",
       "      <td>164.4</td>\n",
       "      <td>1775900</td>\n",
       "    </tr>\n",
       "    <tr>\n",
       "      <th>2016-02-24 09:35:00</th>\n",
       "      <td>164.3</td>\n",
       "      <td>164.7</td>\n",
       "      <td>163.8</td>\n",
       "      <td>164.4</td>\n",
       "      <td>3178700</td>\n",
       "    </tr>\n",
       "    <tr>\n",
       "      <th>2016-02-24 09:40:00</th>\n",
       "      <td>164.4</td>\n",
       "      <td>165.4</td>\n",
       "      <td>164.3</td>\n",
       "      <td>165.2</td>\n",
       "      <td>3096200</td>\n",
       "    </tr>\n",
       "    <tr>\n",
       "      <th>2016-02-24 09:45:00</th>\n",
       "      <td>165.1</td>\n",
       "      <td>165.7</td>\n",
       "      <td>164.7</td>\n",
       "      <td>165.5</td>\n",
       "      <td>2474900</td>\n",
       "    </tr>\n",
       "    <tr>\n",
       "      <th>2016-02-24 09:50:00</th>\n",
       "      <td>165.5</td>\n",
       "      <td>166.2</td>\n",
       "      <td>165.1</td>\n",
       "      <td>165.3</td>\n",
       "      <td>4196800</td>\n",
       "    </tr>\n",
       "    <tr>\n",
       "      <th>2016-02-24 09:55:00</th>\n",
       "      <td>165.3</td>\n",
       "      <td>166.4</td>\n",
       "      <td>165.2</td>\n",
       "      <td>165.9</td>\n",
       "      <td>2071700</td>\n",
       "    </tr>\n",
       "    <tr>\n",
       "      <th>2016-02-24 10:00:00</th>\n",
       "      <td>165.9</td>\n",
       "      <td>167.0</td>\n",
       "      <td>165.5</td>\n",
       "      <td>166.8</td>\n",
       "      <td>3252400</td>\n",
       "    </tr>\n",
       "    <tr>\n",
       "      <th>2016-02-24 10:05:00</th>\n",
       "      <td>166.8</td>\n",
       "      <td>168.2</td>\n",
       "      <td>166.6</td>\n",
       "      <td>167.1</td>\n",
       "      <td>4990600</td>\n",
       "    </tr>\n",
       "    <tr>\n",
       "      <th>2016-02-24 10:10:00</th>\n",
       "      <td>167.1</td>\n",
       "      <td>167.2</td>\n",
       "      <td>166.7</td>\n",
       "      <td>166.8</td>\n",
       "      <td>2451300</td>\n",
       "    </tr>\n",
       "    <tr>\n",
       "      <th>2016-02-24 10:15:00</th>\n",
       "      <td>166.8</td>\n",
       "      <td>167.1</td>\n",
       "      <td>166.6</td>\n",
       "      <td>167.0</td>\n",
       "      <td>2981800</td>\n",
       "    </tr>\n",
       "    <tr>\n",
       "      <th>2016-02-24 10:20:00</th>\n",
       "      <td>167.0</td>\n",
       "      <td>167.2</td>\n",
       "      <td>166.5</td>\n",
       "      <td>166.8</td>\n",
       "      <td>2030300</td>\n",
       "    </tr>\n",
       "    <tr>\n",
       "      <th>2016-02-24 10:25:00</th>\n",
       "      <td>166.9</td>\n",
       "      <td>167.8</td>\n",
       "      <td>166.6</td>\n",
       "      <td>167.3</td>\n",
       "      <td>2730600</td>\n",
       "    </tr>\n",
       "    <tr>\n",
       "      <th>2016-02-24 10:30:00</th>\n",
       "      <td>167.3</td>\n",
       "      <td>167.9</td>\n",
       "      <td>167.1</td>\n",
       "      <td>167.3</td>\n",
       "      <td>1828000</td>\n",
       "    </tr>\n",
       "    <tr>\n",
       "      <th>2016-02-24 10:35:00</th>\n",
       "      <td>167.3</td>\n",
       "      <td>167.7</td>\n",
       "      <td>167.3</td>\n",
       "      <td>167.5</td>\n",
       "      <td>1806400</td>\n",
       "    </tr>\n",
       "    <tr>\n",
       "      <th>2016-02-24 10:40:00</th>\n",
       "      <td>167.5</td>\n",
       "      <td>168.2</td>\n",
       "      <td>167.5</td>\n",
       "      <td>167.9</td>\n",
       "      <td>2737200</td>\n",
       "    </tr>\n",
       "    <tr>\n",
       "      <th>2016-02-24 10:45:00</th>\n",
       "      <td>168.0</td>\n",
       "      <td>168.6</td>\n",
       "      <td>168.0</td>\n",
       "      <td>168.6</td>\n",
       "      <td>2415600</td>\n",
       "    </tr>\n",
       "    <tr>\n",
       "      <th>2016-02-24 10:50:00</th>\n",
       "      <td>168.6</td>\n",
       "      <td>169.0</td>\n",
       "      <td>168.5</td>\n",
       "      <td>168.8</td>\n",
       "      <td>2831200</td>\n",
       "    </tr>\n",
       "    <tr>\n",
       "      <th>2016-02-24 10:55:00</th>\n",
       "      <td>168.8</td>\n",
       "      <td>169.5</td>\n",
       "      <td>168.8</td>\n",
       "      <td>169.3</td>\n",
       "      <td>3113600</td>\n",
       "    </tr>\n",
       "    <tr>\n",
       "      <th>2016-02-24 11:00:00</th>\n",
       "      <td>169.3</td>\n",
       "      <td>169.6</td>\n",
       "      <td>168.3</td>\n",
       "      <td>168.3</td>\n",
       "      <td>3090100</td>\n",
       "    </tr>\n",
       "    <tr>\n",
       "      <th>2016-02-24 11:05:00</th>\n",
       "      <td>168.3</td>\n",
       "      <td>168.6</td>\n",
       "      <td>167.6</td>\n",
       "      <td>167.6</td>\n",
       "      <td>3083300</td>\n",
       "    </tr>\n",
       "    <tr>\n",
       "      <th>2016-02-24 11:10:00</th>\n",
       "      <td>167.7</td>\n",
       "      <td>168.1</td>\n",
       "      <td>167.6</td>\n",
       "      <td>168.0</td>\n",
       "      <td>1895300</td>\n",
       "    </tr>\n",
       "    <tr>\n",
       "      <th>2016-02-24 11:15:00</th>\n",
       "      <td>168.0</td>\n",
       "      <td>168.0</td>\n",
       "      <td>167.4</td>\n",
       "      <td>167.5</td>\n",
       "      <td>1842300</td>\n",
       "    </tr>\n",
       "    <tr>\n",
       "      <th>2016-02-24 11:20:00</th>\n",
       "      <td>167.5</td>\n",
       "      <td>168.0</td>\n",
       "      <td>167.4</td>\n",
       "      <td>167.9</td>\n",
       "      <td>955800</td>\n",
       "    </tr>\n",
       "    <tr>\n",
       "      <th>2016-02-24 11:25:00</th>\n",
       "      <td>167.9</td>\n",
       "      <td>168.0</td>\n",
       "      <td>167.7</td>\n",
       "      <td>167.8</td>\n",
       "      <td>649000</td>\n",
       "    </tr>\n",
       "    <tr>\n",
       "      <th>...</th>\n",
       "      <td>...</td>\n",
       "      <td>...</td>\n",
       "      <td>...</td>\n",
       "      <td>...</td>\n",
       "      <td>...</td>\n",
       "    </tr>\n",
       "    <tr>\n",
       "      <th>2016-02-24 12:35:00</th>\n",
       "      <td>166.5</td>\n",
       "      <td>166.6</td>\n",
       "      <td>165.5</td>\n",
       "      <td>165.6</td>\n",
       "      <td>3728900</td>\n",
       "    </tr>\n",
       "    <tr>\n",
       "      <th>2016-02-24 12:40:00</th>\n",
       "      <td>165.8</td>\n",
       "      <td>166.6</td>\n",
       "      <td>165.8</td>\n",
       "      <td>166.1</td>\n",
       "      <td>1919100</td>\n",
       "    </tr>\n",
       "    <tr>\n",
       "      <th>2016-02-24 12:45:00</th>\n",
       "      <td>166.1</td>\n",
       "      <td>167.0</td>\n",
       "      <td>166.0</td>\n",
       "      <td>166.9</td>\n",
       "      <td>1950400</td>\n",
       "    </tr>\n",
       "    <tr>\n",
       "      <th>2016-02-24 12:50:00</th>\n",
       "      <td>166.9</td>\n",
       "      <td>167.6</td>\n",
       "      <td>166.8</td>\n",
       "      <td>167.2</td>\n",
       "      <td>2339700</td>\n",
       "    </tr>\n",
       "    <tr>\n",
       "      <th>2016-02-24 12:55:00</th>\n",
       "      <td>167.1</td>\n",
       "      <td>167.5</td>\n",
       "      <td>166.8</td>\n",
       "      <td>167.4</td>\n",
       "      <td>937800</td>\n",
       "    </tr>\n",
       "    <tr>\n",
       "      <th>2016-02-24 13:00:00</th>\n",
       "      <td>167.4</td>\n",
       "      <td>167.5</td>\n",
       "      <td>166.9</td>\n",
       "      <td>167.0</td>\n",
       "      <td>1328800</td>\n",
       "    </tr>\n",
       "    <tr>\n",
       "      <th>2016-02-24 13:05:00</th>\n",
       "      <td>167.0</td>\n",
       "      <td>167.3</td>\n",
       "      <td>166.9</td>\n",
       "      <td>167.0</td>\n",
       "      <td>2239100</td>\n",
       "    </tr>\n",
       "    <tr>\n",
       "      <th>2016-02-24 13:10:00</th>\n",
       "      <td>166.9</td>\n",
       "      <td>166.9</td>\n",
       "      <td>166.5</td>\n",
       "      <td>166.7</td>\n",
       "      <td>1200700</td>\n",
       "    </tr>\n",
       "    <tr>\n",
       "      <th>2016-02-24 13:15:00</th>\n",
       "      <td>166.7</td>\n",
       "      <td>166.7</td>\n",
       "      <td>166.4</td>\n",
       "      <td>166.6</td>\n",
       "      <td>795000</td>\n",
       "    </tr>\n",
       "    <tr>\n",
       "      <th>2016-02-24 13:20:00</th>\n",
       "      <td>166.5</td>\n",
       "      <td>166.8</td>\n",
       "      <td>166.3</td>\n",
       "      <td>166.7</td>\n",
       "      <td>1104900</td>\n",
       "    </tr>\n",
       "    <tr>\n",
       "      <th>2016-02-24 13:25:00</th>\n",
       "      <td>166.7</td>\n",
       "      <td>167.2</td>\n",
       "      <td>166.7</td>\n",
       "      <td>167.1</td>\n",
       "      <td>1130200</td>\n",
       "    </tr>\n",
       "    <tr>\n",
       "      <th>2016-02-24 13:30:00</th>\n",
       "      <td>167.0</td>\n",
       "      <td>167.0</td>\n",
       "      <td>166.3</td>\n",
       "      <td>166.3</td>\n",
       "      <td>1757800</td>\n",
       "    </tr>\n",
       "    <tr>\n",
       "      <th>2016-02-24 13:35:00</th>\n",
       "      <td>166.4</td>\n",
       "      <td>166.4</td>\n",
       "      <td>166.0</td>\n",
       "      <td>166.3</td>\n",
       "      <td>1663200</td>\n",
       "    </tr>\n",
       "    <tr>\n",
       "      <th>2016-02-24 13:40:00</th>\n",
       "      <td>166.3</td>\n",
       "      <td>166.6</td>\n",
       "      <td>166.3</td>\n",
       "      <td>166.5</td>\n",
       "      <td>967400</td>\n",
       "    </tr>\n",
       "    <tr>\n",
       "      <th>2016-02-24 13:45:00</th>\n",
       "      <td>166.5</td>\n",
       "      <td>166.6</td>\n",
       "      <td>165.8</td>\n",
       "      <td>166.0</td>\n",
       "      <td>2130100</td>\n",
       "    </tr>\n",
       "    <tr>\n",
       "      <th>2016-02-24 13:50:00</th>\n",
       "      <td>166.0</td>\n",
       "      <td>166.3</td>\n",
       "      <td>165.7</td>\n",
       "      <td>166.3</td>\n",
       "      <td>897000</td>\n",
       "    </tr>\n",
       "    <tr>\n",
       "      <th>2016-02-24 13:55:00</th>\n",
       "      <td>166.3</td>\n",
       "      <td>166.3</td>\n",
       "      <td>166.0</td>\n",
       "      <td>166.0</td>\n",
       "      <td>1006100</td>\n",
       "    </tr>\n",
       "    <tr>\n",
       "      <th>2016-02-24 14:00:00</th>\n",
       "      <td>166.0</td>\n",
       "      <td>166.5</td>\n",
       "      <td>165.9</td>\n",
       "      <td>166.0</td>\n",
       "      <td>1083700</td>\n",
       "    </tr>\n",
       "    <tr>\n",
       "      <th>2016-02-24 14:05:00</th>\n",
       "      <td>166.0</td>\n",
       "      <td>166.2</td>\n",
       "      <td>165.2</td>\n",
       "      <td>165.3</td>\n",
       "      <td>4845200</td>\n",
       "    </tr>\n",
       "    <tr>\n",
       "      <th>2016-02-24 14:10:00</th>\n",
       "      <td>165.3</td>\n",
       "      <td>166.0</td>\n",
       "      <td>165.1</td>\n",
       "      <td>166.0</td>\n",
       "      <td>2531500</td>\n",
       "    </tr>\n",
       "    <tr>\n",
       "      <th>2016-02-24 14:15:00</th>\n",
       "      <td>165.9</td>\n",
       "      <td>166.0</td>\n",
       "      <td>165.4</td>\n",
       "      <td>165.6</td>\n",
       "      <td>1815000</td>\n",
       "    </tr>\n",
       "    <tr>\n",
       "      <th>2016-02-24 14:20:00</th>\n",
       "      <td>165.5</td>\n",
       "      <td>165.6</td>\n",
       "      <td>165.3</td>\n",
       "      <td>165.5</td>\n",
       "      <td>908900</td>\n",
       "    </tr>\n",
       "    <tr>\n",
       "      <th>2016-02-24 14:25:00</th>\n",
       "      <td>165.5</td>\n",
       "      <td>165.9</td>\n",
       "      <td>165.5</td>\n",
       "      <td>165.9</td>\n",
       "      <td>952300</td>\n",
       "    </tr>\n",
       "    <tr>\n",
       "      <th>2016-02-24 14:30:00</th>\n",
       "      <td>165.8</td>\n",
       "      <td>165.9</td>\n",
       "      <td>165.5</td>\n",
       "      <td>165.9</td>\n",
       "      <td>1058800</td>\n",
       "    </tr>\n",
       "    <tr>\n",
       "      <th>2016-02-24 14:35:00</th>\n",
       "      <td>165.9</td>\n",
       "      <td>166.1</td>\n",
       "      <td>165.7</td>\n",
       "      <td>166.1</td>\n",
       "      <td>971300</td>\n",
       "    </tr>\n",
       "    <tr>\n",
       "      <th>2016-02-24 14:40:00</th>\n",
       "      <td>166.1</td>\n",
       "      <td>166.3</td>\n",
       "      <td>166.0</td>\n",
       "      <td>166.2</td>\n",
       "      <td>1338200</td>\n",
       "    </tr>\n",
       "    <tr>\n",
       "      <th>2016-02-24 14:45:00</th>\n",
       "      <td>166.3</td>\n",
       "      <td>166.3</td>\n",
       "      <td>165.6</td>\n",
       "      <td>165.8</td>\n",
       "      <td>2290000</td>\n",
       "    </tr>\n",
       "    <tr>\n",
       "      <th>2016-02-24 14:50:00</th>\n",
       "      <td>165.7</td>\n",
       "      <td>165.9</td>\n",
       "      <td>165.6</td>\n",
       "      <td>165.9</td>\n",
       "      <td>1549800</td>\n",
       "    </tr>\n",
       "    <tr>\n",
       "      <th>2016-02-24 14:55:00</th>\n",
       "      <td>165.9</td>\n",
       "      <td>166.0</td>\n",
       "      <td>165.6</td>\n",
       "      <td>166.0</td>\n",
       "      <td>3297900</td>\n",
       "    </tr>\n",
       "    <tr>\n",
       "      <th>2016-02-24 15:00:00</th>\n",
       "      <td>166.1</td>\n",
       "      <td>166.1</td>\n",
       "      <td>166.1</td>\n",
       "      <td>166.1</td>\n",
       "      <td>6961900</td>\n",
       "    </tr>\n",
       "  </tbody>\n",
       "</table>\n",
       "<p>62 rows × 5 columns</p>\n",
       "</div>"
      ],
      "text/plain": [
       "                      open   high    low  close    volume\n",
       "2016-02-24 09:00:00  164.6  164.6  163.3  163.9  15754200\n",
       "2016-02-24 09:05:00  163.9  164.0  163.0  163.2   7061300\n",
       "2016-02-24 09:10:00  163.2  163.6  162.8  163.1   3929200\n",
       "2016-02-24 09:15:00  163.2  164.3  163.0  163.8   3336900\n",
       "2016-02-24 09:20:00  163.8  164.1  163.3  163.8   2605700\n",
       "2016-02-24 09:25:00  163.8  164.1  163.6  164.1   1214300\n",
       "2016-02-24 09:30:00  164.0  164.5  163.9  164.4   1775900\n",
       "2016-02-24 09:35:00  164.3  164.7  163.8  164.4   3178700\n",
       "2016-02-24 09:40:00  164.4  165.4  164.3  165.2   3096200\n",
       "2016-02-24 09:45:00  165.1  165.7  164.7  165.5   2474900\n",
       "2016-02-24 09:50:00  165.5  166.2  165.1  165.3   4196800\n",
       "2016-02-24 09:55:00  165.3  166.4  165.2  165.9   2071700\n",
       "2016-02-24 10:00:00  165.9  167.0  165.5  166.8   3252400\n",
       "2016-02-24 10:05:00  166.8  168.2  166.6  167.1   4990600\n",
       "2016-02-24 10:10:00  167.1  167.2  166.7  166.8   2451300\n",
       "2016-02-24 10:15:00  166.8  167.1  166.6  167.0   2981800\n",
       "2016-02-24 10:20:00  167.0  167.2  166.5  166.8   2030300\n",
       "2016-02-24 10:25:00  166.9  167.8  166.6  167.3   2730600\n",
       "2016-02-24 10:30:00  167.3  167.9  167.1  167.3   1828000\n",
       "2016-02-24 10:35:00  167.3  167.7  167.3  167.5   1806400\n",
       "2016-02-24 10:40:00  167.5  168.2  167.5  167.9   2737200\n",
       "2016-02-24 10:45:00  168.0  168.6  168.0  168.6   2415600\n",
       "2016-02-24 10:50:00  168.6  169.0  168.5  168.8   2831200\n",
       "2016-02-24 10:55:00  168.8  169.5  168.8  169.3   3113600\n",
       "2016-02-24 11:00:00  169.3  169.6  168.3  168.3   3090100\n",
       "2016-02-24 11:05:00  168.3  168.6  167.6  167.6   3083300\n",
       "2016-02-24 11:10:00  167.7  168.1  167.6  168.0   1895300\n",
       "2016-02-24 11:15:00  168.0  168.0  167.4  167.5   1842300\n",
       "2016-02-24 11:20:00  167.5  168.0  167.4  167.9    955800\n",
       "2016-02-24 11:25:00  167.9  168.0  167.7  167.8    649000\n",
       "...                    ...    ...    ...    ...       ...\n",
       "2016-02-24 12:35:00  166.5  166.6  165.5  165.6   3728900\n",
       "2016-02-24 12:40:00  165.8  166.6  165.8  166.1   1919100\n",
       "2016-02-24 12:45:00  166.1  167.0  166.0  166.9   1950400\n",
       "2016-02-24 12:50:00  166.9  167.6  166.8  167.2   2339700\n",
       "2016-02-24 12:55:00  167.1  167.5  166.8  167.4    937800\n",
       "2016-02-24 13:00:00  167.4  167.5  166.9  167.0   1328800\n",
       "2016-02-24 13:05:00  167.0  167.3  166.9  167.0   2239100\n",
       "2016-02-24 13:10:00  166.9  166.9  166.5  166.7   1200700\n",
       "2016-02-24 13:15:00  166.7  166.7  166.4  166.6    795000\n",
       "2016-02-24 13:20:00  166.5  166.8  166.3  166.7   1104900\n",
       "2016-02-24 13:25:00  166.7  167.2  166.7  167.1   1130200\n",
       "2016-02-24 13:30:00  167.0  167.0  166.3  166.3   1757800\n",
       "2016-02-24 13:35:00  166.4  166.4  166.0  166.3   1663200\n",
       "2016-02-24 13:40:00  166.3  166.6  166.3  166.5    967400\n",
       "2016-02-24 13:45:00  166.5  166.6  165.8  166.0   2130100\n",
       "2016-02-24 13:50:00  166.0  166.3  165.7  166.3    897000\n",
       "2016-02-24 13:55:00  166.3  166.3  166.0  166.0   1006100\n",
       "2016-02-24 14:00:00  166.0  166.5  165.9  166.0   1083700\n",
       "2016-02-24 14:05:00  166.0  166.2  165.2  165.3   4845200\n",
       "2016-02-24 14:10:00  165.3  166.0  165.1  166.0   2531500\n",
       "2016-02-24 14:15:00  165.9  166.0  165.4  165.6   1815000\n",
       "2016-02-24 14:20:00  165.5  165.6  165.3  165.5    908900\n",
       "2016-02-24 14:25:00  165.5  165.9  165.5  165.9    952300\n",
       "2016-02-24 14:30:00  165.8  165.9  165.5  165.9   1058800\n",
       "2016-02-24 14:35:00  165.9  166.1  165.7  166.1    971300\n",
       "2016-02-24 14:40:00  166.1  166.3  166.0  166.2   1338200\n",
       "2016-02-24 14:45:00  166.3  166.3  165.6  165.8   2290000\n",
       "2016-02-24 14:50:00  165.7  165.9  165.6  165.9   1549800\n",
       "2016-02-24 14:55:00  165.9  166.0  165.6  166.0   3297900\n",
       "2016-02-24 15:00:00  166.1  166.1  166.1  166.1   6961900\n",
       "\n",
       "[62 rows x 5 columns]"
      ]
     },
     "execution_count": 31,
     "metadata": {},
     "output_type": "execute_result"
    }
   ],
   "source": [
    "df8411"
   ]
  },
  {
   "cell_type": "code",
   "execution_count": null,
   "metadata": {
    "collapsed": true
   },
   "outputs": [],
   "source": []
  },
  {
   "cell_type": "code",
   "execution_count": 18,
   "metadata": {
    "collapsed": false
   },
   "outputs": [
    {
     "data": {
      "image/png": "[encoded data removed]",
      "text/plain": [
       "<matplotlib.figure.Figure at 0x12a5c3898>"
      ]
     },
     "metadata": {},
     "output_type": "display_data"
    }
   ],
   "source": [
    "d20160224.plot_5min(7203)"
   ]
  },
  {
   "cell_type": "code",
   "execution_count": null,
   "metadata": {
    "collapsed": true
   },
   "outputs": [],
   "source": []
  },
  {
   "cell_type": "code",
   "execution_count": 11,
   "metadata": {
    "collapsed": false
   },
   "outputs": [
    {
     "name": "stdout",
     "output_type": "stream",
     "text": [
      "Error!\n"
     ]
    },
    {
     "ename": "NameError",
     "evalue": "name 'min_df' is not defined",
     "output_type": "error",
     "traceback": [
      "\u001b[0;31m---------------------------------------------------------------------------\u001b[0m",
      "\u001b[0;31mNameError\u001b[0m                                 Traceback (most recent call last)",
      "\u001b[0;32m<ipython-input-11-baa57ae4634e>\u001b[0m in \u001b[0;36m<module>\u001b[0;34m()\u001b[0m\n\u001b[0;32m----> 1\u001b[0;31m \u001b[0mtoyota5min\u001b[0m \u001b[0;34m=\u001b[0m \u001b[0md20160224\u001b[0m\u001b[0;34m.\u001b[0m\u001b[0mget_four_prices_volume_5min\u001b[0m\u001b[0;34m(\u001b[0m\u001b[0;36m7203\u001b[0m\u001b[0;34m)\u001b[0m\u001b[0;34m\u001b[0m\u001b[0m\n\u001b[0m",
      "\u001b[0;32m<ipython-input-9-86a96e95db9e>\u001b[0m in \u001b[0;36mget_four_prices_volume_5min\u001b[0;34m(self, stock_code)\u001b[0m\n\u001b[1;32m    127\u001b[0m         \u001b[0;31m#午前の終わりの11:30を特定する\u001b[0m\u001b[0;34m\u001b[0m\u001b[0;34m\u001b[0m\u001b[0m\n\u001b[1;32m    128\u001b[0m         \u001b[0mt1130\u001b[0m \u001b[0;34m=\u001b[0m \u001b[0mpd\u001b[0m\u001b[0;34m.\u001b[0m\u001b[0mto_datetime\u001b[0m\u001b[0;34m(\u001b[0m\u001b[0mself\u001b[0m\u001b[0;34m.\u001b[0m\u001b[0mdate\u001b[0m \u001b[0;34m+\u001b[0m \u001b[0;34m'1130'\u001b[0m\u001b[0;34m)\u001b[0m\u001b[0;34m\u001b[0m\u001b[0m\n\u001b[0;32m--> 129\u001b[0;31m         \u001b[0mtime_series\u001b[0m \u001b[0;34m=\u001b[0m \u001b[0mmin_df\u001b[0m\u001b[0;34m.\u001b[0m\u001b[0mindex\u001b[0m\u001b[0;34m\u001b[0m\u001b[0m\n\u001b[0m\u001b[1;32m    130\u001b[0m         \u001b[0mt1130_index\u001b[0m\u001b[0;34m,\u001b[0m \u001b[0;34m=\u001b[0m \u001b[0mtime_series\u001b[0m\u001b[0;34m.\u001b[0m\u001b[0mindexer_at_time\u001b[0m\u001b[0;34m(\u001b[0m\u001b[0mt1130\u001b[0m\u001b[0;34m)\u001b[0m \u001b[0;31m#1130のindexを特定.カンマはarrayから取り出している\u001b[0m\u001b[0;34m\u001b[0m\u001b[0m\n\u001b[1;32m    131\u001b[0m         \u001b[0;31m#午後の引けを特定する.こっちは最後のデータのindexを探す\u001b[0m\u001b[0;34m\u001b[0m\u001b[0;34m\u001b[0m\u001b[0m\n",
      "\u001b[0;31mNameError\u001b[0m: name 'min_df' is not defined"
     ]
    }
   ],
   "source": [
    "toyota5min = d20160224.get_four_prices_volume_5min(7203)"
   ]
  },
  {
   "cell_type": "code",
   "execution_count": 549,
   "metadata": {
    "collapsed": false
   },
   "outputs": [
    {
     "data": {
      "image/png": "[encoded data removed]",
      "text/plain": [
       "<matplotlib.figure.Figure at 0x13bacff98>"
      ]
     },
     "metadata": {},
     "output_type": "display_data"
    }
   ],
   "source": [
    "d20160224.plot_5min(7203)"
   ]
  },
  {
   "cell_type": "code",
   "execution_count": 550,
   "metadata": {
    "collapsed": false
   },
   "outputs": [
    {
     "data": {
      "image/png": "[encoded data removed]",
      "text/plain": [
       "<matplotlib.figure.Figure at 0x13f2e9be0>"
      ]
     },
     "metadata": {},
     "output_type": "display_data"
    }
   ],
   "source": [
    "d20160224.plot_5min(7752)"
   ]
  },
  {
   "cell_type": "code",
   "execution_count": null,
   "metadata": {
    "collapsed": true
   },
   "outputs": [],
   "source": []
  },
  {
   "cell_type": "code",
   "execution_count": 1,
   "metadata": {
    "collapsed": false
   },
   "outputs": [
    {
     "ename": "NameError",
     "evalue": "name 'canon5min' is not defined",
     "output_type": "error",
     "traceback": [
      "\u001b[0;31m---------------------------------------------------------------------------\u001b[0m",
      "\u001b[0;31mNameError\u001b[0m                                 Traceback (most recent call last)",
      "\u001b[0;32m<ipython-input-1-7e428522ed59>\u001b[0m in \u001b[0;36m<module>\u001b[0;34m()\u001b[0m\n\u001b[1;32m     17\u001b[0m \u001b[0;32mimport\u001b[0m \u001b[0mmatplotlib\u001b[0m\u001b[0;34m.\u001b[0m\u001b[0mticker\u001b[0m \u001b[0;32mas\u001b[0m \u001b[0mmticker\u001b[0m\u001b[0;34m\u001b[0m\u001b[0m\n\u001b[1;32m     18\u001b[0m \u001b[0;34m\u001b[0m\u001b[0m\n\u001b[0;32m---> 19\u001b[0;31m \u001b[0mdf_name\u001b[0m \u001b[0;34m=\u001b[0m \u001b[0mcanon5min\u001b[0m\u001b[0;34m\u001b[0m\u001b[0m\n\u001b[0m\u001b[1;32m     20\u001b[0m \u001b[0;34m\u001b[0m\u001b[0m\n\u001b[1;32m     21\u001b[0m \u001b[0mpytime\u001b[0m \u001b[0;34m=\u001b[0m \u001b[0;34m[\u001b[0m\u001b[0mx\u001b[0m\u001b[0;34m.\u001b[0m\u001b[0mto_datetime\u001b[0m\u001b[0;34m(\u001b[0m\u001b[0;34m)\u001b[0m \u001b[0;32mfor\u001b[0m \u001b[0mx\u001b[0m \u001b[0;32min\u001b[0m \u001b[0mdf_name\u001b[0m\u001b[0;34m.\u001b[0m\u001b[0mindex\u001b[0m\u001b[0;34m]\u001b[0m\u001b[0;34m\u001b[0m\u001b[0m\n",
      "\u001b[0;31mNameError\u001b[0m: name 'canon5min' is not defined"
     ]
    }
   ],
   "source": [
    "import matplotlib\n",
    "matplotlib.use('TkAgg')\n",
    "\n",
    "import numpy as np\n",
    "from matplotlib.backends.backend_tkagg import FigureCanvasTkAgg\n",
    "# implement the default mpl key bindings\n",
    "from matplotlib.backend_bases import key_press_handler\n",
    "\n",
    "from matplotlib.figure import Figure\n",
    "import tkinter as tk\n",
    "\n",
    "import matplotlib.dates as md\n",
    "import datetime\n",
    "import matplotlib.pyplot as plt\n",
    "from matplotlib.dates import DateFormatter\n",
    "from matplotlib.finance import candlestick_ohlc\n",
    "import matplotlib.ticker as mticker\n",
    "\n",
    "df_name = canon5min\n",
    "\n",
    "pytime = [x.to_datetime() for x in df_name.index]\n",
    "mpltime = [md.date2num(x) for x in pytime]\n",
    "#次にohlc形式のリストを作ろう\n",
    "ohlc = [(t, v[0],v[1],v[2],v[3]) for t, v in zip(mpltime, df_name.values)]\n",
    "\n",
    "# dayFormatter = DateFormatter('%d')      # e.g., 12\n",
    "\n",
    "# fig, (ax1, ax2) = plt.subplots(nrows=2, figsize=(12,12), sharex=True)\n",
    "fig = plt.figure(figsize=(10,8))\n",
    "\n",
    "ax1 = fig.add_axes((0, 0.25, 1, 0.7))\n",
    "ax2 = fig.add_axes((0, 0, 1, 0.2), sharex=ax1)\n",
    "\n",
    "# ax1 = fig.add_subplot(211)\n",
    "# ax2 = fig.add_subplot(212, sharex = ax1)\n",
    "\n",
    "# fig.subplots_adjust(bottom=0.2)\n",
    "\n",
    "#昼休みをスキップするようなlocator必要かも。\n",
    "# minute = md.MinuteLocator()\n",
    "hour = md.HourLocator()\n",
    "ax1.xaxis.set_major_locator(hour)\n",
    "# ax.xaxis.set_major_locator(mticker.MaxNLocator(15))\n",
    "#30分のラインも引きたいところだ.\n",
    "#x軸の範囲はどうきめるのだろうか？\n",
    "#引き渡してる値を使うのかも→その通り\n",
    "#mpltimeを使って操作する\n",
    "# ax.set_xlim( 736018.3819444445, 736018.625)\n",
    "\n",
    "dayFormatter = md.DateFormatter('%H:%M')\n",
    "ax1.xaxis.set_major_formatter(dayFormatter)\n",
    "\n",
    "ax1.grid(True)\n",
    "\n",
    "#ローソク足チャートを描画する\n",
    "#太さを自動調整するように関数必要かもしれないな。\n",
    "candlestick_ohlc(ax1, ohlc,width=0.0025,colorup='cornflowerblue', colordown='midnightblue')\n",
    "\n",
    "ax1.xaxis.set_major_locator(hour)\n",
    "\n",
    "dayFormatter = md.DateFormatter('%H:%M')\n",
    "ax1.xaxis.set_major_formatter(dayFormatter)\n",
    "\n",
    "ax1.grid(True)\n",
    "\n",
    "ax2.bar(mpltime, df_name['volume'].values,width = 0.0025, color = 'darkslateblue', edgecolor='none')\n",
    "ax2.xaxis.set_major_locator(hour)\n",
    "ax2.xaxis.set_major_formatter(dayFormatter)\n",
    "ax2.grid(True)\n",
    "\n",
    "root = tk.Tk()\n",
    "root.wm_title(\"Embedding in TK\")\n",
    "\n",
    "canvas = FigureCanvasTkAgg(fig, master=root)\n",
    "canvas.show()\n",
    "canvas._tkcanvas.pack(side=tk.TOP, fill=tk.BOTH, expand=1)\n",
    "\n",
    "root.mainloop()"
   ]
  },
  {
   "cell_type": "code",
   "execution_count": null,
   "metadata": {
    "collapsed": true
   },
   "outputs": [],
   "source": []
  },
  {
   "cell_type": "code",
   "execution_count": 488,
   "metadata": {
    "collapsed": false
   },
   "outputs": [],
   "source": [
    "toyota5min = d20160224.get_four_prices_volume_5min(7203)"
   ]
  },
  {
   "cell_type": "code",
   "execution_count": 537,
   "metadata": {
    "collapsed": true
   },
   "outputs": [],
   "source": [
    "canon5min  = d20160224.get_four_prices_volume_5min(7751)"
   ]
  },
  {
   "cell_type": "code",
   "execution_count": 539,
   "metadata": {
    "collapsed": true
   },
   "outputs": [],
   "source": [
    "ricoh5min = d20160224.get_four_prices_volume_5min(7752)"
   ]
  },
  {
   "cell_type": "code",
   "execution_count": 490,
   "metadata": {
    "collapsed": false
   },
   "outputs": [
    {
     "data": {
      "text/html": [
       "<div>\n",
       "<table border=\"1\" class=\"dataframe\">\n",
       "  <thead>\n",
       "    <tr style=\"text-align: right;\">\n",
       "      <th></th>\n",
       "      <th>open</th>\n",
       "      <th>high</th>\n",
       "      <th>low</th>\n",
       "      <th>close</th>\n",
       "      <th>volume</th>\n",
       "    </tr>\n",
       "  </thead>\n",
       "  <tbody>\n",
       "    <tr>\n",
       "      <th>2016-02-24 14:40:00</th>\n",
       "      <td>5970</td>\n",
       "      <td>5970</td>\n",
       "      <td>5962</td>\n",
       "      <td>5968</td>\n",
       "      <td>194900</td>\n",
       "    </tr>\n",
       "    <tr>\n",
       "      <th>2016-02-24 14:45:00</th>\n",
       "      <td>5968</td>\n",
       "      <td>5970</td>\n",
       "      <td>5953</td>\n",
       "      <td>5960</td>\n",
       "      <td>208000</td>\n",
       "    </tr>\n",
       "    <tr>\n",
       "      <th>2016-02-24 14:50:00</th>\n",
       "      <td>5960</td>\n",
       "      <td>5963</td>\n",
       "      <td>5953</td>\n",
       "      <td>5962</td>\n",
       "      <td>196300</td>\n",
       "    </tr>\n",
       "    <tr>\n",
       "      <th>2016-02-24 14:55:00</th>\n",
       "      <td>5962</td>\n",
       "      <td>5974</td>\n",
       "      <td>5959</td>\n",
       "      <td>5974</td>\n",
       "      <td>214200</td>\n",
       "    </tr>\n",
       "    <tr>\n",
       "      <th>2016-02-24 15:00:00</th>\n",
       "      <td>5974</td>\n",
       "      <td>5974</td>\n",
       "      <td>5974</td>\n",
       "      <td>5974</td>\n",
       "      <td>449000</td>\n",
       "    </tr>\n",
       "  </tbody>\n",
       "</table>\n",
       "</div>"
      ],
      "text/plain": [
       "                     open  high   low  close  volume\n",
       "2016-02-24 14:40:00  5970  5970  5962   5968  194900\n",
       "2016-02-24 14:45:00  5968  5970  5953   5960  208000\n",
       "2016-02-24 14:50:00  5960  5963  5953   5962  196300\n",
       "2016-02-24 14:55:00  5962  5974  5959   5974  214200\n",
       "2016-02-24 15:00:00  5974  5974  5974   5974  449000"
      ]
     },
     "execution_count": 490,
     "metadata": {},
     "output_type": "execute_result"
    }
   ],
   "source": [
    "toyota5min.tail()"
   ]
  },
  {
   "cell_type": "code",
   "execution_count": 542,
   "metadata": {
    "collapsed": false
   },
   "outputs": [
    {
     "data": {
      "image/png": "[encoded data removed]",
      "text/plain": [
       "<matplotlib.figure.Figure at 0x13cb524e0>"
      ]
     },
     "metadata": {},
     "output_type": "display_data"
    }
   ],
   "source": [
    "#株価の表示\n",
    "#まずは日付をmatplotlibの関数を使ってmatplotlib内部の日時表記に変更する\n",
    "#そのためにはpython標準のdatetimeにする必要がある。ここでawareにしたほうがよいかもしれない。があとでやるか\n",
    "#いや、もう標準時での時間として処理してしまえばよい。ダウとかとデータが混ざらなければ、日本を絶対時間にしてもよい。かな？\n",
    "import matplotlib.dates as md\n",
    "import datetime\n",
    "import matplotlib.pyplot as plt\n",
    "from matplotlib.dates import DateFormatter\n",
    "from matplotlib.finance import candlestick_ohlc\n",
    "import matplotlib.ticker as mticker\n",
    "\n",
    "df_name = canon5min\n",
    "\n",
    "pytime = [x.to_datetime() for x in df_name.index]\n",
    "mpltime = [md.date2num(x) for x in pytime]\n",
    "#次にohlc形式のリストを作ろう\n",
    "ohlc = [(t, v[0],v[1],v[2],v[3]) for t, v in zip(mpltime, df_name.values)]\n",
    "\n",
    "# dayFormatter = DateFormatter('%d')      # e.g., 12\n",
    "\n",
    "# fig, (ax1, ax2) = plt.subplots(nrows=2, figsize=(12,12), sharex=True)\n",
    "fig = plt.figure(figsize=(10,8))\n",
    "\n",
    "ax1 = fig.add_axes((0, 0.25, 1, 0.7))\n",
    "ax2 = fig.add_axes((0, 0, 1, 0.2), sharex=ax1)\n",
    "\n",
    "# ax1 = fig.add_subplot(211)\n",
    "# ax2 = fig.add_subplot(212, sharex = ax1)\n",
    "\n",
    "# fig.subplots_adjust(bottom=0.2)\n",
    "\n",
    "#昼休みをスキップするようなlocator必要かも。\n",
    "# minute = md.MinuteLocator()\n",
    "hour = md.HourLocator()\n",
    "ax1.xaxis.set_major_locator(hour)\n",
    "# ax.xaxis.set_major_locator(mticker.MaxNLocator(15))\n",
    "#30分のラインも引きたいところだ.\n",
    "#x軸の範囲はどうきめるのだろうか？\n",
    "#引き渡してる値を使うのかも→その通り\n",
    "#mpltimeを使って操作する\n",
    "# ax.set_xlim( 736018.3819444445, 736018.625)\n",
    "\n",
    "dayFormatter = md.DateFormatter('%H:%M')\n",
    "ax1.xaxis.set_major_formatter(dayFormatter)\n",
    "\n",
    "ax1.grid(True)\n",
    "\n",
    "#ローソク足チャートを描画する\n",
    "#太さを自動調整するように関数必要かもしれないな。\n",
    "candlestick_ohlc(ax1, ohlc,width=0.0025,colorup='cornflowerblue', colordown='midnightblue')\n",
    "\n",
    "ax1.xaxis.set_major_locator(hour)\n",
    "\n",
    "dayFormatter = md.DateFormatter('%H:%M')\n",
    "ax1.xaxis.set_major_formatter(dayFormatter)\n",
    "\n",
    "ax1.grid(True)\n",
    "\n",
    "ax2.bar(mpltime, df_name['volume'].values,width = 0.0025, color = 'darkslateblue', edgecolor='none')\n",
    "ax2.xaxis.set_major_locator(hour)\n",
    "ax2.xaxis.set_major_formatter(dayFormatter)\n",
    "ax2.grid(True)\n",
    "\n",
    "\n",
    "# ax.xaxis_date()\n",
    "# ax.autoscale_view()\n",
    "# plt.setp(plt.gca().get_xticklabels(), rotation=45, horizontalalignment='right')\n",
    "# plt.xlabel('Hour')\n",
    "# plt.ylabel('Price')\n",
    "# plt.title('ohlc chart')\n",
    "\n",
    "plt.show()"
   ]
  },
  {
   "cell_type": "code",
   "execution_count": 492,
   "metadata": {
    "collapsed": true
   },
   "outputs": [],
   "source": [
    "v = toyota5min['volume']"
   ]
  },
  {
   "cell_type": "code",
   "execution_count": 536,
   "metadata": {
    "collapsed": false
   },
   "outputs": [
    {
     "data": {
      "text/plain": [
       "2016-02-24 09:00:00    992400\n",
       "2016-02-24 09:05:00    726600\n",
       "2016-02-24 09:10:00    208400\n",
       "2016-02-24 09:15:00    228900\n",
       "2016-02-24 09:20:00    194700\n",
       "Name: volume, dtype: float64"
      ]
     },
     "execution_count": 536,
     "metadata": {},
     "output_type": "execute_result"
    }
   ],
   "source": [
    "v[:5]"
   ]
  },
  {
   "cell_type": "code",
   "execution_count": 535,
   "metadata": {
    "collapsed": false
   },
   "outputs": [
    {
     "data": {
      "text/plain": [
       "10888100.0"
      ]
     },
     "execution_count": 535,
     "metadata": {},
     "output_type": "execute_result"
    }
   ],
   "source": [
    "v.sum()"
   ]
  },
  {
   "cell_type": "code",
   "execution_count": 523,
   "metadata": {
    "collapsed": false
   },
   "outputs": [
    {
     "data": {
      "image/png": "[encoded data removed]",
      "text/plain": [
       "<matplotlib.figure.Figure at 0x13ba11a58>"
      ]
     },
     "metadata": {},
     "output_type": "display_data"
    }
   ],
   "source": [
    "fig = plt.figure(figsize=(12, 8))\n",
    "ax = fig.add_subplot(111)\n",
    "\n",
    "hour = md.HourLocator()\n",
    "ax.xaxis.set_major_locator(hour)\n",
    "\n",
    "dayFormatter = md.DateFormatter('%H:%M')\n",
    "ax.xaxis.set_major_formatter(dayFormatter)\n",
    "\n",
    "ax.grid(True)\n",
    "\n",
    "ax.bar(mpltime, v.values,width = 0.0025, color = 'darkslateblue', edgecolor='none')\n",
    "# ax.plot(v)\n",
    "\n",
    "\n",
    "plt.show()"
   ]
  },
  {
   "cell_type": "code",
   "execution_count": 505,
   "metadata": {
    "collapsed": false
   },
   "outputs": [],
   "source": [
    "ax.bar?"
   ]
  },
  {
   "cell_type": "code",
   "execution_count": 495,
   "metadata": {
    "collapsed": false
   },
   "outputs": [
    {
     "data": {
      "text/plain": [
       "1793681.0"
      ]
     },
     "execution_count": 495,
     "metadata": {},
     "output_type": "execute_result"
    }
   ],
   "source": [
    "toyota1min['open'].values.sum()"
   ]
  },
  {
   "cell_type": "code",
   "execution_count": 475,
   "metadata": {
    "collapsed": true
   },
   "outputs": [],
   "source": [
    "toyotaV = d20160224.get_volume(7203)"
   ]
  },
  {
   "cell_type": "code",
   "execution_count": 476,
   "metadata": {
    "collapsed": false
   },
   "outputs": [
    {
     "data": {
      "text/html": [
       "<div>\n",
       "<table border=\"1\" class=\"dataframe\">\n",
       "  <thead>\n",
       "    <tr style=\"text-align: right;\">\n",
       "      <th></th>\n",
       "      <th>volume</th>\n",
       "    </tr>\n",
       "  </thead>\n",
       "  <tbody>\n",
       "    <tr>\n",
       "      <th>2016-02-24 09:00:00</th>\n",
       "      <td>700300</td>\n",
       "    </tr>\n",
       "    <tr>\n",
       "      <th>2016-02-24 09:01:00</th>\n",
       "      <td>50300</td>\n",
       "    </tr>\n",
       "    <tr>\n",
       "      <th>2016-02-24 09:02:00</th>\n",
       "      <td>157000</td>\n",
       "    </tr>\n",
       "    <tr>\n",
       "      <th>2016-02-24 09:03:00</th>\n",
       "      <td>55400</td>\n",
       "    </tr>\n",
       "    <tr>\n",
       "      <th>2016-02-24 09:04:00</th>\n",
       "      <td>29400</td>\n",
       "    </tr>\n",
       "  </tbody>\n",
       "</table>\n",
       "</div>"
      ],
      "text/plain": [
       "                     volume\n",
       "2016-02-24 09:00:00  700300\n",
       "2016-02-24 09:01:00   50300\n",
       "2016-02-24 09:02:00  157000\n",
       "2016-02-24 09:03:00   55400\n",
       "2016-02-24 09:04:00   29400"
      ]
     },
     "execution_count": 476,
     "metadata": {},
     "output_type": "execute_result"
    }
   ],
   "source": [
    "toyotaV.head()"
   ]
  },
  {
   "cell_type": "code",
   "execution_count": 467,
   "metadata": {
    "collapsed": false
   },
   "outputs": [],
   "source": [
    "df = toyotaV\n",
    "v = df.values.flatten()\n",
    "vd = np.append(v[0], v[1:] - v[:-1])\n",
    "vdf = DataFrame(vd, index = df.index, columns=['volume'])"
   ]
  },
  {
   "cell_type": "code",
   "execution_count": 468,
   "metadata": {
    "collapsed": true
   },
   "outputs": [
    {
     "data": {
      "text/html": [
       "<div>\n",
       "<table border=\"1\" class=\"dataframe\">\n",
       "  <thead>\n",
       "    <tr style=\"text-align: right;\">\n",
       "      <th></th>\n",
       "      <th>volume</th>\n",
       "    </tr>\n",
       "  </thead>\n",
       "  <tbody>\n",
       "    <tr>\n",
       "      <th>2016-02-24 09:00:00</th>\n",
       "      <td>700300</td>\n",
       "    </tr>\n",
       "    <tr>\n",
       "      <th>2016-02-24 09:01:00</th>\n",
       "      <td>50300</td>\n",
       "    </tr>\n",
       "    <tr>\n",
       "      <th>2016-02-24 09:02:00</th>\n",
       "      <td>157000</td>\n",
       "    </tr>\n",
       "    <tr>\n",
       "      <th>2016-02-24 09:03:00</th>\n",
       "      <td>55400</td>\n",
       "    </tr>\n",
       "    <tr>\n",
       "      <th>2016-02-24 09:04:00</th>\n",
       "      <td>29400</td>\n",
       "    </tr>\n",
       "    <tr>\n",
       "      <th>2016-02-24 09:05:00</th>\n",
       "      <td>166900</td>\n",
       "    </tr>\n",
       "    <tr>\n",
       "      <th>2016-02-24 09:06:00</th>\n",
       "      <td>235100</td>\n",
       "    </tr>\n",
       "    <tr>\n",
       "      <th>2016-02-24 09:07:00</th>\n",
       "      <td>143700</td>\n",
       "    </tr>\n",
       "    <tr>\n",
       "      <th>2016-02-24 09:08:00</th>\n",
       "      <td>86200</td>\n",
       "    </tr>\n",
       "    <tr>\n",
       "      <th>2016-02-24 09:09:00</th>\n",
       "      <td>94700</td>\n",
       "    </tr>\n",
       "    <tr>\n",
       "      <th>2016-02-24 09:10:00</th>\n",
       "      <td>59500</td>\n",
       "    </tr>\n",
       "    <tr>\n",
       "      <th>2016-02-24 09:11:00</th>\n",
       "      <td>33500</td>\n",
       "    </tr>\n",
       "    <tr>\n",
       "      <th>2016-02-24 09:12:00</th>\n",
       "      <td>45300</td>\n",
       "    </tr>\n",
       "    <tr>\n",
       "      <th>2016-02-24 09:13:00</th>\n",
       "      <td>26200</td>\n",
       "    </tr>\n",
       "    <tr>\n",
       "      <th>2016-02-24 09:14:00</th>\n",
       "      <td>43900</td>\n",
       "    </tr>\n",
       "    <tr>\n",
       "      <th>2016-02-24 09:15:00</th>\n",
       "      <td>48900</td>\n",
       "    </tr>\n",
       "    <tr>\n",
       "      <th>2016-02-24 09:16:00</th>\n",
       "      <td>56500</td>\n",
       "    </tr>\n",
       "    <tr>\n",
       "      <th>2016-02-24 09:17:00</th>\n",
       "      <td>41200</td>\n",
       "    </tr>\n",
       "    <tr>\n",
       "      <th>2016-02-24 09:18:00</th>\n",
       "      <td>28500</td>\n",
       "    </tr>\n",
       "    <tr>\n",
       "      <th>2016-02-24 09:19:00</th>\n",
       "      <td>53800</td>\n",
       "    </tr>\n",
       "    <tr>\n",
       "      <th>2016-02-24 09:20:00</th>\n",
       "      <td>41500</td>\n",
       "    </tr>\n",
       "    <tr>\n",
       "      <th>2016-02-24 09:21:00</th>\n",
       "      <td>20000</td>\n",
       "    </tr>\n",
       "    <tr>\n",
       "      <th>2016-02-24 09:22:00</th>\n",
       "      <td>19200</td>\n",
       "    </tr>\n",
       "    <tr>\n",
       "      <th>2016-02-24 09:23:00</th>\n",
       "      <td>90600</td>\n",
       "    </tr>\n",
       "    <tr>\n",
       "      <th>2016-02-24 09:24:00</th>\n",
       "      <td>23400</td>\n",
       "    </tr>\n",
       "    <tr>\n",
       "      <th>2016-02-24 09:25:00</th>\n",
       "      <td>26300</td>\n",
       "    </tr>\n",
       "    <tr>\n",
       "      <th>2016-02-24 09:26:00</th>\n",
       "      <td>22400</td>\n",
       "    </tr>\n",
       "    <tr>\n",
       "      <th>2016-02-24 09:27:00</th>\n",
       "      <td>32500</td>\n",
       "    </tr>\n",
       "    <tr>\n",
       "      <th>2016-02-24 09:28:00</th>\n",
       "      <td>20200</td>\n",
       "    </tr>\n",
       "    <tr>\n",
       "      <th>2016-02-24 09:29:00</th>\n",
       "      <td>20600</td>\n",
       "    </tr>\n",
       "    <tr>\n",
       "      <th>...</th>\n",
       "      <td>...</td>\n",
       "    </tr>\n",
       "    <tr>\n",
       "      <th>2016-02-24 14:31:00</th>\n",
       "      <td>31300</td>\n",
       "    </tr>\n",
       "    <tr>\n",
       "      <th>2016-02-24 14:32:00</th>\n",
       "      <td>15600</td>\n",
       "    </tr>\n",
       "    <tr>\n",
       "      <th>2016-02-24 14:33:00</th>\n",
       "      <td>8900</td>\n",
       "    </tr>\n",
       "    <tr>\n",
       "      <th>2016-02-24 14:34:00</th>\n",
       "      <td>16900</td>\n",
       "    </tr>\n",
       "    <tr>\n",
       "      <th>2016-02-24 14:35:00</th>\n",
       "      <td>28000</td>\n",
       "    </tr>\n",
       "    <tr>\n",
       "      <th>2016-02-24 14:36:00</th>\n",
       "      <td>33700</td>\n",
       "    </tr>\n",
       "    <tr>\n",
       "      <th>2016-02-24 14:37:00</th>\n",
       "      <td>48900</td>\n",
       "    </tr>\n",
       "    <tr>\n",
       "      <th>2016-02-24 14:38:00</th>\n",
       "      <td>24700</td>\n",
       "    </tr>\n",
       "    <tr>\n",
       "      <th>2016-02-24 14:39:00</th>\n",
       "      <td>19700</td>\n",
       "    </tr>\n",
       "    <tr>\n",
       "      <th>2016-02-24 14:40:00</th>\n",
       "      <td>85700</td>\n",
       "    </tr>\n",
       "    <tr>\n",
       "      <th>2016-02-24 14:41:00</th>\n",
       "      <td>40500</td>\n",
       "    </tr>\n",
       "    <tr>\n",
       "      <th>2016-02-24 14:42:00</th>\n",
       "      <td>25900</td>\n",
       "    </tr>\n",
       "    <tr>\n",
       "      <th>2016-02-24 14:43:00</th>\n",
       "      <td>22000</td>\n",
       "    </tr>\n",
       "    <tr>\n",
       "      <th>2016-02-24 14:44:00</th>\n",
       "      <td>20800</td>\n",
       "    </tr>\n",
       "    <tr>\n",
       "      <th>2016-02-24 14:45:00</th>\n",
       "      <td>39800</td>\n",
       "    </tr>\n",
       "    <tr>\n",
       "      <th>2016-02-24 14:46:00</th>\n",
       "      <td>59500</td>\n",
       "    </tr>\n",
       "    <tr>\n",
       "      <th>2016-02-24 14:47:00</th>\n",
       "      <td>52200</td>\n",
       "    </tr>\n",
       "    <tr>\n",
       "      <th>2016-02-24 14:48:00</th>\n",
       "      <td>43300</td>\n",
       "    </tr>\n",
       "    <tr>\n",
       "      <th>2016-02-24 14:49:00</th>\n",
       "      <td>13200</td>\n",
       "    </tr>\n",
       "    <tr>\n",
       "      <th>2016-02-24 14:50:00</th>\n",
       "      <td>65200</td>\n",
       "    </tr>\n",
       "    <tr>\n",
       "      <th>2016-02-24 14:51:00</th>\n",
       "      <td>50200</td>\n",
       "    </tr>\n",
       "    <tr>\n",
       "      <th>2016-02-24 14:52:00</th>\n",
       "      <td>15100</td>\n",
       "    </tr>\n",
       "    <tr>\n",
       "      <th>2016-02-24 14:53:00</th>\n",
       "      <td>30400</td>\n",
       "    </tr>\n",
       "    <tr>\n",
       "      <th>2016-02-24 14:54:00</th>\n",
       "      <td>35400</td>\n",
       "    </tr>\n",
       "    <tr>\n",
       "      <th>2016-02-24 14:55:00</th>\n",
       "      <td>47100</td>\n",
       "    </tr>\n",
       "    <tr>\n",
       "      <th>2016-02-24 14:56:00</th>\n",
       "      <td>31100</td>\n",
       "    </tr>\n",
       "    <tr>\n",
       "      <th>2016-02-24 14:57:00</th>\n",
       "      <td>24600</td>\n",
       "    </tr>\n",
       "    <tr>\n",
       "      <th>2016-02-24 14:58:00</th>\n",
       "      <td>47400</td>\n",
       "    </tr>\n",
       "    <tr>\n",
       "      <th>2016-02-24 14:59:00</th>\n",
       "      <td>64000</td>\n",
       "    </tr>\n",
       "    <tr>\n",
       "      <th>2016-02-24 15:00:00</th>\n",
       "      <td>449000</td>\n",
       "    </tr>\n",
       "  </tbody>\n",
       "</table>\n",
       "<p>302 rows × 1 columns</p>\n",
       "</div>"
      ],
      "text/plain": [
       "                     volume\n",
       "2016-02-24 09:00:00  700300\n",
       "2016-02-24 09:01:00   50300\n",
       "2016-02-24 09:02:00  157000\n",
       "2016-02-24 09:03:00   55400\n",
       "2016-02-24 09:04:00   29400\n",
       "2016-02-24 09:05:00  166900\n",
       "2016-02-24 09:06:00  235100\n",
       "2016-02-24 09:07:00  143700\n",
       "2016-02-24 09:08:00   86200\n",
       "2016-02-24 09:09:00   94700\n",
       "2016-02-24 09:10:00   59500\n",
       "2016-02-24 09:11:00   33500\n",
       "2016-02-24 09:12:00   45300\n",
       "2016-02-24 09:13:00   26200\n",
       "2016-02-24 09:14:00   43900\n",
       "2016-02-24 09:15:00   48900\n",
       "2016-02-24 09:16:00   56500\n",
       "2016-02-24 09:17:00   41200\n",
       "2016-02-24 09:18:00   28500\n",
       "2016-02-24 09:19:00   53800\n",
       "2016-02-24 09:20:00   41500\n",
       "2016-02-24 09:21:00   20000\n",
       "2016-02-24 09:22:00   19200\n",
       "2016-02-24 09:23:00   90600\n",
       "2016-02-24 09:24:00   23400\n",
       "2016-02-24 09:25:00   26300\n",
       "2016-02-24 09:26:00   22400\n",
       "2016-02-24 09:27:00   32500\n",
       "2016-02-24 09:28:00   20200\n",
       "2016-02-24 09:29:00   20600\n",
       "...                     ...\n",
       "2016-02-24 14:31:00   31300\n",
       "2016-02-24 14:32:00   15600\n",
       "2016-02-24 14:33:00    8900\n",
       "2016-02-24 14:34:00   16900\n",
       "2016-02-24 14:35:00   28000\n",
       "2016-02-24 14:36:00   33700\n",
       "2016-02-24 14:37:00   48900\n",
       "2016-02-24 14:38:00   24700\n",
       "2016-02-24 14:39:00   19700\n",
       "2016-02-24 14:40:00   85700\n",
       "2016-02-24 14:41:00   40500\n",
       "2016-02-24 14:42:00   25900\n",
       "2016-02-24 14:43:00   22000\n",
       "2016-02-24 14:44:00   20800\n",
       "2016-02-24 14:45:00   39800\n",
       "2016-02-24 14:46:00   59500\n",
       "2016-02-24 14:47:00   52200\n",
       "2016-02-24 14:48:00   43300\n",
       "2016-02-24 14:49:00   13200\n",
       "2016-02-24 14:50:00   65200\n",
       "2016-02-24 14:51:00   50200\n",
       "2016-02-24 14:52:00   15100\n",
       "2016-02-24 14:53:00   30400\n",
       "2016-02-24 14:54:00   35400\n",
       "2016-02-24 14:55:00   47100\n",
       "2016-02-24 14:56:00   31100\n",
       "2016-02-24 14:57:00   24600\n",
       "2016-02-24 14:58:00   47400\n",
       "2016-02-24 14:59:00   64000\n",
       "2016-02-24 15:00:00  449000\n",
       "\n",
       "[302 rows x 1 columns]"
      ]
     },
     "execution_count": 468,
     "metadata": {},
     "output_type": "execute_result"
    }
   ],
   "source": [
    "vdf"
   ]
  },
  {
   "cell_type": "code",
   "execution_count": null,
   "metadata": {
    "collapsed": true
   },
   "outputs": [],
   "source": []
  },
  {
   "cell_type": "code",
   "execution_count": 465,
   "metadata": {
    "collapsed": false
   },
   "outputs": [
    {
     "data": {
      "text/plain": [
       "array([  700300,   750600,   907600,   963000,   992400,  1159300,\n",
       "        1394400,  1538100,  1624300,  1719000,  1778500,  1812000,\n",
       "        1857300,  1883500,  1927400,  1976300,  2032800,  2074000,\n",
       "        2102500,  2156300,  2197800,  2217800,  2237000,  2327600,\n",
       "        2351000,  2377300,  2399700,  2432200,  2452400,  2473000,\n",
       "        2527100,  2541100,  2604900,  2671800,  2721900,  2760200,\n",
       "        2789200,  2812700,  2874900,  2934400,  2954300,  2996500,\n",
       "        3024400,  3079400,  3105100,  3144300,  3153800,  3209200,\n",
       "        3256000,  3284800,  3298400,  3314600,  3351000,  3384900,\n",
       "        3404000,  3425200,  3434700,  3451300,  3468200,  3480400,\n",
       "        3503300,  3527100,  3586000,  3601100,  3632700,  3747000,\n",
       "        3774700,  3795800,  3813000,  3864400,  3925100,  3943000,\n",
       "        3959400,  3972800,  3994900,  4056000,  4080400,  4148500,\n",
       "        4177700,  4207600,  4226700,  4302700,  4342300,  4371100,\n",
       "        4381900,  4398400,  4419700,  4432300,  4446500,  4456700,\n",
       "        4511500,  4540600,  4560500,  4581800,  4590400,  4615800,\n",
       "        4646800,  4663400,  4669800,  4695100,  4716700,  4731700,\n",
       "        4759900,  4770800,  4788000,  4805300,  4835700,  4849600,\n",
       "        4860500,  4876200,  4934100,  4969300,  4992600,  5008600,\n",
       "        5028900,  5046200,  5053400,  5074000,  5098300,  5116500,\n",
       "        5128100,  5139300,  5172500,  5201900,  5219000,  5240000,\n",
       "        5258400,  5294000,  5303500,  5324100,  5330600,  5346200,\n",
       "        5354500,  5362000,  5373500,  5413000,  5454400,  5482800,\n",
       "        5517100,  5526300,  5567600,  5596200,  5627800,  5654900,\n",
       "        5665300,  5674000,  5685500,  5693200,  5704300,  5723900,\n",
       "        5745900,  6433900,  6452700,  6492300,  6516400,  6539200,\n",
       "        6556000,  6580900,  6600100,  6628800,  6659500,  6683400,\n",
       "        6704800,  6740000,  6763900,  6825700,  6838000,  6860600,\n",
       "        6872900,  6903600,  6923900,  6942300,  6959200,  6971600,\n",
       "        6983600,  7026800,  7037500,  7055900,  7063500,  7078800,\n",
       "        7093300,  7132600,  7186500,  7208400,  7224500,  7241700,\n",
       "        7295300,  7321900,  7328700,  7353300,  7391400,  7413000,\n",
       "        7425400,  7460100,  7475700,  7536200,  7555600,  7585000,\n",
       "        7610900,  7649100,  7668900,  7719300,  7736000,  7795400,\n",
       "        7835500,  7857800,  7888200,  7906800,  7932100,  7969000,\n",
       "        7990600,  8016500,  8061000,  8082800,  8127100,  8174500,\n",
       "        8199300,  8209400,  8231100,  8242500,  8305200,  8325000,\n",
       "        8334700,  8343100,  8352300,  8370000,  8384500,  8391700,\n",
       "        8434800,  8460400,  8469800,  8482400,  8495600,  8547500,\n",
       "        8581100,  8601300,  8623100,  8633600,  8654400,  8671600,\n",
       "        8686000,  8719300,  8739800,  8773600,  8785500,  8807400,\n",
       "        8871900,  8885700,  8906400,  8926500,  8933300,  8959000,\n",
       "        8985200,  8996000,  9028100,  9051800,  9073500,  9102100,\n",
       "        9117000,  9139700,  9151600,  9197000,  9220800,  9246000,\n",
       "        9264800,  9273400,  9291700,  9313600,  9326400,  9333800,\n",
       "        9354800,  9398000,  9429300,  9444900,  9453800,  9470700,\n",
       "        9498700,  9532400,  9581300,  9606000,  9625700,  9711400,\n",
       "        9751900,  9777800,  9799800,  9820600,  9860400,  9919900,\n",
       "        9972100, 10015400, 10028600, 10093800, 10144000, 10159100,\n",
       "       10189500, 10224900, 10272000, 10303100, 10327700, 10375100,\n",
       "       10439100, 10888100])"
      ]
     },
     "execution_count": 465,
     "metadata": {},
     "output_type": "execute_result"
    }
   ],
   "source": [
    "toyotaV.values.flatten()"
   ]
  },
  {
   "cell_type": "code",
   "execution_count": null,
   "metadata": {
    "collapsed": true
   },
   "outputs": [],
   "source": []
  },
  {
   "cell_type": "code",
   "execution_count": null,
   "metadata": {
    "collapsed": true
   },
   "outputs": [],
   "source": []
  },
  {
   "cell_type": "code",
   "execution_count": 443,
   "metadata": {
    "collapsed": true
   },
   "outputs": [],
   "source": [
    "toyota1min = d20160224.get_four_prices(7203)"
   ]
  },
  {
   "cell_type": "code",
   "execution_count": 445,
   "metadata": {
    "collapsed": false
   },
   "outputs": [
    {
     "data": {
      "text/plain": [
       "array([[ 5879.,  5899.,  5873.,  5893.],\n",
       "       [ 5894.,  5919.,  5888.,  5903.],\n",
       "       [ 5900.,  5900.,  5887.,  5889.],\n",
       "       ..., \n",
       "       [ 5966.,  5966.,  5959.,  5962.],\n",
       "       [ 5961.,  5974.,  5960.,  5974.],\n",
       "       [ 5974.,  5974.,  5974.,  5974.]])"
      ]
     },
     "execution_count": 445,
     "metadata": {},
     "output_type": "execute_result"
    }
   ],
   "source": [
    "toyota1min[1:].values"
   ]
  },
  {
   "cell_type": "code",
   "execution_count": 441,
   "metadata": {
    "collapsed": false
   },
   "outputs": [
    {
     "data": {
      "text/plain": [
       "2016-02-24 09:00:00    700300\n",
       "2016-02-24 09:01:00    750600\n",
       "2016-02-24 09:02:00    907600\n",
       "2016-02-24 09:03:00    963000\n",
       "2016-02-24 09:04:00    992400\n",
       "Name: volume, dtype: int64"
      ]
     },
     "execution_count": 441,
     "metadata": {},
     "output_type": "execute_result"
    }
   ],
   "source": [
    "v.head()"
   ]
  },
  {
   "cell_type": "code",
   "execution_count": 442,
   "metadata": {
    "collapsed": false
   },
   "outputs": [
    {
     "ename": "KeyError",
     "evalue": "'volume'",
     "output_type": "error",
     "traceback": [
      "\u001b[0;31m---------------------------------------------------------------------------\u001b[0m",
      "\u001b[0;31mKeyError\u001b[0m                                  Traceback (most recent call last)",
      "\u001b[0;32m<ipython-input-442-057c42b8a514>\u001b[0m in \u001b[0;36m<module>\u001b[0;34m()\u001b[0m\n\u001b[0;32m----> 1\u001b[0;31m \u001b[0mv\u001b[0m \u001b[0;34m=\u001b[0m \u001b[0mtoyota1min\u001b[0m\u001b[0;34m[\u001b[0m\u001b[0;34m'volume'\u001b[0m\u001b[0;34m]\u001b[0m\u001b[0;34m\u001b[0m\u001b[0m\n\u001b[0m",
      "\u001b[0;32m/Users/prokapi/anaconda3/lib/python3.5/site-packages/pandas/core/frame.py\u001b[0m in \u001b[0;36m__getitem__\u001b[0;34m(self, key)\u001b[0m\n\u001b[1;32m   1967\u001b[0m             \u001b[0;32mreturn\u001b[0m \u001b[0mself\u001b[0m\u001b[0;34m.\u001b[0m\u001b[0m_getitem_multilevel\u001b[0m\u001b[0;34m(\u001b[0m\u001b[0mkey\u001b[0m\u001b[0;34m)\u001b[0m\u001b[0;34m\u001b[0m\u001b[0m\n\u001b[1;32m   1968\u001b[0m         \u001b[0;32melse\u001b[0m\u001b[0;34m:\u001b[0m\u001b[0;34m\u001b[0m\u001b[0m\n\u001b[0;32m-> 1969\u001b[0;31m             \u001b[0;32mreturn\u001b[0m \u001b[0mself\u001b[0m\u001b[0;34m.\u001b[0m\u001b[0m_getitem_column\u001b[0m\u001b[0;34m(\u001b[0m\u001b[0mkey\u001b[0m\u001b[0;34m)\u001b[0m\u001b[0;34m\u001b[0m\u001b[0m\n\u001b[0m\u001b[1;32m   1970\u001b[0m \u001b[0;34m\u001b[0m\u001b[0m\n\u001b[1;32m   1971\u001b[0m     \u001b[0;32mdef\u001b[0m \u001b[0m_getitem_column\u001b[0m\u001b[0;34m(\u001b[0m\u001b[0mself\u001b[0m\u001b[0;34m,\u001b[0m \u001b[0mkey\u001b[0m\u001b[0;34m)\u001b[0m\u001b[0;34m:\u001b[0m\u001b[0;34m\u001b[0m\u001b[0m\n",
      "\u001b[0;32m/Users/prokapi/anaconda3/lib/python3.5/site-packages/pandas/core/frame.py\u001b[0m in \u001b[0;36m_getitem_column\u001b[0;34m(self, key)\u001b[0m\n\u001b[1;32m   1974\u001b[0m         \u001b[0;31m# get column\u001b[0m\u001b[0;34m\u001b[0m\u001b[0;34m\u001b[0m\u001b[0m\n\u001b[1;32m   1975\u001b[0m         \u001b[0;32mif\u001b[0m \u001b[0mself\u001b[0m\u001b[0;34m.\u001b[0m\u001b[0mcolumns\u001b[0m\u001b[0;34m.\u001b[0m\u001b[0mis_unique\u001b[0m\u001b[0;34m:\u001b[0m\u001b[0;34m\u001b[0m\u001b[0m\n\u001b[0;32m-> 1976\u001b[0;31m             \u001b[0;32mreturn\u001b[0m \u001b[0mself\u001b[0m\u001b[0;34m.\u001b[0m\u001b[0m_get_item_cache\u001b[0m\u001b[0;34m(\u001b[0m\u001b[0mkey\u001b[0m\u001b[0;34m)\u001b[0m\u001b[0;34m\u001b[0m\u001b[0m\n\u001b[0m\u001b[1;32m   1977\u001b[0m \u001b[0;34m\u001b[0m\u001b[0m\n\u001b[1;32m   1978\u001b[0m         \u001b[0;31m# duplicate columns & possible reduce dimensionality\u001b[0m\u001b[0;34m\u001b[0m\u001b[0;34m\u001b[0m\u001b[0m\n",
      "\u001b[0;32m/Users/prokapi/anaconda3/lib/python3.5/site-packages/pandas/core/generic.py\u001b[0m in \u001b[0;36m_get_item_cache\u001b[0;34m(self, item)\u001b[0m\n\u001b[1;32m   1089\u001b[0m         \u001b[0mres\u001b[0m \u001b[0;34m=\u001b[0m \u001b[0mcache\u001b[0m\u001b[0;34m.\u001b[0m\u001b[0mget\u001b[0m\u001b[0;34m(\u001b[0m\u001b[0mitem\u001b[0m\u001b[0;34m)\u001b[0m\u001b[0;34m\u001b[0m\u001b[0m\n\u001b[1;32m   1090\u001b[0m         \u001b[0;32mif\u001b[0m \u001b[0mres\u001b[0m \u001b[0;32mis\u001b[0m \u001b[0;32mNone\u001b[0m\u001b[0;34m:\u001b[0m\u001b[0;34m\u001b[0m\u001b[0m\n\u001b[0;32m-> 1091\u001b[0;31m             \u001b[0mvalues\u001b[0m \u001b[0;34m=\u001b[0m \u001b[0mself\u001b[0m\u001b[0;34m.\u001b[0m\u001b[0m_data\u001b[0m\u001b[0;34m.\u001b[0m\u001b[0mget\u001b[0m\u001b[0;34m(\u001b[0m\u001b[0mitem\u001b[0m\u001b[0;34m)\u001b[0m\u001b[0;34m\u001b[0m\u001b[0m\n\u001b[0m\u001b[1;32m   1092\u001b[0m             \u001b[0mres\u001b[0m \u001b[0;34m=\u001b[0m \u001b[0mself\u001b[0m\u001b[0;34m.\u001b[0m\u001b[0m_box_item_values\u001b[0m\u001b[0;34m(\u001b[0m\u001b[0mitem\u001b[0m\u001b[0;34m,\u001b[0m \u001b[0mvalues\u001b[0m\u001b[0;34m)\u001b[0m\u001b[0;34m\u001b[0m\u001b[0m\n\u001b[1;32m   1093\u001b[0m             \u001b[0mcache\u001b[0m\u001b[0;34m[\u001b[0m\u001b[0mitem\u001b[0m\u001b[0;34m]\u001b[0m \u001b[0;34m=\u001b[0m \u001b[0mres\u001b[0m\u001b[0;34m\u001b[0m\u001b[0m\n",
      "\u001b[0;32m/Users/prokapi/anaconda3/lib/python3.5/site-packages/pandas/core/internals.py\u001b[0m in \u001b[0;36mget\u001b[0;34m(self, item, fastpath)\u001b[0m\n\u001b[1;32m   3209\u001b[0m \u001b[0;34m\u001b[0m\u001b[0m\n\u001b[1;32m   3210\u001b[0m             \u001b[0;32mif\u001b[0m \u001b[0;32mnot\u001b[0m \u001b[0misnull\u001b[0m\u001b[0;34m(\u001b[0m\u001b[0mitem\u001b[0m\u001b[0;34m)\u001b[0m\u001b[0;34m:\u001b[0m\u001b[0;34m\u001b[0m\u001b[0m\n\u001b[0;32m-> 3211\u001b[0;31m                 \u001b[0mloc\u001b[0m \u001b[0;34m=\u001b[0m \u001b[0mself\u001b[0m\u001b[0;34m.\u001b[0m\u001b[0mitems\u001b[0m\u001b[0;34m.\u001b[0m\u001b[0mget_loc\u001b[0m\u001b[0;34m(\u001b[0m\u001b[0mitem\u001b[0m\u001b[0;34m)\u001b[0m\u001b[0;34m\u001b[0m\u001b[0m\n\u001b[0m\u001b[1;32m   3212\u001b[0m             \u001b[0;32melse\u001b[0m\u001b[0;34m:\u001b[0m\u001b[0;34m\u001b[0m\u001b[0m\n\u001b[1;32m   3213\u001b[0m                 \u001b[0mindexer\u001b[0m \u001b[0;34m=\u001b[0m \u001b[0mnp\u001b[0m\u001b[0;34m.\u001b[0m\u001b[0marange\u001b[0m\u001b[0;34m(\u001b[0m\u001b[0mlen\u001b[0m\u001b[0;34m(\u001b[0m\u001b[0mself\u001b[0m\u001b[0;34m.\u001b[0m\u001b[0mitems\u001b[0m\u001b[0;34m)\u001b[0m\u001b[0;34m)\u001b[0m\u001b[0;34m[\u001b[0m\u001b[0misnull\u001b[0m\u001b[0;34m(\u001b[0m\u001b[0mself\u001b[0m\u001b[0;34m.\u001b[0m\u001b[0mitems\u001b[0m\u001b[0;34m)\u001b[0m\u001b[0;34m]\u001b[0m\u001b[0;34m\u001b[0m\u001b[0m\n",
      "\u001b[0;32m/Users/prokapi/anaconda3/lib/python3.5/site-packages/pandas/core/index.py\u001b[0m in \u001b[0;36mget_loc\u001b[0;34m(self, key, method, tolerance)\u001b[0m\n\u001b[1;32m   1757\u001b[0m                                  'backfill or nearest lookups')\n\u001b[1;32m   1758\u001b[0m             \u001b[0mkey\u001b[0m \u001b[0;34m=\u001b[0m \u001b[0m_values_from_object\u001b[0m\u001b[0;34m(\u001b[0m\u001b[0mkey\u001b[0m\u001b[0;34m)\u001b[0m\u001b[0;34m\u001b[0m\u001b[0m\n\u001b[0;32m-> 1759\u001b[0;31m             \u001b[0;32mreturn\u001b[0m \u001b[0mself\u001b[0m\u001b[0;34m.\u001b[0m\u001b[0m_engine\u001b[0m\u001b[0;34m.\u001b[0m\u001b[0mget_loc\u001b[0m\u001b[0;34m(\u001b[0m\u001b[0mkey\u001b[0m\u001b[0;34m)\u001b[0m\u001b[0;34m\u001b[0m\u001b[0m\n\u001b[0m\u001b[1;32m   1760\u001b[0m \u001b[0;34m\u001b[0m\u001b[0m\n\u001b[1;32m   1761\u001b[0m         indexer = self.get_indexer([key], method=method,\n",
      "\u001b[0;32mpandas/index.pyx\u001b[0m in \u001b[0;36mpandas.index.IndexEngine.get_loc (pandas/index.c:3979)\u001b[0;34m()\u001b[0m\n",
      "\u001b[0;32mpandas/index.pyx\u001b[0m in \u001b[0;36mpandas.index.IndexEngine.get_loc (pandas/index.c:3843)\u001b[0;34m()\u001b[0m\n",
      "\u001b[0;32mpandas/hashtable.pyx\u001b[0m in \u001b[0;36mpandas.hashtable.PyObjectHashTable.get_item (pandas/hashtable.c:12265)\u001b[0;34m()\u001b[0m\n",
      "\u001b[0;32mpandas/hashtable.pyx\u001b[0m in \u001b[0;36mpandas.hashtable.PyObjectHashTable.get_item (pandas/hashtable.c:12216)\u001b[0;34m()\u001b[0m\n",
      "\u001b[0;31mKeyError\u001b[0m: 'volume'"
     ]
    }
   ],
   "source": [
    "v = toyota1min['volume']"
   ]
  },
  {
   "cell_type": "code",
   "execution_count": 455,
   "metadata": {
    "collapsed": false
   },
   "outputs": [
    {
     "data": {
      "text/plain": [
       "pandas.core.series.Series"
      ]
     },
     "execution_count": 455,
     "metadata": {},
     "output_type": "execute_result"
    }
   ],
   "source": [
    "type(v)"
   ]
  },
  {
   "cell_type": "code",
   "execution_count": 426,
   "metadata": {
    "collapsed": false
   },
   "outputs": [
    {
     "data": {
      "text/plain": [
       "700300"
      ]
     },
     "execution_count": 426,
     "metadata": {},
     "output_type": "execute_result"
    }
   ],
   "source": [
    "v[0]"
   ]
  },
  {
   "cell_type": "code",
   "execution_count": 427,
   "metadata": {
    "collapsed": true
   },
   "outputs": [],
   "source": [
    "#出来高が積算になっているので差分をとっておく\n",
    "vd = np.append(np.array(v[0]), v[1:].values-v[:-1].values)\n",
    "vdf = DataFrame(vd, index = v.index, columns=['volume'])"
   ]
  },
  {
   "cell_type": "code",
   "execution_count": 432,
   "metadata": {
    "collapsed": false
   },
   "outputs": [],
   "source": [
    "vdf = DataFrame(vd, index = v.index, columns=['volume'])"
   ]
  },
  {
   "cell_type": "code",
   "execution_count": 433,
   "metadata": {
    "collapsed": false
   },
   "outputs": [
    {
     "data": {
      "text/html": [
       "<div>\n",
       "<table border=\"1\" class=\"dataframe\">\n",
       "  <thead>\n",
       "    <tr style=\"text-align: right;\">\n",
       "      <th></th>\n",
       "      <th>volume</th>\n",
       "    </tr>\n",
       "  </thead>\n",
       "  <tbody>\n",
       "    <tr>\n",
       "      <th>2016-02-24 09:00:00</th>\n",
       "      <td>700300</td>\n",
       "    </tr>\n",
       "    <tr>\n",
       "      <th>2016-02-24 09:01:00</th>\n",
       "      <td>50300</td>\n",
       "    </tr>\n",
       "    <tr>\n",
       "      <th>2016-02-24 09:02:00</th>\n",
       "      <td>157000</td>\n",
       "    </tr>\n",
       "    <tr>\n",
       "      <th>2016-02-24 09:03:00</th>\n",
       "      <td>55400</td>\n",
       "    </tr>\n",
       "    <tr>\n",
       "      <th>2016-02-24 09:04:00</th>\n",
       "      <td>29400</td>\n",
       "    </tr>\n",
       "    <tr>\n",
       "      <th>2016-02-24 09:05:00</th>\n",
       "      <td>166900</td>\n",
       "    </tr>\n",
       "    <tr>\n",
       "      <th>2016-02-24 09:06:00</th>\n",
       "      <td>235100</td>\n",
       "    </tr>\n",
       "    <tr>\n",
       "      <th>2016-02-24 09:07:00</th>\n",
       "      <td>143700</td>\n",
       "    </tr>\n",
       "    <tr>\n",
       "      <th>2016-02-24 09:08:00</th>\n",
       "      <td>86200</td>\n",
       "    </tr>\n",
       "    <tr>\n",
       "      <th>2016-02-24 09:09:00</th>\n",
       "      <td>94700</td>\n",
       "    </tr>\n",
       "    <tr>\n",
       "      <th>2016-02-24 09:10:00</th>\n",
       "      <td>59500</td>\n",
       "    </tr>\n",
       "    <tr>\n",
       "      <th>2016-02-24 09:11:00</th>\n",
       "      <td>33500</td>\n",
       "    </tr>\n",
       "    <tr>\n",
       "      <th>2016-02-24 09:12:00</th>\n",
       "      <td>45300</td>\n",
       "    </tr>\n",
       "    <tr>\n",
       "      <th>2016-02-24 09:13:00</th>\n",
       "      <td>26200</td>\n",
       "    </tr>\n",
       "    <tr>\n",
       "      <th>2016-02-24 09:14:00</th>\n",
       "      <td>43900</td>\n",
       "    </tr>\n",
       "    <tr>\n",
       "      <th>2016-02-24 09:15:00</th>\n",
       "      <td>48900</td>\n",
       "    </tr>\n",
       "    <tr>\n",
       "      <th>2016-02-24 09:16:00</th>\n",
       "      <td>56500</td>\n",
       "    </tr>\n",
       "    <tr>\n",
       "      <th>2016-02-24 09:17:00</th>\n",
       "      <td>41200</td>\n",
       "    </tr>\n",
       "    <tr>\n",
       "      <th>2016-02-24 09:18:00</th>\n",
       "      <td>28500</td>\n",
       "    </tr>\n",
       "    <tr>\n",
       "      <th>2016-02-24 09:19:00</th>\n",
       "      <td>53800</td>\n",
       "    </tr>\n",
       "    <tr>\n",
       "      <th>2016-02-24 09:20:00</th>\n",
       "      <td>41500</td>\n",
       "    </tr>\n",
       "    <tr>\n",
       "      <th>2016-02-24 09:21:00</th>\n",
       "      <td>20000</td>\n",
       "    </tr>\n",
       "    <tr>\n",
       "      <th>2016-02-24 09:22:00</th>\n",
       "      <td>19200</td>\n",
       "    </tr>\n",
       "    <tr>\n",
       "      <th>2016-02-24 09:23:00</th>\n",
       "      <td>90600</td>\n",
       "    </tr>\n",
       "    <tr>\n",
       "      <th>2016-02-24 09:24:00</th>\n",
       "      <td>23400</td>\n",
       "    </tr>\n",
       "    <tr>\n",
       "      <th>2016-02-24 09:25:00</th>\n",
       "      <td>26300</td>\n",
       "    </tr>\n",
       "    <tr>\n",
       "      <th>2016-02-24 09:26:00</th>\n",
       "      <td>22400</td>\n",
       "    </tr>\n",
       "    <tr>\n",
       "      <th>2016-02-24 09:27:00</th>\n",
       "      <td>32500</td>\n",
       "    </tr>\n",
       "    <tr>\n",
       "      <th>2016-02-24 09:28:00</th>\n",
       "      <td>20200</td>\n",
       "    </tr>\n",
       "    <tr>\n",
       "      <th>2016-02-24 09:29:00</th>\n",
       "      <td>20600</td>\n",
       "    </tr>\n",
       "    <tr>\n",
       "      <th>...</th>\n",
       "      <td>...</td>\n",
       "    </tr>\n",
       "    <tr>\n",
       "      <th>2016-02-24 14:31:00</th>\n",
       "      <td>31300</td>\n",
       "    </tr>\n",
       "    <tr>\n",
       "      <th>2016-02-24 14:32:00</th>\n",
       "      <td>15600</td>\n",
       "    </tr>\n",
       "    <tr>\n",
       "      <th>2016-02-24 14:33:00</th>\n",
       "      <td>8900</td>\n",
       "    </tr>\n",
       "    <tr>\n",
       "      <th>2016-02-24 14:34:00</th>\n",
       "      <td>16900</td>\n",
       "    </tr>\n",
       "    <tr>\n",
       "      <th>2016-02-24 14:35:00</th>\n",
       "      <td>28000</td>\n",
       "    </tr>\n",
       "    <tr>\n",
       "      <th>2016-02-24 14:36:00</th>\n",
       "      <td>33700</td>\n",
       "    </tr>\n",
       "    <tr>\n",
       "      <th>2016-02-24 14:37:00</th>\n",
       "      <td>48900</td>\n",
       "    </tr>\n",
       "    <tr>\n",
       "      <th>2016-02-24 14:38:00</th>\n",
       "      <td>24700</td>\n",
       "    </tr>\n",
       "    <tr>\n",
       "      <th>2016-02-24 14:39:00</th>\n",
       "      <td>19700</td>\n",
       "    </tr>\n",
       "    <tr>\n",
       "      <th>2016-02-24 14:40:00</th>\n",
       "      <td>85700</td>\n",
       "    </tr>\n",
       "    <tr>\n",
       "      <th>2016-02-24 14:41:00</th>\n",
       "      <td>40500</td>\n",
       "    </tr>\n",
       "    <tr>\n",
       "      <th>2016-02-24 14:42:00</th>\n",
       "      <td>25900</td>\n",
       "    </tr>\n",
       "    <tr>\n",
       "      <th>2016-02-24 14:43:00</th>\n",
       "      <td>22000</td>\n",
       "    </tr>\n",
       "    <tr>\n",
       "      <th>2016-02-24 14:44:00</th>\n",
       "      <td>20800</td>\n",
       "    </tr>\n",
       "    <tr>\n",
       "      <th>2016-02-24 14:45:00</th>\n",
       "      <td>39800</td>\n",
       "    </tr>\n",
       "    <tr>\n",
       "      <th>2016-02-24 14:46:00</th>\n",
       "      <td>59500</td>\n",
       "    </tr>\n",
       "    <tr>\n",
       "      <th>2016-02-24 14:47:00</th>\n",
       "      <td>52200</td>\n",
       "    </tr>\n",
       "    <tr>\n",
       "      <th>2016-02-24 14:48:00</th>\n",
       "      <td>43300</td>\n",
       "    </tr>\n",
       "    <tr>\n",
       "      <th>2016-02-24 14:49:00</th>\n",
       "      <td>13200</td>\n",
       "    </tr>\n",
       "    <tr>\n",
       "      <th>2016-02-24 14:50:00</th>\n",
       "      <td>65200</td>\n",
       "    </tr>\n",
       "    <tr>\n",
       "      <th>2016-02-24 14:51:00</th>\n",
       "      <td>50200</td>\n",
       "    </tr>\n",
       "    <tr>\n",
       "      <th>2016-02-24 14:52:00</th>\n",
       "      <td>15100</td>\n",
       "    </tr>\n",
       "    <tr>\n",
       "      <th>2016-02-24 14:53:00</th>\n",
       "      <td>30400</td>\n",
       "    </tr>\n",
       "    <tr>\n",
       "      <th>2016-02-24 14:54:00</th>\n",
       "      <td>35400</td>\n",
       "    </tr>\n",
       "    <tr>\n",
       "      <th>2016-02-24 14:55:00</th>\n",
       "      <td>47100</td>\n",
       "    </tr>\n",
       "    <tr>\n",
       "      <th>2016-02-24 14:56:00</th>\n",
       "      <td>31100</td>\n",
       "    </tr>\n",
       "    <tr>\n",
       "      <th>2016-02-24 14:57:00</th>\n",
       "      <td>24600</td>\n",
       "    </tr>\n",
       "    <tr>\n",
       "      <th>2016-02-24 14:58:00</th>\n",
       "      <td>47400</td>\n",
       "    </tr>\n",
       "    <tr>\n",
       "      <th>2016-02-24 14:59:00</th>\n",
       "      <td>64000</td>\n",
       "    </tr>\n",
       "    <tr>\n",
       "      <th>2016-02-24 15:00:00</th>\n",
       "      <td>449000</td>\n",
       "    </tr>\n",
       "  </tbody>\n",
       "</table>\n",
       "<p>302 rows × 1 columns</p>\n",
       "</div>"
      ],
      "text/plain": [
       "                     volume\n",
       "2016-02-24 09:00:00  700300\n",
       "2016-02-24 09:01:00   50300\n",
       "2016-02-24 09:02:00  157000\n",
       "2016-02-24 09:03:00   55400\n",
       "2016-02-24 09:04:00   29400\n",
       "2016-02-24 09:05:00  166900\n",
       "2016-02-24 09:06:00  235100\n",
       "2016-02-24 09:07:00  143700\n",
       "2016-02-24 09:08:00   86200\n",
       "2016-02-24 09:09:00   94700\n",
       "2016-02-24 09:10:00   59500\n",
       "2016-02-24 09:11:00   33500\n",
       "2016-02-24 09:12:00   45300\n",
       "2016-02-24 09:13:00   26200\n",
       "2016-02-24 09:14:00   43900\n",
       "2016-02-24 09:15:00   48900\n",
       "2016-02-24 09:16:00   56500\n",
       "2016-02-24 09:17:00   41200\n",
       "2016-02-24 09:18:00   28500\n",
       "2016-02-24 09:19:00   53800\n",
       "2016-02-24 09:20:00   41500\n",
       "2016-02-24 09:21:00   20000\n",
       "2016-02-24 09:22:00   19200\n",
       "2016-02-24 09:23:00   90600\n",
       "2016-02-24 09:24:00   23400\n",
       "2016-02-24 09:25:00   26300\n",
       "2016-02-24 09:26:00   22400\n",
       "2016-02-24 09:27:00   32500\n",
       "2016-02-24 09:28:00   20200\n",
       "2016-02-24 09:29:00   20600\n",
       "...                     ...\n",
       "2016-02-24 14:31:00   31300\n",
       "2016-02-24 14:32:00   15600\n",
       "2016-02-24 14:33:00    8900\n",
       "2016-02-24 14:34:00   16900\n",
       "2016-02-24 14:35:00   28000\n",
       "2016-02-24 14:36:00   33700\n",
       "2016-02-24 14:37:00   48900\n",
       "2016-02-24 14:38:00   24700\n",
       "2016-02-24 14:39:00   19700\n",
       "2016-02-24 14:40:00   85700\n",
       "2016-02-24 14:41:00   40500\n",
       "2016-02-24 14:42:00   25900\n",
       "2016-02-24 14:43:00   22000\n",
       "2016-02-24 14:44:00   20800\n",
       "2016-02-24 14:45:00   39800\n",
       "2016-02-24 14:46:00   59500\n",
       "2016-02-24 14:47:00   52200\n",
       "2016-02-24 14:48:00   43300\n",
       "2016-02-24 14:49:00   13200\n",
       "2016-02-24 14:50:00   65200\n",
       "2016-02-24 14:51:00   50200\n",
       "2016-02-24 14:52:00   15100\n",
       "2016-02-24 14:53:00   30400\n",
       "2016-02-24 14:54:00   35400\n",
       "2016-02-24 14:55:00   47100\n",
       "2016-02-24 14:56:00   31100\n",
       "2016-02-24 14:57:00   24600\n",
       "2016-02-24 14:58:00   47400\n",
       "2016-02-24 14:59:00   64000\n",
       "2016-02-24 15:00:00  449000\n",
       "\n",
       "[302 rows x 1 columns]"
      ]
     },
     "execution_count": 433,
     "metadata": {},
     "output_type": "execute_result"
    }
   ],
   "source": [
    "vdf"
   ]
  },
  {
   "cell_type": "code",
   "execution_count": 423,
   "metadata": {
    "collapsed": false
   },
   "outputs": [
    {
     "data": {
      "text/plain": [
       "array([ 50300, 157000,  55400,  29400, 166900, 235100, 143700,  86200,\n",
       "        94700,  59500,  33500,  45300,  26200,  43900,  48900,  56500,\n",
       "        41200,  28500,  53800,  41500,  20000,  19200,  90600,  23400,\n",
       "        26300,  22400,  32500,  20200,  20600,  54100,  14000,  63800,\n",
       "        66900,  50100,  38300,  29000,  23500,  62200,  59500,  19900,\n",
       "        42200,  27900,  55000,  25700,  39200,   9500,  55400,  46800,\n",
       "        28800,  13600,  16200,  36400,  33900,  19100,  21200,   9500,\n",
       "        16600,  16900,  12200,  22900,  23800,  58900,  15100,  31600,\n",
       "       114300,  27700,  21100,  17200,  51400,  60700,  17900,  16400,\n",
       "        13400,  22100,  61100,  24400,  68100,  29200,  29900,  19100,\n",
       "        76000,  39600,  28800,  10800,  16500,  21300,  12600,  14200,\n",
       "        10200,  54800,  29100,  19900,  21300,   8600,  25400,  31000,\n",
       "        16600,   6400,  25300,  21600,  15000,  28200,  10900,  17200,\n",
       "        17300,  30400,  13900,  10900,  15700,  57900,  35200,  23300,\n",
       "        16000,  20300,  17300,   7200,  20600,  24300,  18200,  11600,\n",
       "        11200,  33200,  29400,  17100,  21000,  18400,  35600,   9500,\n",
       "        20600,   6500,  15600,   8300,   7500,  11500,  39500,  41400,\n",
       "        28400,  34300,   9200,  41300,  28600,  31600,  27100,  10400,\n",
       "         8700,  11500,   7700,  11100,  19600,  22000, 688000,  18800,\n",
       "        39600,  24100,  22800,  16800,  24900,  19200,  28700,  30700,\n",
       "        23900,  21400,  35200,  23900,  61800,  12300,  22600,  12300,\n",
       "        30700,  20300,  18400,  16900,  12400,  12000,  43200,  10700,\n",
       "        18400,   7600,  15300,  14500,  39300,  53900,  21900,  16100,\n",
       "        17200,  53600,  26600,   6800,  24600,  38100,  21600,  12400,\n",
       "        34700,  15600,  60500,  19400,  29400,  25900,  38200,  19800,\n",
       "        50400,  16700,  59400,  40100,  22300,  30400,  18600,  25300,\n",
       "        36900,  21600,  25900,  44500,  21800,  44300,  47400,  24800,\n",
       "        10100,  21700,  11400,  62700,  19800,   9700,   8400,   9200,\n",
       "        17700,  14500,   7200,  43100,  25600,   9400,  12600,  13200,\n",
       "        51900,  33600,  20200,  21800,  10500,  20800,  17200,  14400,\n",
       "        33300,  20500,  33800,  11900,  21900,  64500,  13800,  20700,\n",
       "        20100,   6800,  25700,  26200,  10800,  32100,  23700,  21700,\n",
       "        28600,  14900,  22700,  11900,  45400,  23800,  25200,  18800,\n",
       "         8600,  18300,  21900,  12800,   7400,  21000,  43200,  31300,\n",
       "        15600,   8900,  16900,  28000,  33700,  48900,  24700,  19700,\n",
       "        85700,  40500,  25900,  22000,  20800,  39800,  59500,  52200,\n",
       "        43300,  13200,  65200,  50200,  15100,  30400,  35400,  47100,\n",
       "        31100,  24600,  47400,  64000, 449000])"
      ]
     },
     "execution_count": 423,
     "metadata": {},
     "output_type": "execute_result"
    }
   ],
   "source": [
    "v[1:].values-v[:-1].values"
   ]
  },
  {
   "cell_type": "code",
   "execution_count": null,
   "metadata": {
    "collapsed": true
   },
   "outputs": [],
   "source": []
  },
  {
   "cell_type": "code",
   "execution_count": 399,
   "metadata": {
    "collapsed": false
   },
   "outputs": [],
   "source": [
    "toyota5min = d20160224.get_four_prices_volume_5min(7203)"
   ]
  },
  {
   "cell_type": "code",
   "execution_count": 413,
   "metadata": {
    "collapsed": false
   },
   "outputs": [
    {
     "data": {
      "text/html": [
       "<div>\n",
       "<table border=\"1\" class=\"dataframe\">\n",
       "  <thead>\n",
       "    <tr style=\"text-align: right;\">\n",
       "      <th></th>\n",
       "      <th>open</th>\n",
       "      <th>high</th>\n",
       "      <th>low</th>\n",
       "      <th>close</th>\n",
       "    </tr>\n",
       "  </thead>\n",
       "  <tbody>\n",
       "    <tr>\n",
       "      <th>2016-02-24 09:00:00</th>\n",
       "      <td>5900</td>\n",
       "      <td>5919</td>\n",
       "      <td>5873</td>\n",
       "      <td>5889</td>\n",
       "    </tr>\n",
       "    <tr>\n",
       "      <th>2016-02-24 09:05:00</th>\n",
       "      <td>5889</td>\n",
       "      <td>5889</td>\n",
       "      <td>5835</td>\n",
       "      <td>5850</td>\n",
       "    </tr>\n",
       "    <tr>\n",
       "      <th>2016-02-24 09:10:00</th>\n",
       "      <td>5848</td>\n",
       "      <td>5878</td>\n",
       "      <td>5841</td>\n",
       "      <td>5868</td>\n",
       "    </tr>\n",
       "    <tr>\n",
       "      <th>2016-02-24 09:15:00</th>\n",
       "      <td>5869</td>\n",
       "      <td>5875</td>\n",
       "      <td>5855</td>\n",
       "      <td>5861</td>\n",
       "    </tr>\n",
       "    <tr>\n",
       "      <th>2016-02-24 09:20:00</th>\n",
       "      <td>5862</td>\n",
       "      <td>5868</td>\n",
       "      <td>5852</td>\n",
       "      <td>5856</td>\n",
       "    </tr>\n",
       "    <tr>\n",
       "      <th>2016-02-24 09:25:00</th>\n",
       "      <td>5857</td>\n",
       "      <td>5869</td>\n",
       "      <td>5851</td>\n",
       "      <td>5863</td>\n",
       "    </tr>\n",
       "    <tr>\n",
       "      <th>2016-02-24 09:30:00</th>\n",
       "      <td>5863</td>\n",
       "      <td>5886</td>\n",
       "      <td>5860</td>\n",
       "      <td>5874</td>\n",
       "    </tr>\n",
       "    <tr>\n",
       "      <th>2016-02-24 09:35:00</th>\n",
       "      <td>5874</td>\n",
       "      <td>5884</td>\n",
       "      <td>5860</td>\n",
       "      <td>5878</td>\n",
       "    </tr>\n",
       "    <tr>\n",
       "      <th>2016-02-24 09:40:00</th>\n",
       "      <td>5878</td>\n",
       "      <td>5899</td>\n",
       "      <td>5873</td>\n",
       "      <td>5893</td>\n",
       "    </tr>\n",
       "    <tr>\n",
       "      <th>2016-02-24 09:45:00</th>\n",
       "      <td>5893</td>\n",
       "      <td>5908</td>\n",
       "      <td>5886</td>\n",
       "      <td>5904</td>\n",
       "    </tr>\n",
       "  </tbody>\n",
       "</table>\n",
       "</div>"
      ],
      "text/plain": [
       "                     open  high   low  close\n",
       "2016-02-24 09:00:00  5900  5919  5873   5889\n",
       "2016-02-24 09:05:00  5889  5889  5835   5850\n",
       "2016-02-24 09:10:00  5848  5878  5841   5868\n",
       "2016-02-24 09:15:00  5869  5875  5855   5861\n",
       "2016-02-24 09:20:00  5862  5868  5852   5856\n",
       "2016-02-24 09:25:00  5857  5869  5851   5863\n",
       "2016-02-24 09:30:00  5863  5886  5860   5874\n",
       "2016-02-24 09:35:00  5874  5884  5860   5878\n",
       "2016-02-24 09:40:00  5878  5899  5873   5893\n",
       "2016-02-24 09:45:00  5893  5908  5886   5904"
      ]
     },
     "execution_count": 413,
     "metadata": {},
     "output_type": "execute_result"
    }
   ],
   "source": [
    "toyota5min[:10]"
   ]
  },
  {
   "cell_type": "code",
   "execution_count": 408,
   "metadata": {
    "collapsed": false
   },
   "outputs": [
    {
     "data": {
      "text/plain": [
       "[736018.375,\n",
       " 736018.3784722222,\n",
       " 736018.3819444445,\n",
       " 736018.3854166666,\n",
       " 736018.3888888889,\n",
       " 736018.3923611111,\n",
       " 736018.3958333334,\n",
       " 736018.3993055555,\n",
       " 736018.4027777778,\n",
       " 736018.40625,\n",
       " 736018.4097222222,\n",
       " 736018.4131944445,\n",
       " 736018.4166666666,\n",
       " 736018.4201388889,\n",
       " 736018.4236111111,\n",
       " 736018.4270833334,\n",
       " 736018.4305555555,\n",
       " 736018.4340277778,\n",
       " 736018.4375,\n",
       " 736018.4409722222,\n",
       " 736018.4444444445,\n",
       " 736018.4479166666,\n",
       " 736018.4513888889,\n",
       " 736018.4548611111,\n",
       " 736018.4583333334,\n",
       " 736018.4618055555,\n",
       " 736018.4652777778,\n",
       " 736018.46875,\n",
       " 736018.4722222222,\n",
       " 736018.4756944445,\n",
       " 736018.4791666666,\n",
       " 736018.5208333334,\n",
       " 736018.5243055555,\n",
       " 736018.5277777778,\n",
       " 736018.53125,\n",
       " 736018.5347222222,\n",
       " 736018.5381944445,\n",
       " 736018.5416666666,\n",
       " 736018.5451388889,\n",
       " 736018.5486111111,\n",
       " 736018.5520833334,\n",
       " 736018.5555555555,\n",
       " 736018.5590277778,\n",
       " 736018.5625,\n",
       " 736018.5659722222,\n",
       " 736018.5694444445,\n",
       " 736018.5729166666,\n",
       " 736018.5763888889,\n",
       " 736018.5798611111,\n",
       " 736018.5833333334,\n",
       " 736018.5868055555,\n",
       " 736018.5902777778,\n",
       " 736018.59375,\n",
       " 736018.5972222222,\n",
       " 736018.6006944445,\n",
       " 736018.6041666666,\n",
       " 736018.6076388889,\n",
       " 736018.6111111111,\n",
       " 736018.6145833334,\n",
       " 736018.6180555555,\n",
       " 736018.6215277778,\n",
       " 736018.625]"
      ]
     },
     "execution_count": 408,
     "metadata": {},
     "output_type": "execute_result"
    }
   ],
   "source": [
    "mpltime"
   ]
  },
  {
   "cell_type": "code",
   "execution_count": null,
   "metadata": {
    "collapsed": true
   },
   "outputs": [],
   "source": []
  },
  {
   "cell_type": "code",
   "execution_count": null,
   "metadata": {
    "collapsed": true
   },
   "outputs": [],
   "source": []
  },
  {
   "cell_type": "code",
   "execution_count": 392,
   "metadata": {
    "collapsed": false
   },
   "outputs": [
    {
     "data": {
      "text/html": [
       "<div>\n",
       "<table border=\"1\" class=\"dataframe\">\n",
       "  <thead>\n",
       "    <tr style=\"text-align: right;\">\n",
       "      <th></th>\n",
       "      <th>open</th>\n",
       "      <th>high</th>\n",
       "      <th>low</th>\n",
       "      <th>close</th>\n",
       "    </tr>\n",
       "  </thead>\n",
       "  <tbody>\n",
       "    <tr>\n",
       "      <th>2016-02-24 11:30:00</th>\n",
       "      <td>5968</td>\n",
       "      <td>5968</td>\n",
       "      <td>5968</td>\n",
       "      <td>5968</td>\n",
       "    </tr>\n",
       "    <tr>\n",
       "      <th>2016-02-24 12:30:00</th>\n",
       "      <td>5945</td>\n",
       "      <td>5957</td>\n",
       "      <td>5935</td>\n",
       "      <td>5950</td>\n",
       "    </tr>\n",
       "    <tr>\n",
       "      <th>2016-02-24 12:35:00</th>\n",
       "      <td>5949</td>\n",
       "      <td>5957</td>\n",
       "      <td>5947</td>\n",
       "      <td>5948</td>\n",
       "    </tr>\n",
       "    <tr>\n",
       "      <th>2016-02-24 12:40:00</th>\n",
       "      <td>5949</td>\n",
       "      <td>5971</td>\n",
       "      <td>5949</td>\n",
       "      <td>5965</td>\n",
       "    </tr>\n",
       "    <tr>\n",
       "      <th>2016-02-24 12:45:00</th>\n",
       "      <td>5966</td>\n",
       "      <td>5989</td>\n",
       "      <td>5965</td>\n",
       "      <td>5974</td>\n",
       "    </tr>\n",
       "    <tr>\n",
       "      <th>2016-02-24 12:50:00</th>\n",
       "      <td>5974</td>\n",
       "      <td>5980</td>\n",
       "      <td>5967</td>\n",
       "      <td>5970</td>\n",
       "    </tr>\n",
       "    <tr>\n",
       "      <th>2016-02-24 12:55:00</th>\n",
       "      <td>5971</td>\n",
       "      <td>5977</td>\n",
       "      <td>5968</td>\n",
       "      <td>5973</td>\n",
       "    </tr>\n",
       "    <tr>\n",
       "      <th>2016-02-24 13:00:00</th>\n",
       "      <td>5973</td>\n",
       "      <td>5973</td>\n",
       "      <td>5958</td>\n",
       "      <td>5964</td>\n",
       "    </tr>\n",
       "    <tr>\n",
       "      <th>2016-02-24 13:05:00</th>\n",
       "      <td>5964</td>\n",
       "      <td>5972</td>\n",
       "      <td>5959</td>\n",
       "      <td>5961</td>\n",
       "    </tr>\n",
       "    <tr>\n",
       "      <th>2016-02-24 13:10:00</th>\n",
       "      <td>5962</td>\n",
       "      <td>5966</td>\n",
       "      <td>5956</td>\n",
       "      <td>5959</td>\n",
       "    </tr>\n",
       "    <tr>\n",
       "      <th>2016-02-24 13:15:00</th>\n",
       "      <td>5958</td>\n",
       "      <td>5963</td>\n",
       "      <td>5954</td>\n",
       "      <td>5962</td>\n",
       "    </tr>\n",
       "    <tr>\n",
       "      <th>2016-02-24 13:20:00</th>\n",
       "      <td>5962</td>\n",
       "      <td>5967</td>\n",
       "      <td>5952</td>\n",
       "      <td>5964</td>\n",
       "    </tr>\n",
       "    <tr>\n",
       "      <th>2016-02-24 13:25:00</th>\n",
       "      <td>5966</td>\n",
       "      <td>5982</td>\n",
       "      <td>5966</td>\n",
       "      <td>5972</td>\n",
       "    </tr>\n",
       "    <tr>\n",
       "      <th>2016-02-24 13:30:00</th>\n",
       "      <td>5971</td>\n",
       "      <td>5971</td>\n",
       "      <td>5960</td>\n",
       "      <td>5964</td>\n",
       "    </tr>\n",
       "    <tr>\n",
       "      <th>2016-02-24 13:35:00</th>\n",
       "      <td>5965</td>\n",
       "      <td>5970</td>\n",
       "      <td>5957</td>\n",
       "      <td>5969</td>\n",
       "    </tr>\n",
       "    <tr>\n",
       "      <th>2016-02-24 13:40:00</th>\n",
       "      <td>5969</td>\n",
       "      <td>5973</td>\n",
       "      <td>5963</td>\n",
       "      <td>5967</td>\n",
       "    </tr>\n",
       "    <tr>\n",
       "      <th>2016-02-24 13:45:00</th>\n",
       "      <td>5967</td>\n",
       "      <td>5970</td>\n",
       "      <td>5961</td>\n",
       "      <td>5966</td>\n",
       "    </tr>\n",
       "    <tr>\n",
       "      <th>2016-02-24 13:50:00</th>\n",
       "      <td>5967</td>\n",
       "      <td>5973</td>\n",
       "      <td>5959</td>\n",
       "      <td>5973</td>\n",
       "    </tr>\n",
       "    <tr>\n",
       "      <th>2016-02-24 13:55:00</th>\n",
       "      <td>5972</td>\n",
       "      <td>5975</td>\n",
       "      <td>5965</td>\n",
       "      <td>5968</td>\n",
       "    </tr>\n",
       "    <tr>\n",
       "      <th>2016-02-24 14:00:00</th>\n",
       "      <td>5968</td>\n",
       "      <td>5975</td>\n",
       "      <td>5963</td>\n",
       "      <td>5969</td>\n",
       "    </tr>\n",
       "    <tr>\n",
       "      <th>2016-02-24 14:05:00</th>\n",
       "      <td>5970</td>\n",
       "      <td>5972</td>\n",
       "      <td>5965</td>\n",
       "      <td>5968</td>\n",
       "    </tr>\n",
       "    <tr>\n",
       "      <th>2016-02-24 14:10:00</th>\n",
       "      <td>5967</td>\n",
       "      <td>5977</td>\n",
       "      <td>5964</td>\n",
       "      <td>5977</td>\n",
       "    </tr>\n",
       "    <tr>\n",
       "      <th>2016-02-24 14:15:00</th>\n",
       "      <td>5976</td>\n",
       "      <td>5980</td>\n",
       "      <td>5968</td>\n",
       "      <td>5971</td>\n",
       "    </tr>\n",
       "    <tr>\n",
       "      <th>2016-02-24 14:20:00</th>\n",
       "      <td>5970</td>\n",
       "      <td>5971</td>\n",
       "      <td>5965</td>\n",
       "      <td>5968</td>\n",
       "    </tr>\n",
       "    <tr>\n",
       "      <th>2016-02-24 14:25:00</th>\n",
       "      <td>5968</td>\n",
       "      <td>5975</td>\n",
       "      <td>5967</td>\n",
       "      <td>5972</td>\n",
       "    </tr>\n",
       "    <tr>\n",
       "      <th>2016-02-24 14:30:00</th>\n",
       "      <td>5971</td>\n",
       "      <td>5971</td>\n",
       "      <td>5964</td>\n",
       "      <td>5969</td>\n",
       "    </tr>\n",
       "    <tr>\n",
       "      <th>2016-02-24 14:35:00</th>\n",
       "      <td>5969</td>\n",
       "      <td>5972</td>\n",
       "      <td>5965</td>\n",
       "      <td>5970</td>\n",
       "    </tr>\n",
       "    <tr>\n",
       "      <th>2016-02-24 14:40:00</th>\n",
       "      <td>5970</td>\n",
       "      <td>5970</td>\n",
       "      <td>5962</td>\n",
       "      <td>5968</td>\n",
       "    </tr>\n",
       "    <tr>\n",
       "      <th>2016-02-24 14:45:00</th>\n",
       "      <td>5968</td>\n",
       "      <td>5970</td>\n",
       "      <td>5953</td>\n",
       "      <td>5960</td>\n",
       "    </tr>\n",
       "    <tr>\n",
       "      <th>2016-02-24 14:50:00</th>\n",
       "      <td>5960</td>\n",
       "      <td>5963</td>\n",
       "      <td>5953</td>\n",
       "      <td>5962</td>\n",
       "    </tr>\n",
       "    <tr>\n",
       "      <th>2016-02-24 14:55:00</th>\n",
       "      <td>5962</td>\n",
       "      <td>5974</td>\n",
       "      <td>5959</td>\n",
       "      <td>5974</td>\n",
       "    </tr>\n",
       "    <tr>\n",
       "      <th>2016-02-24 15:00:00</th>\n",
       "      <td>5974</td>\n",
       "      <td>5974</td>\n",
       "      <td>5974</td>\n",
       "      <td>5974</td>\n",
       "    </tr>\n",
       "  </tbody>\n",
       "</table>\n",
       "</div>"
      ],
      "text/plain": [
       "                     open  high   low  close\n",
       "2016-02-24 11:30:00  5968  5968  5968   5968\n",
       "2016-02-24 12:30:00  5945  5957  5935   5950\n",
       "2016-02-24 12:35:00  5949  5957  5947   5948\n",
       "2016-02-24 12:40:00  5949  5971  5949   5965\n",
       "2016-02-24 12:45:00  5966  5989  5965   5974\n",
       "2016-02-24 12:50:00  5974  5980  5967   5970\n",
       "2016-02-24 12:55:00  5971  5977  5968   5973\n",
       "2016-02-24 13:00:00  5973  5973  5958   5964\n",
       "2016-02-24 13:05:00  5964  5972  5959   5961\n",
       "2016-02-24 13:10:00  5962  5966  5956   5959\n",
       "2016-02-24 13:15:00  5958  5963  5954   5962\n",
       "2016-02-24 13:20:00  5962  5967  5952   5964\n",
       "2016-02-24 13:25:00  5966  5982  5966   5972\n",
       "2016-02-24 13:30:00  5971  5971  5960   5964\n",
       "2016-02-24 13:35:00  5965  5970  5957   5969\n",
       "2016-02-24 13:40:00  5969  5973  5963   5967\n",
       "2016-02-24 13:45:00  5967  5970  5961   5966\n",
       "2016-02-24 13:50:00  5967  5973  5959   5973\n",
       "2016-02-24 13:55:00  5972  5975  5965   5968\n",
       "2016-02-24 14:00:00  5968  5975  5963   5969\n",
       "2016-02-24 14:05:00  5970  5972  5965   5968\n",
       "2016-02-24 14:10:00  5967  5977  5964   5977\n",
       "2016-02-24 14:15:00  5976  5980  5968   5971\n",
       "2016-02-24 14:20:00  5970  5971  5965   5968\n",
       "2016-02-24 14:25:00  5968  5975  5967   5972\n",
       "2016-02-24 14:30:00  5971  5971  5964   5969\n",
       "2016-02-24 14:35:00  5969  5972  5965   5970\n",
       "2016-02-24 14:40:00  5970  5970  5962   5968\n",
       "2016-02-24 14:45:00  5968  5970  5953   5960\n",
       "2016-02-24 14:50:00  5960  5963  5953   5962\n",
       "2016-02-24 14:55:00  5962  5974  5959   5974\n",
       "2016-02-24 15:00:00  5974  5974  5974   5974"
      ]
     },
     "execution_count": 392,
     "metadata": {},
     "output_type": "execute_result"
    }
   ],
   "source": [
    "t[30:]"
   ]
  },
  {
   "cell_type": "code",
   "execution_count": 371,
   "metadata": {
    "collapsed": false
   },
   "outputs": [
    {
     "data": {
      "text/html": [
       "<div>\n",
       "<table border=\"1\" class=\"dataframe\">\n",
       "  <thead>\n",
       "    <tr style=\"text-align: right;\">\n",
       "      <th></th>\n",
       "      <th>open</th>\n",
       "      <th>high</th>\n",
       "      <th>low</th>\n",
       "      <th>close</th>\n",
       "    </tr>\n",
       "  </thead>\n",
       "  <tbody>\n",
       "    <tr>\n",
       "      <th>2016-02-24 09:00:00</th>\n",
       "      <td>5900</td>\n",
       "      <td>5919</td>\n",
       "      <td>5873</td>\n",
       "      <td>5890</td>\n",
       "    </tr>\n",
       "    <tr>\n",
       "      <th>2016-02-24 09:05:00</th>\n",
       "      <td>5889</td>\n",
       "      <td>5889</td>\n",
       "      <td>5835</td>\n",
       "      <td>5848</td>\n",
       "    </tr>\n",
       "    <tr>\n",
       "      <th>2016-02-24 09:10:00</th>\n",
       "      <td>5848</td>\n",
       "      <td>5878</td>\n",
       "      <td>5841</td>\n",
       "      <td>5875</td>\n",
       "    </tr>\n",
       "    <tr>\n",
       "      <th>2016-02-24 09:15:00</th>\n",
       "      <td>5869</td>\n",
       "      <td>5875</td>\n",
       "      <td>5855</td>\n",
       "      <td>5868</td>\n",
       "    </tr>\n",
       "    <tr>\n",
       "      <th>2016-02-24 09:20:00</th>\n",
       "      <td>5862</td>\n",
       "      <td>5868</td>\n",
       "      <td>5852</td>\n",
       "      <td>5858</td>\n",
       "    </tr>\n",
       "    <tr>\n",
       "      <th>2016-02-24 09:25:00</th>\n",
       "      <td>5857</td>\n",
       "      <td>5869</td>\n",
       "      <td>5851</td>\n",
       "      <td>5869</td>\n",
       "    </tr>\n",
       "    <tr>\n",
       "      <th>2016-02-24 09:30:00</th>\n",
       "      <td>5863</td>\n",
       "      <td>5886</td>\n",
       "      <td>5860</td>\n",
       "      <td>5881</td>\n",
       "    </tr>\n",
       "    <tr>\n",
       "      <th>2016-02-24 09:35:00</th>\n",
       "      <td>5874</td>\n",
       "      <td>5884</td>\n",
       "      <td>5860</td>\n",
       "      <td>5882</td>\n",
       "    </tr>\n",
       "    <tr>\n",
       "      <th>2016-02-24 09:40:00</th>\n",
       "      <td>5878</td>\n",
       "      <td>5899</td>\n",
       "      <td>5873</td>\n",
       "      <td>5889</td>\n",
       "    </tr>\n",
       "    <tr>\n",
       "      <th>2016-02-24 09:45:00</th>\n",
       "      <td>5893</td>\n",
       "      <td>5908</td>\n",
       "      <td>5886</td>\n",
       "      <td>5903</td>\n",
       "    </tr>\n",
       "    <tr>\n",
       "      <th>2016-02-24 09:50:00</th>\n",
       "      <td>5904</td>\n",
       "      <td>5909</td>\n",
       "      <td>5887</td>\n",
       "      <td>5893</td>\n",
       "    </tr>\n",
       "    <tr>\n",
       "      <th>2016-02-24 09:55:00</th>\n",
       "      <td>5889</td>\n",
       "      <td>5902</td>\n",
       "      <td>5887</td>\n",
       "      <td>5896</td>\n",
       "    </tr>\n",
       "    <tr>\n",
       "      <th>2016-02-24 10:00:00</th>\n",
       "      <td>5894</td>\n",
       "      <td>5907</td>\n",
       "      <td>5885</td>\n",
       "      <td>5898</td>\n",
       "    </tr>\n",
       "    <tr>\n",
       "      <th>2016-02-24 10:05:00</th>\n",
       "      <td>5902</td>\n",
       "      <td>5945</td>\n",
       "      <td>5902</td>\n",
       "      <td>5925</td>\n",
       "    </tr>\n",
       "    <tr>\n",
       "      <th>2016-02-24 10:10:00</th>\n",
       "      <td>5941</td>\n",
       "      <td>5950</td>\n",
       "      <td>5930</td>\n",
       "      <td>5934</td>\n",
       "    </tr>\n",
       "    <tr>\n",
       "      <th>2016-02-24 10:15:00</th>\n",
       "      <td>5940</td>\n",
       "      <td>5950</td>\n",
       "      <td>5920</td>\n",
       "      <td>5929</td>\n",
       "    </tr>\n",
       "    <tr>\n",
       "      <th>2016-02-24 10:20:00</th>\n",
       "      <td>5934</td>\n",
       "      <td>5938</td>\n",
       "      <td>5912</td>\n",
       "      <td>5918</td>\n",
       "    </tr>\n",
       "    <tr>\n",
       "      <th>2016-02-24 10:25:00</th>\n",
       "      <td>5920</td>\n",
       "      <td>5931</td>\n",
       "      <td>5911</td>\n",
       "      <td>5926</td>\n",
       "    </tr>\n",
       "    <tr>\n",
       "      <th>2016-02-24 10:30:00</th>\n",
       "      <td>5919</td>\n",
       "      <td>5941</td>\n",
       "      <td>5915</td>\n",
       "      <td>5921</td>\n",
       "    </tr>\n",
       "    <tr>\n",
       "      <th>2016-02-24 10:35:00</th>\n",
       "      <td>5920</td>\n",
       "      <td>5931</td>\n",
       "      <td>5917</td>\n",
       "      <td>5920</td>\n",
       "    </tr>\n",
       "    <tr>\n",
       "      <th>2016-02-24 10:40:00</th>\n",
       "      <td>5926</td>\n",
       "      <td>5933</td>\n",
       "      <td>5924</td>\n",
       "      <td>5925</td>\n",
       "    </tr>\n",
       "    <tr>\n",
       "      <th>2016-02-24 10:45:00</th>\n",
       "      <td>5928</td>\n",
       "      <td>5940</td>\n",
       "      <td>5928</td>\n",
       "      <td>5934</td>\n",
       "    </tr>\n",
       "    <tr>\n",
       "      <th>2016-02-24 10:50:00</th>\n",
       "      <td>5938</td>\n",
       "      <td>5964</td>\n",
       "      <td>5938</td>\n",
       "      <td>5960</td>\n",
       "    </tr>\n",
       "    <tr>\n",
       "      <th>2016-02-24 10:55:00</th>\n",
       "      <td>5950</td>\n",
       "      <td>5966</td>\n",
       "      <td>5949</td>\n",
       "      <td>5962</td>\n",
       "    </tr>\n",
       "    <tr>\n",
       "      <th>2016-02-24 11:00:00</th>\n",
       "      <td>5963</td>\n",
       "      <td>5968</td>\n",
       "      <td>5947</td>\n",
       "      <td>5949</td>\n",
       "    </tr>\n",
       "    <tr>\n",
       "      <th>2016-02-24 11:05:00</th>\n",
       "      <td>5950</td>\n",
       "      <td>5952</td>\n",
       "      <td>5945</td>\n",
       "      <td>5949</td>\n",
       "    </tr>\n",
       "    <tr>\n",
       "      <th>2016-02-24 11:10:00</th>\n",
       "      <td>5948</td>\n",
       "      <td>5959</td>\n",
       "      <td>5945</td>\n",
       "      <td>5954</td>\n",
       "    </tr>\n",
       "    <tr>\n",
       "      <th>2016-02-24 11:15:00</th>\n",
       "      <td>5956</td>\n",
       "      <td>5958</td>\n",
       "      <td>5946</td>\n",
       "      <td>5953</td>\n",
       "    </tr>\n",
       "    <tr>\n",
       "      <th>2016-02-24 11:20:00</th>\n",
       "      <td>5948</td>\n",
       "      <td>5955</td>\n",
       "      <td>5945</td>\n",
       "      <td>5953</td>\n",
       "    </tr>\n",
       "    <tr>\n",
       "      <th>2016-02-24 11:25:00</th>\n",
       "      <td>5951</td>\n",
       "      <td>5968</td>\n",
       "      <td>5951</td>\n",
       "      <td>5957</td>\n",
       "    </tr>\n",
       "    <tr>\n",
       "      <th>2016-02-24 11:30:00</th>\n",
       "      <td>5968</td>\n",
       "      <td>5968</td>\n",
       "      <td>5968</td>\n",
       "      <td>5968</td>\n",
       "    </tr>\n",
       "  </tbody>\n",
       "</table>\n",
       "</div>"
      ],
      "text/plain": [
       "                     open  high   low  close\n",
       "2016-02-24 09:00:00  5900  5919  5873   5890\n",
       "2016-02-24 09:05:00  5889  5889  5835   5848\n",
       "2016-02-24 09:10:00  5848  5878  5841   5875\n",
       "2016-02-24 09:15:00  5869  5875  5855   5868\n",
       "2016-02-24 09:20:00  5862  5868  5852   5858\n",
       "2016-02-24 09:25:00  5857  5869  5851   5869\n",
       "2016-02-24 09:30:00  5863  5886  5860   5881\n",
       "2016-02-24 09:35:00  5874  5884  5860   5882\n",
       "2016-02-24 09:40:00  5878  5899  5873   5889\n",
       "2016-02-24 09:45:00  5893  5908  5886   5903\n",
       "2016-02-24 09:50:00  5904  5909  5887   5893\n",
       "2016-02-24 09:55:00  5889  5902  5887   5896\n",
       "2016-02-24 10:00:00  5894  5907  5885   5898\n",
       "2016-02-24 10:05:00  5902  5945  5902   5925\n",
       "2016-02-24 10:10:00  5941  5950  5930   5934\n",
       "2016-02-24 10:15:00  5940  5950  5920   5929\n",
       "2016-02-24 10:20:00  5934  5938  5912   5918\n",
       "2016-02-24 10:25:00  5920  5931  5911   5926\n",
       "2016-02-24 10:30:00  5919  5941  5915   5921\n",
       "2016-02-24 10:35:00  5920  5931  5917   5920\n",
       "2016-02-24 10:40:00  5926  5933  5924   5925\n",
       "2016-02-24 10:45:00  5928  5940  5928   5934\n",
       "2016-02-24 10:50:00  5938  5964  5938   5960\n",
       "2016-02-24 10:55:00  5950  5966  5949   5962\n",
       "2016-02-24 11:00:00  5963  5968  5947   5949\n",
       "2016-02-24 11:05:00  5950  5952  5945   5949\n",
       "2016-02-24 11:10:00  5948  5959  5945   5954\n",
       "2016-02-24 11:15:00  5956  5958  5946   5953\n",
       "2016-02-24 11:20:00  5948  5955  5945   5953\n",
       "2016-02-24 11:25:00  5951  5968  5951   5957\n",
       "2016-02-24 11:30:00  5968  5968  5968   5968"
      ]
     },
     "execution_count": 371,
     "metadata": {},
     "output_type": "execute_result"
    }
   ],
   "source": [
    "pd.concat([t[0],t[1]])"
   ]
  },
  {
   "cell_type": "code",
   "execution_count": 362,
   "metadata": {
    "collapsed": false
   },
   "outputs": [
    {
     "data": {
      "text/html": [
       "<div>\n",
       "<table border=\"1\" class=\"dataframe\">\n",
       "  <thead>\n",
       "    <tr style=\"text-align: right;\">\n",
       "      <th></th>\n",
       "      <th>0</th>\n",
       "      <th>1</th>\n",
       "      <th>2</th>\n",
       "      <th>3</th>\n",
       "    </tr>\n",
       "  </thead>\n",
       "  <tbody>\n",
       "    <tr>\n",
       "      <th>2016-02-24 09:00:00</th>\n",
       "      <td>5900</td>\n",
       "      <td>5919</td>\n",
       "      <td>5873</td>\n",
       "      <td>5890</td>\n",
       "    </tr>\n",
       "    <tr>\n",
       "      <th>2016-02-24 09:05:00</th>\n",
       "      <td>5889</td>\n",
       "      <td>5889</td>\n",
       "      <td>5835</td>\n",
       "      <td>5848</td>\n",
       "    </tr>\n",
       "    <tr>\n",
       "      <th>2016-02-24 09:10:00</th>\n",
       "      <td>5848</td>\n",
       "      <td>5878</td>\n",
       "      <td>5841</td>\n",
       "      <td>5875</td>\n",
       "    </tr>\n",
       "    <tr>\n",
       "      <th>2016-02-24 09:15:00</th>\n",
       "      <td>5869</td>\n",
       "      <td>5875</td>\n",
       "      <td>5855</td>\n",
       "      <td>5868</td>\n",
       "    </tr>\n",
       "    <tr>\n",
       "      <th>2016-02-24 09:20:00</th>\n",
       "      <td>5862</td>\n",
       "      <td>5868</td>\n",
       "      <td>5852</td>\n",
       "      <td>5858</td>\n",
       "    </tr>\n",
       "    <tr>\n",
       "      <th>2016-02-24 09:25:00</th>\n",
       "      <td>5857</td>\n",
       "      <td>5869</td>\n",
       "      <td>5851</td>\n",
       "      <td>5869</td>\n",
       "    </tr>\n",
       "    <tr>\n",
       "      <th>2016-02-24 09:30:00</th>\n",
       "      <td>5863</td>\n",
       "      <td>5886</td>\n",
       "      <td>5860</td>\n",
       "      <td>5881</td>\n",
       "    </tr>\n",
       "    <tr>\n",
       "      <th>2016-02-24 09:35:00</th>\n",
       "      <td>5874</td>\n",
       "      <td>5884</td>\n",
       "      <td>5860</td>\n",
       "      <td>5882</td>\n",
       "    </tr>\n",
       "    <tr>\n",
       "      <th>2016-02-24 09:40:00</th>\n",
       "      <td>5878</td>\n",
       "      <td>5899</td>\n",
       "      <td>5873</td>\n",
       "      <td>5889</td>\n",
       "    </tr>\n",
       "    <tr>\n",
       "      <th>2016-02-24 09:45:00</th>\n",
       "      <td>5893</td>\n",
       "      <td>5908</td>\n",
       "      <td>5886</td>\n",
       "      <td>5903</td>\n",
       "    </tr>\n",
       "    <tr>\n",
       "      <th>2016-02-24 09:50:00</th>\n",
       "      <td>5904</td>\n",
       "      <td>5909</td>\n",
       "      <td>5887</td>\n",
       "      <td>5893</td>\n",
       "    </tr>\n",
       "    <tr>\n",
       "      <th>2016-02-24 09:55:00</th>\n",
       "      <td>5889</td>\n",
       "      <td>5902</td>\n",
       "      <td>5887</td>\n",
       "      <td>5896</td>\n",
       "    </tr>\n",
       "    <tr>\n",
       "      <th>2016-02-24 10:00:00</th>\n",
       "      <td>5894</td>\n",
       "      <td>5907</td>\n",
       "      <td>5885</td>\n",
       "      <td>5898</td>\n",
       "    </tr>\n",
       "    <tr>\n",
       "      <th>2016-02-24 10:05:00</th>\n",
       "      <td>5902</td>\n",
       "      <td>5945</td>\n",
       "      <td>5902</td>\n",
       "      <td>5925</td>\n",
       "    </tr>\n",
       "    <tr>\n",
       "      <th>2016-02-24 10:10:00</th>\n",
       "      <td>5941</td>\n",
       "      <td>5950</td>\n",
       "      <td>5930</td>\n",
       "      <td>5934</td>\n",
       "    </tr>\n",
       "    <tr>\n",
       "      <th>2016-02-24 10:15:00</th>\n",
       "      <td>5940</td>\n",
       "      <td>5950</td>\n",
       "      <td>5920</td>\n",
       "      <td>5929</td>\n",
       "    </tr>\n",
       "    <tr>\n",
       "      <th>2016-02-24 10:20:00</th>\n",
       "      <td>5934</td>\n",
       "      <td>5938</td>\n",
       "      <td>5912</td>\n",
       "      <td>5918</td>\n",
       "    </tr>\n",
       "    <tr>\n",
       "      <th>2016-02-24 10:25:00</th>\n",
       "      <td>5920</td>\n",
       "      <td>5931</td>\n",
       "      <td>5911</td>\n",
       "      <td>5926</td>\n",
       "    </tr>\n",
       "    <tr>\n",
       "      <th>2016-02-24 10:30:00</th>\n",
       "      <td>5919</td>\n",
       "      <td>5941</td>\n",
       "      <td>5915</td>\n",
       "      <td>5921</td>\n",
       "    </tr>\n",
       "    <tr>\n",
       "      <th>2016-02-24 10:35:00</th>\n",
       "      <td>5920</td>\n",
       "      <td>5931</td>\n",
       "      <td>5917</td>\n",
       "      <td>5920</td>\n",
       "    </tr>\n",
       "    <tr>\n",
       "      <th>2016-02-24 10:40:00</th>\n",
       "      <td>5926</td>\n",
       "      <td>5933</td>\n",
       "      <td>5924</td>\n",
       "      <td>5925</td>\n",
       "    </tr>\n",
       "    <tr>\n",
       "      <th>2016-02-24 10:45:00</th>\n",
       "      <td>5928</td>\n",
       "      <td>5940</td>\n",
       "      <td>5928</td>\n",
       "      <td>5934</td>\n",
       "    </tr>\n",
       "    <tr>\n",
       "      <th>2016-02-24 10:50:00</th>\n",
       "      <td>5938</td>\n",
       "      <td>5964</td>\n",
       "      <td>5938</td>\n",
       "      <td>5960</td>\n",
       "    </tr>\n",
       "    <tr>\n",
       "      <th>2016-02-24 10:55:00</th>\n",
       "      <td>5950</td>\n",
       "      <td>5966</td>\n",
       "      <td>5949</td>\n",
       "      <td>5962</td>\n",
       "    </tr>\n",
       "    <tr>\n",
       "      <th>2016-02-24 11:00:00</th>\n",
       "      <td>5963</td>\n",
       "      <td>5968</td>\n",
       "      <td>5947</td>\n",
       "      <td>5949</td>\n",
       "    </tr>\n",
       "    <tr>\n",
       "      <th>2016-02-24 11:05:00</th>\n",
       "      <td>5950</td>\n",
       "      <td>5952</td>\n",
       "      <td>5945</td>\n",
       "      <td>5949</td>\n",
       "    </tr>\n",
       "    <tr>\n",
       "      <th>2016-02-24 11:10:00</th>\n",
       "      <td>5948</td>\n",
       "      <td>5959</td>\n",
       "      <td>5945</td>\n",
       "      <td>5954</td>\n",
       "    </tr>\n",
       "    <tr>\n",
       "      <th>2016-02-24 11:15:00</th>\n",
       "      <td>5956</td>\n",
       "      <td>5958</td>\n",
       "      <td>5946</td>\n",
       "      <td>5953</td>\n",
       "    </tr>\n",
       "    <tr>\n",
       "      <th>2016-02-24 11:20:00</th>\n",
       "      <td>5948</td>\n",
       "      <td>5955</td>\n",
       "      <td>5945</td>\n",
       "      <td>5953</td>\n",
       "    </tr>\n",
       "    <tr>\n",
       "      <th>2016-02-24 11:25:00</th>\n",
       "      <td>5951</td>\n",
       "      <td>5968</td>\n",
       "      <td>5951</td>\n",
       "      <td>5957</td>\n",
       "    </tr>\n",
       "  </tbody>\n",
       "</table>\n",
       "</div>"
      ],
      "text/plain": [
       "                        0     1     2     3\n",
       "2016-02-24 09:00:00  5900  5919  5873  5890\n",
       "2016-02-24 09:05:00  5889  5889  5835  5848\n",
       "2016-02-24 09:10:00  5848  5878  5841  5875\n",
       "2016-02-24 09:15:00  5869  5875  5855  5868\n",
       "2016-02-24 09:20:00  5862  5868  5852  5858\n",
       "2016-02-24 09:25:00  5857  5869  5851  5869\n",
       "2016-02-24 09:30:00  5863  5886  5860  5881\n",
       "2016-02-24 09:35:00  5874  5884  5860  5882\n",
       "2016-02-24 09:40:00  5878  5899  5873  5889\n",
       "2016-02-24 09:45:00  5893  5908  5886  5903\n",
       "2016-02-24 09:50:00  5904  5909  5887  5893\n",
       "2016-02-24 09:55:00  5889  5902  5887  5896\n",
       "2016-02-24 10:00:00  5894  5907  5885  5898\n",
       "2016-02-24 10:05:00  5902  5945  5902  5925\n",
       "2016-02-24 10:10:00  5941  5950  5930  5934\n",
       "2016-02-24 10:15:00  5940  5950  5920  5929\n",
       "2016-02-24 10:20:00  5934  5938  5912  5918\n",
       "2016-02-24 10:25:00  5920  5931  5911  5926\n",
       "2016-02-24 10:30:00  5919  5941  5915  5921\n",
       "2016-02-24 10:35:00  5920  5931  5917  5920\n",
       "2016-02-24 10:40:00  5926  5933  5924  5925\n",
       "2016-02-24 10:45:00  5928  5940  5928  5934\n",
       "2016-02-24 10:50:00  5938  5964  5938  5960\n",
       "2016-02-24 10:55:00  5950  5966  5949  5962\n",
       "2016-02-24 11:00:00  5963  5968  5947  5949\n",
       "2016-02-24 11:05:00  5950  5952  5945  5949\n",
       "2016-02-24 11:10:00  5948  5959  5945  5954\n",
       "2016-02-24 11:15:00  5956  5958  5946  5953\n",
       "2016-02-24 11:20:00  5948  5955  5945  5953\n",
       "2016-02-24 11:25:00  5951  5968  5951  5957"
      ]
     },
     "execution_count": 362,
     "metadata": {},
     "output_type": "execute_result"
    }
   ],
   "source": [
    "t"
   ]
  },
  {
   "cell_type": "code",
   "execution_count": 352,
   "metadata": {
    "collapsed": false
   },
   "outputs": [],
   "source": [
    "ttt = tt.T"
   ]
  },
  {
   "cell_type": "code",
   "execution_count": 353,
   "metadata": {
    "collapsed": true
   },
   "outputs": [],
   "source": [
    "df1 = DataFrame(ttt)"
   ]
  },
  {
   "cell_type": "code",
   "execution_count": 354,
   "metadata": {
    "collapsed": false
   },
   "outputs": [
    {
     "data": {
      "text/html": [
       "<div>\n",
       "<table border=\"1\" class=\"dataframe\">\n",
       "  <thead>\n",
       "    <tr style=\"text-align: right;\">\n",
       "      <th></th>\n",
       "      <th>0</th>\n",
       "      <th>1</th>\n",
       "      <th>2</th>\n",
       "      <th>3</th>\n",
       "    </tr>\n",
       "  </thead>\n",
       "  <tbody>\n",
       "    <tr>\n",
       "      <th>0</th>\n",
       "      <td>5900</td>\n",
       "      <td>5919</td>\n",
       "      <td>5873</td>\n",
       "      <td>5890</td>\n",
       "    </tr>\n",
       "    <tr>\n",
       "      <th>1</th>\n",
       "      <td>5889</td>\n",
       "      <td>5889</td>\n",
       "      <td>5835</td>\n",
       "      <td>5848</td>\n",
       "    </tr>\n",
       "    <tr>\n",
       "      <th>2</th>\n",
       "      <td>5848</td>\n",
       "      <td>5878</td>\n",
       "      <td>5841</td>\n",
       "      <td>5875</td>\n",
       "    </tr>\n",
       "    <tr>\n",
       "      <th>3</th>\n",
       "      <td>5869</td>\n",
       "      <td>5875</td>\n",
       "      <td>5855</td>\n",
       "      <td>5868</td>\n",
       "    </tr>\n",
       "    <tr>\n",
       "      <th>4</th>\n",
       "      <td>5862</td>\n",
       "      <td>5868</td>\n",
       "      <td>5852</td>\n",
       "      <td>5858</td>\n",
       "    </tr>\n",
       "  </tbody>\n",
       "</table>\n",
       "</div>"
      ],
      "text/plain": [
       "      0     1     2     3\n",
       "0  5900  5919  5873  5890\n",
       "1  5889  5889  5835  5848\n",
       "2  5848  5878  5841  5875\n",
       "3  5869  5875  5855  5868\n",
       "4  5862  5868  5852  5858"
      ]
     },
     "execution_count": 354,
     "metadata": {},
     "output_type": "execute_result"
    }
   ],
   "source": [
    "df1.head()"
   ]
  },
  {
   "cell_type": "code",
   "execution_count": 324,
   "metadata": {
    "collapsed": false
   },
   "outputs": [
    {
     "data": {
      "text/html": [
       "<div>\n",
       "<table border=\"1\" class=\"dataframe\">\n",
       "  <thead>\n",
       "    <tr style=\"text-align: right;\">\n",
       "      <th></th>\n",
       "      <th>open</th>\n",
       "      <th>high</th>\n",
       "      <th>low</th>\n",
       "      <th>close</th>\n",
       "      <th>volume</th>\n",
       "    </tr>\n",
       "  </thead>\n",
       "  <tbody>\n",
       "    <tr>\n",
       "      <th>2016-02-24 09:00:00</th>\n",
       "      <td>5900</td>\n",
       "      <td>5900</td>\n",
       "      <td>5877</td>\n",
       "      <td>5877</td>\n",
       "      <td>700300</td>\n",
       "    </tr>\n",
       "    <tr>\n",
       "      <th>2016-02-24 09:01:00</th>\n",
       "      <td>5879</td>\n",
       "      <td>5899</td>\n",
       "      <td>5873</td>\n",
       "      <td>5893</td>\n",
       "      <td>750600</td>\n",
       "    </tr>\n",
       "    <tr>\n",
       "      <th>2016-02-24 09:02:00</th>\n",
       "      <td>5894</td>\n",
       "      <td>5919</td>\n",
       "      <td>5888</td>\n",
       "      <td>5903</td>\n",
       "      <td>907600</td>\n",
       "    </tr>\n",
       "    <tr>\n",
       "      <th>2016-02-24 09:03:00</th>\n",
       "      <td>5900</td>\n",
       "      <td>5900</td>\n",
       "      <td>5887</td>\n",
       "      <td>5889</td>\n",
       "      <td>963000</td>\n",
       "    </tr>\n",
       "    <tr>\n",
       "      <th>2016-02-24 09:04:00</th>\n",
       "      <td>5890</td>\n",
       "      <td>5891</td>\n",
       "      <td>5883</td>\n",
       "      <td>5889</td>\n",
       "      <td>992400</td>\n",
       "    </tr>\n",
       "    <tr>\n",
       "      <th>2016-02-24 09:05:00</th>\n",
       "      <td>5889</td>\n",
       "      <td>5889</td>\n",
       "      <td>5866</td>\n",
       "      <td>5868</td>\n",
       "      <td>1159300</td>\n",
       "    </tr>\n",
       "    <tr>\n",
       "      <th>2016-02-24 09:06:00</th>\n",
       "      <td>5865</td>\n",
       "      <td>5867</td>\n",
       "      <td>5840</td>\n",
       "      <td>5845</td>\n",
       "      <td>1394400</td>\n",
       "    </tr>\n",
       "    <tr>\n",
       "      <th>2016-02-24 09:07:00</th>\n",
       "      <td>5847</td>\n",
       "      <td>5857</td>\n",
       "      <td>5835</td>\n",
       "      <td>5849</td>\n",
       "      <td>1538100</td>\n",
       "    </tr>\n",
       "    <tr>\n",
       "      <th>2016-02-24 09:08:00</th>\n",
       "      <td>5849</td>\n",
       "      <td>5857</td>\n",
       "      <td>5842</td>\n",
       "      <td>5850</td>\n",
       "      <td>1624300</td>\n",
       "    </tr>\n",
       "    <tr>\n",
       "      <th>2016-02-24 09:09:00</th>\n",
       "      <td>5848</td>\n",
       "      <td>5867</td>\n",
       "      <td>5844</td>\n",
       "      <td>5850</td>\n",
       "      <td>1719000</td>\n",
       "    </tr>\n",
       "  </tbody>\n",
       "</table>\n",
       "</div>"
      ],
      "text/plain": [
       "                     open  high   low  close   volume\n",
       "2016-02-24 09:00:00  5900  5900  5877   5877   700300\n",
       "2016-02-24 09:01:00  5879  5899  5873   5893   750600\n",
       "2016-02-24 09:02:00  5894  5919  5888   5903   907600\n",
       "2016-02-24 09:03:00  5900  5900  5887   5889   963000\n",
       "2016-02-24 09:04:00  5890  5891  5883   5889   992400\n",
       "2016-02-24 09:05:00  5889  5889  5866   5868  1159300\n",
       "2016-02-24 09:06:00  5865  5867  5840   5845  1394400\n",
       "2016-02-24 09:07:00  5847  5857  5835   5849  1538100\n",
       "2016-02-24 09:08:00  5849  5857  5842   5850  1624300\n",
       "2016-02-24 09:09:00  5848  5867  5844   5850  1719000"
      ]
     },
     "execution_count": 324,
     "metadata": {},
     "output_type": "execute_result"
    }
   ],
   "source": [
    "toyota.head(10)"
   ]
  },
  {
   "cell_type": "code",
   "execution_count": 220,
   "metadata": {
    "collapsed": true
   },
   "outputs": [],
   "source": [
    "#まずindexの区切りをつけよう\n",
    "#昼休みはどうしようかな\n",
    "#ああ、9時と12時30分みつけたらいいのか\n",
    "#これはさすがにどれもかわらないから、index指定でもよいのかな？　\n",
    "#リスト内包でもいけそうかな？でも二つにわける必要があるのか。そうだな\n",
    "toyota_open=toyota['open']\n",
    "toyota_close=toyota['close']\n"
   ]
  },
  {
   "cell_type": "code",
   "execution_count": 301,
   "metadata": {
    "collapsed": false
   },
   "outputs": [],
   "source": [
    "#午前の引け11:30と午後の引けを特定する\n",
    "min_class = d20160224\n",
    "min_df = toyota\n",
    "t1130 = pd.to_datetime(min_class.date + '1130') #タイムスタンプを作成する\n",
    "time_series = min_df.index\n",
    "t1130_index, = time_series.indexer_at_time(t1130) #1130のindexを特定.カンマはarrayから取り出している\n",
    "#午後の引けを特定する.こっちは最後のデータのindexを探す\n",
    "tClosed_index, = time_series.indexer_at_time(time_series[-1])"
   ]
  },
  {
   "cell_type": "code",
   "execution_count": 302,
   "metadata": {
    "collapsed": false
   },
   "outputs": [
    {
     "data": {
      "text/plain": [
       "301"
      ]
     },
     "execution_count": 302,
     "metadata": {},
     "output_type": "execute_result"
    }
   ],
   "source": [
    "tClosed_index"
   ]
  },
  {
   "cell_type": "code",
   "execution_count": 303,
   "metadata": {
    "collapsed": false
   },
   "outputs": [
    {
     "data": {
      "text/plain": [
       "Timestamp('2016-02-24 15:00:00')"
      ]
     },
     "execution_count": 303,
     "metadata": {},
     "output_type": "execute_result"
    }
   ],
   "source": [
    "time_series[tClosed_index]"
   ]
  },
  {
   "cell_type": "code",
   "execution_count": 306,
   "metadata": {
    "collapsed": false
   },
   "outputs": [],
   "source": [
    "ts = time_series[:t1130_index+1]"
   ]
  },
  {
   "cell_type": "code",
   "execution_count": 307,
   "metadata": {
    "collapsed": false
   },
   "outputs": [
    {
     "data": {
      "text/plain": [
       "DatetimeIndex(['2016-02-24 09:00:00', '2016-02-24 09:05:00',\n",
       "               '2016-02-24 09:10:00', '2016-02-24 09:15:00',\n",
       "               '2016-02-24 09:20:00', '2016-02-24 09:25:00',\n",
       "               '2016-02-24 09:30:00', '2016-02-24 09:35:00',\n",
       "               '2016-02-24 09:40:00', '2016-02-24 09:45:00',\n",
       "               '2016-02-24 09:50:00', '2016-02-24 09:55:00',\n",
       "               '2016-02-24 10:00:00', '2016-02-24 10:05:00',\n",
       "               '2016-02-24 10:10:00', '2016-02-24 10:15:00',\n",
       "               '2016-02-24 10:20:00', '2016-02-24 10:25:00',\n",
       "               '2016-02-24 10:30:00', '2016-02-24 10:35:00',\n",
       "               '2016-02-24 10:40:00', '2016-02-24 10:45:00',\n",
       "               '2016-02-24 10:50:00', '2016-02-24 10:55:00',\n",
       "               '2016-02-24 11:00:00', '2016-02-24 11:05:00',\n",
       "               '2016-02-24 11:10:00', '2016-02-24 11:15:00',\n",
       "               '2016-02-24 11:20:00', '2016-02-24 11:25:00',\n",
       "               '2016-02-24 11:30:00'],\n",
       "              dtype='datetime64[ns]', freq=None)"
      ]
     },
     "execution_count": 307,
     "metadata": {},
     "output_type": "execute_result"
    }
   ],
   "source": [
    "ts[::5]"
   ]
  },
  {
   "cell_type": "code",
   "execution_count": null,
   "metadata": {
    "collapsed": true
   },
   "outputs": [],
   "source": []
  },
  {
   "cell_type": "code",
   "execution_count": 221,
   "metadata": {
    "collapsed": false
   },
   "outputs": [],
   "source": [
    "#午前と午後をわけている。正確にやるならtimestampからやったほうがよいか。\n",
    "open_am = toyota_open.iloc[:151]\n",
    "open_pm = toyota_open.iloc[151:]\n",
    "close_am = toyota_open.iloc[:151]\n",
    "close_pm = toyota_open.iloc[151:]"
   ]
  },
  {
   "cell_type": "code",
   "execution_count": 251,
   "metadata": {
    "collapsed": false
   },
   "outputs": [],
   "source": [
    "def detect_openclose_price(price_list):\n",
    "    '''価格のリストのデータを入れて始値と終値を返す'''\n",
    "    for  i in price_list:\n",
    "        if np.isnan(i):\n",
    "            price = np.nan\n",
    "        else:\n",
    "            return i\n",
    "            break\n",
    "        return price\n",
    "# def detect_max_price(price_list):\n",
    "    \n",
    "opnp = np.array([])\n",
    "clsp = np.array([])\n",
    "minp = np.array([])\n",
    "maxp = np.array([])\n",
    "\n",
    "#午前と午後の分がある\n",
    "def get_5min_price(df):\n",
    "    '''dataframeを入力として5分足のためのデータを作る\n",
    "    最初の1分の\n",
    "    '''\n",
    "    for i in np.arange(0,len(df), 5):\n",
    "        #もし15時3分だったらどうするのか？エラーになる。。それいかんな。tryを使おう。\n",
    "        #close priceはリストを逆順にしたらよい\n",
    "        try:\n",
    "            p = detect_openclose_price(open_am[i:i + 5])\n",
    "            opnp = np.append(opnp, p)\n",
    "            p = detect_openclose_price(close_am[i:i + 5][::-1]) #リストを逆にして入れる\n",
    "            clsp = np.append(clsp, p)\n",
    "\n",
    "            p = np.nanmin(close_am[i:i + 5]) \n",
    "            minp = np.append(minp, p)\n",
    "            p = np.nanmax(close_am[i:i + 5]) #リストを逆にして入れる\n",
    "            maxp = np.append(maxp, p)\n",
    "\n",
    "        except:\n",
    "            op = detect_openclose_price(open_am[i:])\n",
    "            p = np.append(p, op)\n",
    "    "
   ]
  },
  {
   "cell_type": "code",
   "execution_count": 222,
   "metadata": {
    "collapsed": true
   },
   "outputs": [],
   "source": [
    "open_am = open_am[1:]"
   ]
  },
  {
   "cell_type": "code",
   "execution_count": 223,
   "metadata": {
    "collapsed": true
   },
   "outputs": [
    {
     "data": {
      "text/plain": [
       "2016-02-24 09:01:00    5879\n",
       "2016-02-24 09:02:00    5894\n",
       "2016-02-24 09:03:00    5900\n",
       "2016-02-24 09:04:00    5890\n",
       "2016-02-24 09:05:00    5889\n",
       "2016-02-24 09:06:00    5865\n",
       "2016-02-24 09:07:00    5847\n",
       "2016-02-24 09:08:00    5849\n",
       "2016-02-24 09:09:00    5848\n",
       "2016-02-24 09:10:00    5848\n",
       "2016-02-24 09:11:00    5862\n",
       "2016-02-24 09:12:00    5865\n",
       "2016-02-24 09:13:00    5872\n",
       "2016-02-24 09:14:00    5875\n",
       "2016-02-24 09:15:00    5869\n",
       "2016-02-24 09:16:00    5866\n",
       "2016-02-24 09:17:00    5859\n",
       "2016-02-24 09:18:00    5871\n",
       "2016-02-24 09:19:00    5868\n",
       "2016-02-24 09:20:00    5862\n",
       "2016-02-24 09:21:00    5860\n",
       "2016-02-24 09:22:00    5864\n",
       "2016-02-24 09:23:00    5861\n",
       "2016-02-24 09:24:00    5858\n",
       "2016-02-24 09:25:00    5857\n",
       "2016-02-24 09:26:00    5854\n",
       "2016-02-24 09:27:00    5854\n",
       "2016-02-24 09:28:00    5862\n",
       "2016-02-24 09:29:00    5869\n",
       "2016-02-24 09:30:00    5863\n",
       "                       ... \n",
       "2016-02-24 11:01:00    5964\n",
       "2016-02-24 11:02:00    5963\n",
       "2016-02-24 11:03:00    5958\n",
       "2016-02-24 11:04:00    5949\n",
       "2016-02-24 11:05:00    5950\n",
       "2016-02-24 11:06:00    5950\n",
       "2016-02-24 11:07:00    5950\n",
       "2016-02-24 11:08:00    5947\n",
       "2016-02-24 11:09:00    5949\n",
       "2016-02-24 11:10:00    5948\n",
       "2016-02-24 11:11:00    5948\n",
       "2016-02-24 11:12:00    5947\n",
       "2016-02-24 11:13:00    5949\n",
       "2016-02-24 11:14:00    5954\n",
       "2016-02-24 11:15:00    5956\n",
       "2016-02-24 11:16:00    5949\n",
       "2016-02-24 11:17:00    5950\n",
       "2016-02-24 11:18:00    5950\n",
       "2016-02-24 11:19:00    5953\n",
       "2016-02-24 11:20:00    5948\n",
       "2016-02-24 11:21:00    5947\n",
       "2016-02-24 11:22:00    5947\n",
       "2016-02-24 11:23:00    5946\n",
       "2016-02-24 11:24:00    5953\n",
       "2016-02-24 11:25:00    5951\n",
       "2016-02-24 11:26:00    5954\n",
       "2016-02-24 11:27:00    5958\n",
       "2016-02-24 11:28:00    5961\n",
       "2016-02-24 11:29:00    5957\n",
       "2016-02-24 11:30:00    5968\n",
       "Name: open, dtype: float64"
      ]
     },
     "execution_count": 223,
     "metadata": {},
     "output_type": "execute_result"
    }
   ],
   "source": [
    "open_am"
   ]
  },
  {
   "cell_type": "code",
   "execution_count": 279,
   "metadata": {
    "collapsed": false
   },
   "outputs": [
    {
     "data": {
      "text/plain": [
       "open         2424.5\n",
       "high         2424.5\n",
       "low          2424.5\n",
       "close        2424.5\n",
       "volume    4827500.0\n",
       "Name: 2016-02-24 11:30:00, dtype: float64"
      ]
     },
     "execution_count": 279,
     "metadata": {},
     "output_type": "execute_result"
    }
   ],
   "source": [
    "#\n",
    "tes.iloc[150]"
   ]
  },
  {
   "cell_type": "code",
   "execution_count": 256,
   "metadata": {
    "collapsed": false
   },
   "outputs": [
    {
     "data": {
      "text/plain": [
       "2016-02-24 09:01:00    5879\n",
       "2016-02-24 09:02:00    5894\n",
       "2016-02-24 09:03:00    5900\n",
       "2016-02-24 09:04:00    5890\n",
       "2016-02-24 09:05:00    5889\n",
       "Name: open, dtype: float64"
      ]
     },
     "execution_count": 256,
     "metadata": {},
     "output_type": "execute_result"
    }
   ],
   "source": [
    "close_am[1:6]"
   ]
  },
  {
   "cell_type": "code",
   "execution_count": 261,
   "metadata": {
    "collapsed": false
   },
   "outputs": [
    {
     "data": {
      "text/plain": [
       "5879.0"
      ]
     },
     "execution_count": 261,
     "metadata": {},
     "output_type": "execute_result"
    }
   ],
   "source": [
    "np.nanmin(close_am[1:6].values) "
   ]
  },
  {
   "cell_type": "code",
   "execution_count": 254,
   "metadata": {
    "collapsed": false
   },
   "outputs": [
    {
     "data": {
      "text/plain": [
       "array([ 5879.,  5879.,  5879.,  5879.,  5879.,  5847.,  5847.,  5847.,\n",
       "        5847.,  5847.,  5848.,  5848.,  5848.,  5848.,  5848.,  5859.,\n",
       "        5859.,  5859.,  5859.,  5859.,  5858.,  5858.,  5858.,  5858.,\n",
       "        5858.,  5854.,  5854.,  5854.,  5854.,  5854.,  5863.,  5863.,\n",
       "        5863.,  5863.,  5863.,  5866.,  5866.,  5866.,  5866.,  5866.,\n",
       "        5878.,  5878.,  5878.,  5878.,  5878.,  5888.,  5888.,  5888.,\n",
       "        5888.,  5888.,  5892.,  5892.,  5892.,  5892.,  5892.,  5889.,\n",
       "        5889.,  5889.,  5889.,  5889.,  5887.,  5887.,  5887.,  5887.,\n",
       "        5887.,  5902.,  5902.,  5902.,  5902.,  5902.,  5934.,  5934.,\n",
       "        5934.,  5934.,  5934.,  5926.,  5926.,  5926.,  5926.,  5926.,\n",
       "        5916.,  5916.,  5916.,  5916.,  5916.,  5914.,  5914.,  5914.,\n",
       "        5914.,  5914.,  5917.,  5917.,  5917.,  5917.,  5917.,  5920.,\n",
       "        5920.,  5920.,  5920.,  5920.,  5925.,  5925.,  5925.,  5925.,\n",
       "        5925.,  5928.,  5928.,  5928.,  5928.,  5928.,  5938.,  5938.,\n",
       "        5938.,  5938.,  5938.,  5950.,  5950.,  5950.,  5950.,  5950.,\n",
       "        5949.,  5949.,  5949.,  5949.,  5949.,  5947.,  5947.,  5947.,\n",
       "        5947.,  5947.,  5947.,  5947.,  5947.,  5947.,  5947.,  5949.,\n",
       "        5949.,  5949.,  5949.,  5949.,  5946.,  5946.,  5946.,  5946.,\n",
       "        5946.,  5951.,  5951.,  5951.,  5951.,  5951.])"
      ]
     },
     "execution_count": 254,
     "metadata": {},
     "output_type": "execute_result"
    }
   ],
   "source": [
    "minp"
   ]
  },
  {
   "cell_type": "code",
   "execution_count": 238,
   "metadata": {
    "collapsed": false
   },
   "outputs": [
    {
     "data": {
      "text/plain": [
       "DatetimeIndex(['2016-02-24 09:01:00', '2016-02-24 09:06:00',\n",
       "               '2016-02-24 09:11:00', '2016-02-24 09:16:00',\n",
       "               '2016-02-24 09:21:00', '2016-02-24 09:26:00',\n",
       "               '2016-02-24 09:31:00', '2016-02-24 09:36:00',\n",
       "               '2016-02-24 09:41:00', '2016-02-24 09:46:00',\n",
       "               '2016-02-24 09:51:00', '2016-02-24 09:56:00',\n",
       "               '2016-02-24 10:01:00', '2016-02-24 10:06:00',\n",
       "               '2016-02-24 10:11:00', '2016-02-24 10:16:00',\n",
       "               '2016-02-24 10:21:00', '2016-02-24 10:26:00',\n",
       "               '2016-02-24 10:31:00', '2016-02-24 10:36:00',\n",
       "               '2016-02-24 10:41:00', '2016-02-24 10:46:00',\n",
       "               '2016-02-24 10:51:00', '2016-02-24 10:56:00',\n",
       "               '2016-02-24 11:01:00', '2016-02-24 11:06:00',\n",
       "               '2016-02-24 11:11:00', '2016-02-24 11:16:00',\n",
       "               '2016-02-24 11:21:00', '2016-02-24 11:26:00'],\n",
       "              dtype='datetime64[ns]', freq=None)"
      ]
     },
     "execution_count": 238,
     "metadata": {},
     "output_type": "execute_result"
    }
   ],
   "source": [
    "open_am.index[::5]"
   ]
  },
  {
   "cell_type": "code",
   "execution_count": 235,
   "metadata": {
    "collapsed": false
   },
   "outputs": [
    {
     "name": "stdout",
     "output_type": "stream",
     "text": [
      "5894.0\n",
      "5900.0\n",
      "5890.0\n",
      "5889.0\n"
     ]
    }
   ],
   "source": [
    "for i in open_am[1:5]:\n",
    "    print(i)"
   ]
  },
  {
   "cell_type": "code",
   "execution_count": 232,
   "metadata": {
    "collapsed": false
   },
   "outputs": [
    {
     "data": {
      "text/plain": [
       "array([ 5954.,  5947.,  5949.,  5948.,  5950.,  5964.,  5959.,  5951.,\n",
       "        5930.,  5930.,  5929.,  5930.,  5914.,  5924.,  5935.,  5950.,\n",
       "        5933.,  5891.,  5889.,  5908.,  5896.,  5879.,  5873.,  5866.,\n",
       "        5854.,  5860.,  5866.,  5862.,  5865.,  5879.])"
      ]
     },
     "execution_count": 232,
     "metadata": {},
     "output_type": "execute_result"
    }
   ],
   "source": [
    "p[::-1]"
   ]
  },
  {
   "cell_type": "code",
   "execution_count": null,
   "metadata": {
    "collapsed": true
   },
   "outputs": [],
   "source": []
  },
  {
   "cell_type": "code",
   "execution_count": 248,
   "metadata": {
    "collapsed": false
   },
   "outputs": [],
   "source": [
    "a = np.array([np.nan, np.nan,np.nan])"
   ]
  },
  {
   "cell_type": "code",
   "execution_count": 246,
   "metadata": {
    "collapsed": false
   },
   "outputs": [
    {
     "ename": "AttributeError",
     "evalue": "'numpy.ndarray' object has no attribute 'nanmin'",
     "output_type": "error",
     "traceback": [
      "\u001b[0;31m---------------------------------------------------------------------------\u001b[0m",
      "\u001b[0;31mAttributeError\u001b[0m                            Traceback (most recent call last)",
      "\u001b[0;32m<ipython-input-246-5453dbfec93a>\u001b[0m in \u001b[0;36m<module>\u001b[0;34m()\u001b[0m\n\u001b[0;32m----> 1\u001b[0;31m \u001b[0ma\u001b[0m\u001b[0;34m.\u001b[0m\u001b[0mnanmin\u001b[0m\u001b[0;34m\u001b[0m\u001b[0m\n\u001b[0m",
      "\u001b[0;31mAttributeError\u001b[0m: 'numpy.ndarray' object has no attribute 'nanmin'"
     ]
    }
   ],
   "source": [
    "a.nanmin"
   ]
  },
  {
   "cell_type": "code",
   "execution_count": 250,
   "metadata": {
    "collapsed": false
   },
   "outputs": [
    {
     "name": "stderr",
     "output_type": "stream",
     "text": [
      "/Users/prokapi/anaconda3/lib/python3.5/site-packages/numpy/lib/nanfunctions.py:326: RuntimeWarning: All-NaN slice encountered\n",
      "  warnings.warn(\"All-NaN slice encountered\", RuntimeWarning)\n"
     ]
    },
    {
     "data": {
      "text/plain": [
       "nan"
      ]
     },
     "execution_count": 250,
     "metadata": {},
     "output_type": "execute_result"
    }
   ],
   "source": [
    "np.nanmax(a)"
   ]
  },
  {
   "cell_type": "code",
   "execution_count": 209,
   "metadata": {
    "collapsed": false
   },
   "outputs": [
    {
     "data": {
      "text/plain": [
       "array([  34.,  123.,   nan])"
      ]
     },
     "execution_count": 209,
     "metadata": {},
     "output_type": "execute_result"
    }
   ],
   "source": [
    "a[::-1]"
   ]
  },
  {
   "cell_type": "code",
   "execution_count": 201,
   "metadata": {
    "collapsed": false
   },
   "outputs": [
    {
     "data": {
      "text/plain": [
       "True"
      ]
     },
     "execution_count": 201,
     "metadata": {},
     "output_type": "execute_result"
    }
   ],
   "source": [
    "np.isnan(b)"
   ]
  },
  {
   "cell_type": "code",
   "execution_count": null,
   "metadata": {
    "collapsed": true
   },
   "outputs": [],
   "source": []
  },
  {
   "cell_type": "code",
   "execution_count": 152,
   "metadata": {
    "collapsed": false
   },
   "outputs": [],
   "source": [
    "t = open_am.index[1]"
   ]
  },
  {
   "cell_type": "code",
   "execution_count": 155,
   "metadata": {
    "collapsed": false
   },
   "outputs": [
    {
     "data": {
      "text/plain": [
       "datetime.time(9, 1)"
      ]
     },
     "execution_count": 155,
     "metadata": {},
     "output_type": "execute_result"
    }
   ],
   "source": [
    "t.time()"
   ]
  },
  {
   "cell_type": "code",
   "execution_count": 159,
   "metadata": {
    "collapsed": false
   },
   "outputs": [
    {
     "data": {
      "text/plain": [
       "'Wed Feb 24 09:01:00 2016'"
      ]
     },
     "execution_count": 159,
     "metadata": {},
     "output_type": "execute_result"
    }
   ],
   "source": [
    "pd.to_datetime('{} 1005')"
   ]
  },
  {
   "cell_type": "code",
   "execution_count": 144,
   "metadata": {
    "collapsed": false
   },
   "outputs": [],
   "source": [
    "#あまりスマートでないな・・・・終値はこれから4分ずらせばよいだけかな\n",
    "open_price_am_first = open_am.head(1)\n",
    "open_price_am = open_am.iloc[1::5]\n",
    "open_price_pm_first = open_pm.head(1)\n",
    "open_price_pm = open_pm.iloc[1::5]\n",
    "open_price  = pd.concat([open_price_am_first, open_price_am, open_price_pm_first, open_price_pm])"
   ]
  },
  {
   "cell_type": "code",
   "execution_count": 216,
   "metadata": {
    "collapsed": false
   },
   "outputs": [
    {
     "data": {
      "text/plain": [
       "151"
      ]
     },
     "execution_count": 216,
     "metadata": {},
     "output_type": "execute_result"
    }
   ],
   "source": [
    "len(open_am)"
   ]
  },
  {
   "cell_type": "code",
   "execution_count": 219,
   "metadata": {
    "collapsed": false
   },
   "outputs": [
    {
     "data": {
      "text/plain": [
       "array([  0,   5,  10,  15,  20,  25,  30,  35,  40,  45,  50,  55,  60,\n",
       "        65,  70,  75,  80,  85,  90,  95, 100, 105, 110, 115, 120, 125,\n",
       "       130, 135, 140, 145])"
      ]
     },
     "execution_count": 219,
     "metadata": {},
     "output_type": "execute_result"
    }
   ],
   "source": [
    "np.arange(0,150,5)"
   ]
  },
  {
   "cell_type": "code",
   "execution_count": null,
   "metadata": {
    "collapsed": true
   },
   "outputs": [],
   "source": [
    "open"
   ]
  },
  {
   "cell_type": "code",
   "execution_count": 218,
   "metadata": {
    "collapsed": true
   },
   "outputs": [],
   "source": [
    "np.arange?"
   ]
  },
  {
   "cell_type": "code",
   "execution_count": 215,
   "metadata": {
    "collapsed": false
   },
   "outputs": [
    {
     "data": {
      "text/plain": [
       "array([ 5879.,  5894.,  5900.,  5890.,  5889.])"
      ]
     },
     "execution_count": 215,
     "metadata": {},
     "output_type": "execute_result"
    }
   ],
   "source": [
    "open_am[1:6].values"
   ]
  },
  {
   "cell_type": "code",
   "execution_count": 214,
   "metadata": {
    "collapsed": false
   },
   "outputs": [
    {
     "data": {
      "text/plain": [
       "2016-02-24 09:06:00    5865\n",
       "2016-02-24 09:07:00    5847\n",
       "2016-02-24 09:08:00    5849\n",
       "2016-02-24 09:09:00    5848\n",
       "2016-02-24 09:10:00    5848\n",
       "Name: open, dtype: float64"
      ]
     },
     "execution_count": 214,
     "metadata": {},
     "output_type": "execute_result"
    }
   ],
   "source": [
    "open_am[6:11]"
   ]
  },
  {
   "cell_type": "code",
   "execution_count": 148,
   "metadata": {
    "collapsed": false
   },
   "outputs": [],
   "source": [
    "close_price_am_first = close_am.head(1)\n",
    "close_price_am = close_am.iloc[5::5]\n",
    "close_price_pm_first = close_pm.head(1)\n",
    "close_price_pm = close_pm.iloc[5::5]\n",
    "close_price  = pd.concat([close_price_am_first, close_price_am, close_price_pm_first, close_price_pm])"
   ]
  },
  {
   "cell_type": "code",
   "execution_count": 149,
   "metadata": {
    "collapsed": false
   },
   "outputs": [
    {
     "data": {
      "text/plain": [
       "2016-02-24 09:00:00    5900\n",
       "2016-02-24 09:05:00    5889\n",
       "2016-02-24 09:10:00    5848\n",
       "2016-02-24 09:15:00    5869\n",
       "2016-02-24 09:20:00    5862\n",
       "2016-02-24 09:25:00    5857\n",
       "2016-02-24 09:30:00    5863\n",
       "2016-02-24 09:35:00    5874\n",
       "2016-02-24 09:40:00    5878\n",
       "2016-02-24 09:45:00    5893\n",
       "2016-02-24 09:50:00    5904\n",
       "2016-02-24 09:55:00    5889\n",
       "2016-02-24 10:00:00    5894\n",
       "2016-02-24 10:05:00    5902\n",
       "2016-02-24 10:10:00    5941\n",
       "2016-02-24 10:15:00    5940\n",
       "2016-02-24 10:20:00    5934\n",
       "2016-02-24 10:25:00    5920\n",
       "2016-02-24 10:30:00    5919\n",
       "2016-02-24 10:35:00    5920\n",
       "2016-02-24 10:40:00    5926\n",
       "2016-02-24 10:45:00    5928\n",
       "2016-02-24 10:50:00    5938\n",
       "2016-02-24 10:55:00    5950\n",
       "2016-02-24 11:00:00    5963\n",
       "2016-02-24 11:05:00    5950\n",
       "2016-02-24 11:10:00    5948\n",
       "2016-02-24 11:15:00    5956\n",
       "2016-02-24 11:20:00    5948\n",
       "2016-02-24 11:25:00    5951\n",
       "2016-02-24 11:30:00    5968\n",
       "Name: open, dtype: float64"
      ]
     },
     "execution_count": 149,
     "metadata": {},
     "output_type": "execute_result"
    }
   ],
   "source": [
    "close_price[:31]"
   ]
  },
  {
   "cell_type": "code",
   "execution_count": null,
   "metadata": {
    "collapsed": true
   },
   "outputs": [],
   "source": []
  },
  {
   "cell_type": "code",
   "execution_count": 96,
   "metadata": {
    "collapsed": false
   },
   "outputs": [
    {
     "data": {
      "text/plain": [
       "[302, 302, 302, 302, 302, 302, 302, 302, 302, 302]"
      ]
     },
     "execution_count": 96,
     "metadata": {},
     "output_type": "execute_result"
    }
   ],
   "source": [
    "tes.data_num_lis[:10]"
   ]
  },
  {
   "cell_type": "code",
   "execution_count": 102,
   "metadata": {
    "collapsed": false
   },
   "outputs": [],
   "source": [
    "toyota = tes.get_four_prices_volume(7203)"
   ]
  },
  {
   "cell_type": "code",
   "execution_count": 104,
   "metadata": {
    "collapsed": false
   },
   "outputs": [
    {
     "data": {
      "text/plain": [
       "open         5968\n",
       "high         5968\n",
       "low          5968\n",
       "close        5968\n",
       "volume    5745900\n",
       "Name: 2016-02-24 11:30:00, dtype: float64"
      ]
     },
     "execution_count": 104,
     "metadata": {},
     "output_type": "execute_result"
    }
   ],
   "source": [
    "toyota.iloc[150]"
   ]
  },
  {
   "cell_type": "code",
   "execution_count": null,
   "metadata": {
    "collapsed": true
   },
   "outputs": [],
   "source": []
  },
  {
   "cell_type": "code",
   "execution_count": null,
   "metadata": {
    "collapsed": true
   },
   "outputs": [],
   "source": []
  },
  {
   "cell_type": "code",
   "execution_count": null,
   "metadata": {
    "collapsed": true
   },
   "outputs": [],
   "source": []
  },
  {
   "cell_type": "code",
   "execution_count": 2,
   "metadata": {
    "collapsed": false
   },
   "outputs": [],
   "source": [
    "#まずはファイルの読み込み\n",
    "#目標は、銘柄コードを入れると、その銘柄のデータをdataframeにして返す関数\n",
    "#まず、銘柄コードの場所を特定してみよう\n",
    "#データの本数は必ず302本なのだろうか？？そこがずれるとだめなんだけど。\n",
    "#ん？まずはデータの本数だけを拾っていくべきなんだな。\n",
    "#それをやってみよう\n",
    "#データの量がかなり多いから、numpyにした方がよいかもしれない。\n",
    "# np.loadtxt(filename,delimiter='\\t')\n",
    "\n",
    "filename = '/Users/prokapi/iPythonNotebook_file/20160224_min20160224s.txt'\n",
    "with open(filename, 'r',encoding='EUC-JP') as a_file:\n",
    "    fr = a_file.readlines()"
   ]
  },
  {
   "cell_type": "code",
   "execution_count": 3,
   "metadata": {
    "collapsed": false
   },
   "outputs": [],
   "source": [
    "#最初に日付を取得する。ファイル名でもついてるけど、一応中から取得。\n",
    "date = fr[0].split('\\t')[0]\n",
    "#各銘柄のヘッダー情報と、株価情報にわける。さらに株価情報は時間と、4本値と出来高を分ける。\n",
    "#ヘッダー情報はそこから銘柄コードとデータ数と小数点数に分ける\n",
    "#一列のデータが7個と4本値のデータが1個になる。あとは日付か。\n",
    "header = []\n",
    "time_series = []\n",
    "four_values_lis = []\n",
    "volume_lis = []\n",
    "time_lis = []\n",
    "\n",
    "#欠損値がハイフンになっているので、それをnp.nanに変換するための関数\n",
    "n = np.nan\n",
    "def f(x):\n",
    "    if x == '-':\n",
    "        return n\n",
    "    else:\n",
    "        return int(x)\n",
    "\n",
    "for i in fr[1:]: #日付のデータを除いてる\n",
    "    split = i.split('\\t')\n",
    "    header.append(split[:3]) #最初の3つのデータは、銘柄コード・データ本数・小数点\n",
    "    p = split[3:] #それ以降が、時間と4本値と出来高の6セットが9時から15時まで続くデータ\n",
    "    time_lis.append(p[::6][:-1])\n",
    "    ary = range(len(p))\n",
    "    four_values = [p[x] for x in ary if  (x % 6 != 0) and (x % 6 != 5)] #時間と出来高を除く\n",
    "    four_values =np.array(list(map(f,four_values))) #欠損値をnp.nanにして、価格をintにする\n",
    "    four_values_lis.append(four_values)\n",
    "#     four_values_lis = np.append(four_values_lis, four_values)\n",
    "    volume = [p[x] for x in ary if x % 6 == 5]\n",
    "    volume =np.array(list(map(f,volume))) \n",
    "    volume_lis.append(volume) \n",
    "\n",
    "#ヘッダーから銘柄コードと、データ数と、小数点を抽出\n",
    "stock_code_lis = [x[0] for x in header]\n",
    "stock_code_lis = [int(x) for x in stock_code_lis] #文字列から整数型にしておく\n",
    "data_num_lis = [int(x[1]) for x in header]\n",
    "decimal_lis = [int(x[2]) for x in header]\n"
   ]
  },
  {
   "cell_type": "code",
   "execution_count": 41,
   "metadata": {
    "collapsed": true
   },
   "outputs": [],
   "source": [
    "#銘柄コードを入れると、時刻データ、株価、出来高のリストを返す関数を作る\n",
    "def get_time_series(stock_code):\n",
    "    try:\n",
    "        index = stock_code_lis.index(stock_code)\n",
    "        t = time_lis[index]\n",
    "        t = [date + x for x in t] #日付を付け足しておく。dateは一番最初に取得してある日付。\n",
    "        dt = pd.to_datetime(t) #pandasのtimestampオブジェクトに変換する\n",
    "        return dt\n",
    "    except:\n",
    "        print('Your code is not in the list.')\n",
    "def get_volume(stock_code):\n",
    "    try:\n",
    "        index = stock_code_lis.index(stock_code)\n",
    "        volume = volume_lis[index]\n",
    "        #時系列の取得\n",
    "        time_stamps = get_time_series(stock_code)\n",
    "        #pandasデータフレームに変換する\n",
    "        df = pd.DataFrame(volume, index=time_stamps, columns=['volume'])\n",
    "        return df\n",
    "    except:\n",
    "        print('Your code is not in the list.')\n",
    "def get_four_prices(stock_code):\n",
    "    try:\n",
    "        index = stock_code_lis.index(stock_code)\n",
    "        print('for price, index is {}'.format(index))\n",
    "        data_num = data_num_lis[index]\n",
    "        #小数点合わせる #厳密にやるならdecimalを使う必要があるが、、numpyでは扱えないのでやめる\n",
    "        #だから差分を比較するとかするときは注意が必要！地雷になりませんように。。\n",
    "        four_prices = four_values_lis[index] /10**decimal_lis[index]\n",
    "#         print(decimal_lis[index])\n",
    "        #2次元配列に変える\n",
    "        four_prices.shape = (four_prices.size//4, 4)\n",
    "        #時系列の取得\n",
    "        time_stamps = get_time_series(stock_code)\n",
    "        #pandasデータフレームに変換する\n",
    "        df = pd.DataFrame(four_prices, index=time_stamps, columns=['open','high','low','close'])\n",
    "#         print(four_prices.size)\n",
    "#         print(data_num)\n",
    "#         print(len(four_prices))\n",
    "        if len(df) == data_num: #データの数が合っているかチェックする\n",
    "            return df\n",
    "        else:\n",
    "            return print('data_num error')\n",
    "    except:\n",
    "        print('Your code is not in the list.')\n",
    "\n",
    "def get_four_prices_volume(stock_code):\n",
    "    price_df = get_four_prices(stock_code)\n",
    "    volume_df = get_volume(stock_code)\n",
    "    df = pd.concat([price_df, volume_df], axis=1)\n",
    "    return df"
   ]
  },
  {
   "cell_type": "code",
   "execution_count": 50,
   "metadata": {
    "collapsed": false
   },
   "outputs": [
    {
     "name": "stdout",
     "output_type": "stream",
     "text": [
      "for price, index is 1989\n"
     ]
    }
   ],
   "source": [
    "#株価の取得\n",
    "stock_code = 7203\n",
    "df1 = get_four_prices_volume(stock_code)"
   ]
  },
  {
   "cell_type": "code",
   "execution_count": null,
   "metadata": {
    "collapsed": true
   },
   "outputs": [],
   "source": [
    "#ここまででクラスなどにまとめることにしよう\n",
    "#5分足にまとめてもよいかもしれないな。。\n",
    "#ローソク足で1日分を1分で表示するのはかなり無理ある。"
   ]
  },
  {
   "cell_type": "code",
   "execution_count": null,
   "metadata": {
    "collapsed": true
   },
   "outputs": [],
   "source": []
  },
  {
   "cell_type": "code",
   "execution_count": null,
   "metadata": {
    "collapsed": true
   },
   "outputs": [],
   "source": []
  },
  {
   "cell_type": "code",
   "execution_count": 393,
   "metadata": {
    "collapsed": true
   },
   "outputs": [],
   "source": [
    "#株価の表示\n",
    "#まずは日付をmatplotlibの関数を使ってmatplotlib内部の日時表記に変更する\n",
    "#そのためにはpython標準のdatetimeにする必要がある。ここでawareにしたほうがよいかもしれない。があとでやるか\n",
    "#いや、もう標準時での時間として処理してしまえばよい。ダウとかとデータが混ざらなければ、日本を絶対時間にしてもよい。かな？\n",
    "import matplotlib.dates as md\n",
    "import datetime\n",
    "df_name = t\n",
    "\n",
    "pytime = [x.to_datetime() for x in df_name.index]\n",
    "mpltime = [md.date2num(x) for x in pytime]\n",
    "#次にohlc形式のリストを作ろう\n",
    "ohlc = [(t, v[0],v[1],v[2],v[3]) for t, v in zip(mpltime, df_name.values)]\n"
   ]
  },
  {
   "cell_type": "code",
   "execution_count": 397,
   "metadata": {
    "collapsed": false
   },
   "outputs": [
    {
     "data": {
      "image/png": "[encoded data removed]",
      "text/plain": [
       "<matplotlib.figure.Figure at 0x13bc88a20>"
      ]
     },
     "metadata": {},
     "output_type": "display_data"
    }
   ],
   "source": [
    "import matplotlib.pyplot as plt\n",
    "from matplotlib.dates import DateFormatter\n",
    "from matplotlib.finance import candlestick_ohlc\n",
    "\n",
    "# dayFormatter = DateFormatter('%d')      # e.g., 12\n",
    "fig = plt.figure(figsize=(12, 8))\n",
    "ax = fig.add_subplot(111)\n",
    "# fig.subplots_adjust(bottom=0.2)\n",
    "\n",
    "# minute = md.MinuteLocator()\n",
    "hour = md.HourLocator()\n",
    "ax.xaxis.set_major_locator(hour)\n",
    "\n",
    "dayFormatter = md.DateFormatter('%H:%M')\n",
    "ax.xaxis.set_major_formatter(dayFormatter)\n",
    "\n",
    "\n",
    "# ax.xaxis.set_minor_locator(alldays)\n",
    "#ax.xaxis.set_minor_formatter(dayFormatter)\n",
    "#plot_day_summary(ax, quotes, ticksize=3)\n",
    "\n",
    "candlestick_ohlc(ax, ohlc,width=0.0025)\n",
    "\n",
    "# ax.xaxis_date()\n",
    "# ax.autoscale_view()\n",
    "plt.setp(plt.gca().get_xticklabels(), rotation=45, horizontalalignment='right')\n",
    "\n",
    "plt.show()"
   ]
  },
  {
   "cell_type": "code",
   "execution_count": null,
   "metadata": {
    "collapsed": true
   },
   "outputs": [],
   "source": []
  },
  {
   "cell_type": "code",
   "execution_count": null,
   "metadata": {
    "collapsed": true
   },
   "outputs": [],
   "source": []
  },
  {
   "cell_type": "code",
   "execution_count": 53,
   "metadata": {
    "collapsed": false
   },
   "outputs": [
    {
     "data": {
      "text/plain": [
       "[(736018.375, 5900.0, 5900.0, 5877.0, 5877.0),\n",
       " (736018.3756944444, 5879.0, 5899.0, 5873.0, 5893.0),\n",
       " (736018.3763888889, 5894.0, 5919.0, 5888.0, 5903.0),\n",
       " (736018.3770833333, 5900.0, 5900.0, 5887.0, 5889.0),\n",
       " (736018.3777777777, 5890.0, 5891.0, 5883.0, 5889.0),\n",
       " (736018.3784722222, 5889.0, 5889.0, 5866.0, 5868.0),\n",
       " (736018.3791666667, 5865.0, 5867.0, 5840.0, 5845.0),\n",
       " (736018.379861111, 5847.0, 5857.0, 5835.0, 5849.0),\n",
       " (736018.3805555556, 5849.0, 5857.0, 5842.0, 5850.0),\n",
       " (736018.38125, 5848.0, 5867.0, 5844.0, 5850.0)]"
      ]
     },
     "execution_count": 53,
     "metadata": {},
     "output_type": "execute_result"
    }
   ],
   "source": [
    "ohlc[:10]"
   ]
  },
  {
   "cell_type": "code",
   "execution_count": 51,
   "metadata": {
    "collapsed": false
   },
   "outputs": [
    {
     "data": {
      "text/html": [
       "<div>\n",
       "<table border=\"1\" class=\"dataframe\">\n",
       "  <thead>\n",
       "    <tr style=\"text-align: right;\">\n",
       "      <th></th>\n",
       "      <th>open</th>\n",
       "      <th>high</th>\n",
       "      <th>low</th>\n",
       "      <th>close</th>\n",
       "      <th>volume</th>\n",
       "    </tr>\n",
       "  </thead>\n",
       "  <tbody>\n",
       "    <tr>\n",
       "      <th>2016-02-24 09:00:00</th>\n",
       "      <td>5900</td>\n",
       "      <td>5900</td>\n",
       "      <td>5877</td>\n",
       "      <td>5877</td>\n",
       "      <td>700300</td>\n",
       "    </tr>\n",
       "    <tr>\n",
       "      <th>2016-02-24 09:01:00</th>\n",
       "      <td>5879</td>\n",
       "      <td>5899</td>\n",
       "      <td>5873</td>\n",
       "      <td>5893</td>\n",
       "      <td>750600</td>\n",
       "    </tr>\n",
       "    <tr>\n",
       "      <th>2016-02-24 09:02:00</th>\n",
       "      <td>5894</td>\n",
       "      <td>5919</td>\n",
       "      <td>5888</td>\n",
       "      <td>5903</td>\n",
       "      <td>907600</td>\n",
       "    </tr>\n",
       "    <tr>\n",
       "      <th>2016-02-24 09:03:00</th>\n",
       "      <td>5900</td>\n",
       "      <td>5900</td>\n",
       "      <td>5887</td>\n",
       "      <td>5889</td>\n",
       "      <td>963000</td>\n",
       "    </tr>\n",
       "    <tr>\n",
       "      <th>2016-02-24 09:04:00</th>\n",
       "      <td>5890</td>\n",
       "      <td>5891</td>\n",
       "      <td>5883</td>\n",
       "      <td>5889</td>\n",
       "      <td>992400</td>\n",
       "    </tr>\n",
       "  </tbody>\n",
       "</table>\n",
       "</div>"
      ],
      "text/plain": [
       "                     open  high   low  close  volume\n",
       "2016-02-24 09:00:00  5900  5900  5877   5877  700300\n",
       "2016-02-24 09:01:00  5879  5899  5873   5893  750600\n",
       "2016-02-24 09:02:00  5894  5919  5888   5903  907600\n",
       "2016-02-24 09:03:00  5900  5900  5887   5889  963000\n",
       "2016-02-24 09:04:00  5890  5891  5883   5889  992400"
      ]
     },
     "execution_count": 51,
     "metadata": {},
     "output_type": "execute_result"
    }
   ],
   "source": [
    "df1.head()"
   ]
  },
  {
   "cell_type": "code",
   "execution_count": null,
   "metadata": {
    "collapsed": true
   },
   "outputs": [],
   "source": []
  },
  {
   "cell_type": "code",
   "execution_count": null,
   "metadata": {
    "collapsed": true
   },
   "outputs": [],
   "source": []
  },
  {
   "cell_type": "code",
   "execution_count": null,
   "metadata": {
    "collapsed": true
   },
   "outputs": [],
   "source": []
  },
  {
   "cell_type": "code",
   "execution_count": 109,
   "metadata": {
    "collapsed": true
   },
   "outputs": [],
   "source": [
    "df1 = pd.DataFrame(p, index=t, columns=['Open','High','Low','Close'])"
   ]
  },
  {
   "cell_type": "code",
   "execution_count": 110,
   "metadata": {
    "collapsed": true
   },
   "outputs": [],
   "source": [
    "df2 = pd.DataFrame(v, index=t, columns=['Volume'])"
   ]
  },
  {
   "cell_type": "code",
   "execution_count": 111,
   "metadata": {
    "collapsed": false
   },
   "outputs": [
    {
     "data": {
      "text/html": [
       "<div>\n",
       "<table border=\"1\" class=\"dataframe\">\n",
       "  <thead>\n",
       "    <tr style=\"text-align: right;\">\n",
       "      <th></th>\n",
       "      <th>Open</th>\n",
       "      <th>High</th>\n",
       "      <th>Low</th>\n",
       "      <th>Close</th>\n",
       "    </tr>\n",
       "  </thead>\n",
       "  <tbody>\n",
       "    <tr>\n",
       "      <th>2016-02-24 09:00:00</th>\n",
       "      <td>15851.13</td>\n",
       "      <td>15852.48</td>\n",
       "      <td>15851.13</td>\n",
       "      <td>15852.48</td>\n",
       "    </tr>\n",
       "    <tr>\n",
       "      <th>2016-02-24 09:01:00</th>\n",
       "      <td>15848.42</td>\n",
       "      <td>15848.42</td>\n",
       "      <td>15839.79</td>\n",
       "      <td>15839.79</td>\n",
       "    </tr>\n",
       "    <tr>\n",
       "      <th>2016-02-24 09:02:00</th>\n",
       "      <td>15851.62</td>\n",
       "      <td>15862.06</td>\n",
       "      <td>15851.62</td>\n",
       "      <td>15862.06</td>\n",
       "    </tr>\n",
       "    <tr>\n",
       "      <th>2016-02-24 09:03:00</th>\n",
       "      <td>15859.28</td>\n",
       "      <td>15859.28</td>\n",
       "      <td>15817.79</td>\n",
       "      <td>15817.79</td>\n",
       "    </tr>\n",
       "    <tr>\n",
       "      <th>2016-02-24 09:04:00</th>\n",
       "      <td>15820.66</td>\n",
       "      <td>15824.78</td>\n",
       "      <td>15819.99</td>\n",
       "      <td>15819.99</td>\n",
       "    </tr>\n",
       "  </tbody>\n",
       "</table>\n",
       "</div>"
      ],
      "text/plain": [
       "                         Open      High       Low     Close\n",
       "2016-02-24 09:00:00  15851.13  15852.48  15851.13  15852.48\n",
       "2016-02-24 09:01:00  15848.42  15848.42  15839.79  15839.79\n",
       "2016-02-24 09:02:00  15851.62  15862.06  15851.62  15862.06\n",
       "2016-02-24 09:03:00  15859.28  15859.28  15817.79  15817.79\n",
       "2016-02-24 09:04:00  15820.66  15824.78  15819.99  15819.99"
      ]
     },
     "execution_count": 111,
     "metadata": {},
     "output_type": "execute_result"
    }
   ],
   "source": [
    "df1.head()"
   ]
  },
  {
   "cell_type": "code",
   "execution_count": 5,
   "metadata": {
    "collapsed": false
   },
   "outputs": [
    {
     "name": "stdout",
     "output_type": "stream",
     "text": [
      "2014-11-09 10:00:00\n",
      "<class 'pandas.tslib.Timestamp'>\n",
      "True\n"
     ]
    }
   ],
   "source": [
    "#時系列データの作成\n",
    "#それっぽい形でデータを渡すと、timestampオブジェクトに変換してくれるらしい。超便利!!\n",
    "dt = pd.to_datetime('2014-11-09 10:00')\n",
    "print(dt)\n",
    "print(type(dt))\n",
    "\n",
    "import datetime\n",
    "print(isinstance(dt, datetime.datetime))"
   ]
  },
  {
   "cell_type": "code",
   "execution_count": 112,
   "metadata": {
    "collapsed": false
   },
   "outputs": [
    {
     "data": {
      "text/html": [
       "<div>\n",
       "<table border=\"1\" class=\"dataframe\">\n",
       "  <thead>\n",
       "    <tr style=\"text-align: right;\">\n",
       "      <th></th>\n",
       "      <th>Volume</th>\n",
       "    </tr>\n",
       "  </thead>\n",
       "  <tbody>\n",
       "    <tr>\n",
       "      <th>2016-02-24 09:00:00</th>\n",
       "      <td>1149340</td>\n",
       "    </tr>\n",
       "    <tr>\n",
       "      <th>2016-02-24 09:01:00</th>\n",
       "      <td>1252660</td>\n",
       "    </tr>\n",
       "    <tr>\n",
       "      <th>2016-02-24 09:02:00</th>\n",
       "      <td>1347849</td>\n",
       "    </tr>\n",
       "    <tr>\n",
       "      <th>2016-02-24 09:03:00</th>\n",
       "      <td>1712882</td>\n",
       "    </tr>\n",
       "    <tr>\n",
       "      <th>2016-02-24 09:04:00</th>\n",
       "      <td>1835898</td>\n",
       "    </tr>\n",
       "  </tbody>\n",
       "</table>\n",
       "</div>"
      ],
      "text/plain": [
       "                      Volume\n",
       "2016-02-24 09:00:00  1149340\n",
       "2016-02-24 09:01:00  1252660\n",
       "2016-02-24 09:02:00  1347849\n",
       "2016-02-24 09:03:00  1712882\n",
       "2016-02-24 09:04:00  1835898"
      ]
     },
     "execution_count": 112,
     "metadata": {},
     "output_type": "execute_result"
    }
   ],
   "source": [
    "df2.head()"
   ]
  },
  {
   "cell_type": "code",
   "execution_count": 114,
   "metadata": {
    "collapsed": false
   },
   "outputs": [],
   "source": [
    "result = pd.concat([df1, df2], axis=1)"
   ]
  },
  {
   "cell_type": "code",
   "execution_count": 115,
   "metadata": {
    "collapsed": false
   },
   "outputs": [
    {
     "data": {
      "text/html": [
       "<div>\n",
       "<table border=\"1\" class=\"dataframe\">\n",
       "  <thead>\n",
       "    <tr style=\"text-align: right;\">\n",
       "      <th></th>\n",
       "      <th>Open</th>\n",
       "      <th>High</th>\n",
       "      <th>Low</th>\n",
       "      <th>Close</th>\n",
       "      <th>Volume</th>\n",
       "    </tr>\n",
       "  </thead>\n",
       "  <tbody>\n",
       "    <tr>\n",
       "      <th>2016-02-24 09:00:00</th>\n",
       "      <td>15851.13</td>\n",
       "      <td>15852.48</td>\n",
       "      <td>15851.13</td>\n",
       "      <td>15852.48</td>\n",
       "      <td>1149340</td>\n",
       "    </tr>\n",
       "    <tr>\n",
       "      <th>2016-02-24 09:01:00</th>\n",
       "      <td>15848.42</td>\n",
       "      <td>15848.42</td>\n",
       "      <td>15839.79</td>\n",
       "      <td>15839.79</td>\n",
       "      <td>1252660</td>\n",
       "    </tr>\n",
       "    <tr>\n",
       "      <th>2016-02-24 09:02:00</th>\n",
       "      <td>15851.62</td>\n",
       "      <td>15862.06</td>\n",
       "      <td>15851.62</td>\n",
       "      <td>15862.06</td>\n",
       "      <td>1347849</td>\n",
       "    </tr>\n",
       "    <tr>\n",
       "      <th>2016-02-24 09:03:00</th>\n",
       "      <td>15859.28</td>\n",
       "      <td>15859.28</td>\n",
       "      <td>15817.79</td>\n",
       "      <td>15817.79</td>\n",
       "      <td>1712882</td>\n",
       "    </tr>\n",
       "    <tr>\n",
       "      <th>2016-02-24 09:04:00</th>\n",
       "      <td>15820.66</td>\n",
       "      <td>15824.78</td>\n",
       "      <td>15819.99</td>\n",
       "      <td>15819.99</td>\n",
       "      <td>1835898</td>\n",
       "    </tr>\n",
       "  </tbody>\n",
       "</table>\n",
       "</div>"
      ],
      "text/plain": [
       "                         Open      High       Low     Close   Volume\n",
       "2016-02-24 09:00:00  15851.13  15852.48  15851.13  15852.48  1149340\n",
       "2016-02-24 09:01:00  15848.42  15848.42  15839.79  15839.79  1252660\n",
       "2016-02-24 09:02:00  15851.62  15862.06  15851.62  15862.06  1347849\n",
       "2016-02-24 09:03:00  15859.28  15859.28  15817.79  15817.79  1712882\n",
       "2016-02-24 09:04:00  15820.66  15824.78  15819.99  15819.99  1835898"
      ]
     },
     "execution_count": 115,
     "metadata": {},
     "output_type": "execute_result"
    }
   ],
   "source": [
    "result.head()"
   ]
  },
  {
   "cell_type": "code",
   "execution_count": 117,
   "metadata": {
    "collapsed": false
   },
   "outputs": [
    {
     "data": {
      "text/plain": [
       "DatetimeIndex(['2016-02-24 09:00:00', '2016-02-24 09:01:00',\n",
       "               '2016-02-24 09:02:00', '2016-02-24 09:03:00',\n",
       "               '2016-02-24 09:04:00', '2016-02-24 09:05:00',\n",
       "               '2016-02-24 09:06:00', '2016-02-24 09:07:00',\n",
       "               '2016-02-24 09:08:00', '2016-02-24 09:09:00',\n",
       "               ...\n",
       "               '2016-02-24 14:51:00', '2016-02-24 14:52:00',\n",
       "               '2016-02-24 14:53:00', '2016-02-24 14:54:00',\n",
       "               '2016-02-24 14:55:00', '2016-02-24 14:56:00',\n",
       "               '2016-02-24 14:57:00', '2016-02-24 14:58:00',\n",
       "               '2016-02-24 14:59:00', '2016-02-24 15:00:00'],\n",
       "              dtype='datetime64[ns]', length=302, freq=None)"
      ]
     },
     "execution_count": 117,
     "metadata": {},
     "output_type": "execute_result"
    }
   ],
   "source": [
    "result.index"
   ]
  },
  {
   "cell_type": "code",
   "execution_count": 383,
   "metadata": {
    "collapsed": true
   },
   "outputs": [],
   "source": [
    "#まずは日付をmatplotlibの関数を使ってmatplotlib内部の日時表記に変更する\n",
    "#そのためにはpython標準のdatetimeにする必要がある。ここでawareにしたほうがよいかもしれない。があとでやるか\n",
    "import matplotlib.dates as md\n",
    "import datetime\n",
    "# matplotlib.dates.date2num(d)\n",
    "pytime = [x.to_datetime() for x in result.index]\n",
    "mpltime = [md.date2num(x) for x in pytime]\n"
   ]
  },
  {
   "cell_type": "code",
   "execution_count": 387,
   "metadata": {
    "collapsed": true
   },
   "outputs": [],
   "source": [
    "#次にohlc形式のリストを作ろう\n",
    "ohlc = [(t, v[0],v[1],v[2],v[3]) for t, v in zip(mpltime, result.values)]\n"
   ]
  },
  {
   "cell_type": "code",
   "execution_count": null,
   "metadata": {
    "collapsed": true
   },
   "outputs": [],
   "source": [
    "#次にlocaterとfomatterをせいびする"
   ]
  },
  {
   "cell_type": "code",
   "execution_count": 411,
   "metadata": {
    "collapsed": false
   },
   "outputs": [
    {
     "data": {
      "image/png": "[encoded data removed]",
      "text/plain": [
       "<matplotlib.figure.Figure at 0x125ac3668>"
      ]
     },
     "metadata": {},
     "output_type": "display_data"
    }
   ],
   "source": [
    "#とりあえず表示\n",
    "#これからやればよかったーーー公式あたるべき\n",
    "#http://matplotlib.org/examples/pylab_examples/finance_demo.html\n",
    "\n",
    "import matplotlib.pyplot as plt\n",
    "from matplotlib.dates import DateFormatter\n",
    "from matplotlib.finance import candlestick_ohlc\n",
    "\n",
    "# dayFormatter = DateFormatter('%d')      # e.g., 12\n",
    "fig = plt.figure(figsize=(12, 8))\n",
    "ax = fig.add_subplot(111)\n",
    "# fig.subplots_adjust(bottom=0.2)\n",
    "\n",
    "minute = md.MinuteLocator()\n",
    "ax.xaxis.set_major_locator(minute)\n",
    "\n",
    "dayFormatter = md.DateFormatter('%H:%M')\n",
    "ax.xaxis.set_major_formatter(dayFormatter)\n",
    "\n",
    "\n",
    "# ax.xaxis.set_minor_locator(alldays)\n",
    "#ax.xaxis.set_minor_formatter(dayFormatter)\n",
    "#plot_day_summary(ax, quotes, ticksize=3)\n",
    "\n",
    "candlestick_ohlc(ax, ohlc[:30],width=0.0006)\n",
    "\n",
    "# ax.xaxis_date()\n",
    "# ax.autoscale_view()\n",
    "plt.setp(plt.gca().get_xticklabels(), rotation=45, horizontalalignment='right')\n",
    "\n",
    "plt.show()"
   ]
  },
  {
   "cell_type": "code",
   "execution_count": null,
   "metadata": {
    "collapsed": true
   },
   "outputs": [],
   "source": []
  },
  {
   "cell_type": "code",
   "execution_count": null,
   "metadata": {
    "collapsed": true
   },
   "outputs": [],
   "source": []
  }
 ],
 "metadata": {
  "kernelspec": {
   "display_name": "Python 3",
   "language": "python",
   "name": "python3"
  },
  "language_info": {
   "codemirror_mode": {
    "name": "ipython",
    "version": 3
   },
   "file_extension": ".py",
   "mimetype": "text/x-python",
   "name": "python",
   "nbconvert_exporter": "python",
   "pygments_lexer": "ipython3",
   "version": "3.5.1"
  },
  "toc": {
   "toc_cell": true,
   "toc_number_sections": true,
   "toc_threshold": 6,
   "toc_window_display": false
  }
 },
 "nbformat": 4,
 "nbformat_minor": 0
}
